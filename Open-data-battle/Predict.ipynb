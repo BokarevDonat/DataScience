{
 "cells": [
  {
   "cell_type": "code",
   "execution_count": 75,
   "id": "11331198",
   "metadata": {},
   "outputs": [],
   "source": [
    "import pandas as pd\n",
    "import numpy as np\n",
    "from tensorflow.keras.optimizers import Adam"
   ]
  },
  {
   "cell_type": "code",
   "execution_count": 88,
   "id": "da33a526",
   "metadata": {},
   "outputs": [],
   "source": [
    "inputs_array = np.load('datasets/inputs.npy')\n",
    "inputs=pd.DataFrame(inputs_array, columns=['input'])\n",
    "\n",
    "inputs_array = np.load('datasets/outputs.npy')\n",
    "outputs=pd.DataFrame(inputs_array, columns=['output'])\n"
   ]
  },
  {
   "cell_type": "code",
   "execution_count": 172,
   "id": "db749af3",
   "metadata": {},
   "outputs": [
    {
     "name": "stdout",
     "output_type": "stream",
     "text": [
      "Current loss: 1.039351\n"
     ]
    }
   ],
   "source": [
    "import tensorflow as tf\n",
    "import numpy as np\n",
    "import matplotlib.pyplot as plt\n",
    "# Модель\n",
    "class myModel(object):\n",
    "    def __init__(self):\n",
    "        self.W = tf.Variable(5.971)\n",
    "        self.b = tf.Variable(2.07)\n",
    "\n",
    "    def __call__(self, x):\n",
    "        return self.W * x + self.b\n",
    "    def fit(input, output, loss):\n",
    "        \n",
    "        self.W.assign(0)\n",
    "model = myModel()\n",
    "\n",
    "# Ошибка\n",
    "def loss(target_y, predicted_y):\n",
    "    return tf.reduce_mean(tf.square(target_y - predicted_y))\n",
    "\n",
    "print('Current loss: %1.6f' % loss(model(inputs), outputs).numpy())\n",
    "#Current loss: 64.301849\n"
   ]
  },
  {
   "cell_type": "markdown",
   "id": "2effeb9c",
   "metadata": {},
   "source": [
    "from tensorflow.keras.models import Sequential\n",
    "from tensorflow.keras.layers import Dense, Embedding, MaxPooling1D, Conv1D, GlobalMaxPooling1D, Dropout, LSTM, GRU\n",
    "from tensorflow.keras import utils\n",
    "from sklearn.model_selection import train_test_split"
   ]
  },
  {
   "cell_type": "code",
   "execution_count": 176,
   "id": "55e3c583",
   "metadata": {},
   "outputs": [
    {
     "name": "stdout",
     "output_type": "stream",
     "text": [
      "Model: \"sequential_24\"\n",
      "_________________________________________________________________\n",
      "Layer (type)                 Output Shape              Param #   \n",
      "=================================================================\n",
      "dense_30 (Dense)             (None, 1)                 2         \n",
      "=================================================================\n",
      "Total params: 2\n",
      "Trainable params: 2\n",
      "Non-trainable params: 0\n",
      "_________________________________________________________________\n"
     ]
    }
   ],
   "source": [
    "\n",
    "kmodel = Sequential()\n",
    "kmodel.add(Dense(units=1, input_dim =X.shape[1]))\n",
    "kmodel.compile(loss=loss, optimizer='sgd', metrics=loss)\n",
    "kmodel.summary()"
   ]
  },
  {
   "cell_type": "code",
   "execution_count": 177,
   "id": "dd3d8cb8",
   "metadata": {},
   "outputs": [
    {
     "name": "stdout",
     "output_type": "stream",
     "text": [
      "Epoch 1/100\n",
      "32/32 - 0s - loss: 25.1139\n",
      "Epoch 2/100\n",
      "32/32 - 0s - loss: 7.2320\n",
      "Epoch 3/100\n",
      "32/32 - 0s - loss: 2.5344\n",
      "Epoch 4/100\n",
      "32/32 - 0s - loss: 1.4216\n",
      "Epoch 5/100\n",
      "32/32 - 0s - loss: 1.1546\n",
      "Epoch 6/100\n",
      "32/32 - 0s - loss: 1.0666\n",
      "Epoch 7/100\n",
      "32/32 - 0s - loss: 1.0389\n",
      "Epoch 8/100\n",
      "32/32 - 0s - loss: 1.0305\n",
      "Epoch 9/100\n",
      "32/32 - 0s - loss: 1.0510\n",
      "Epoch 10/100\n",
      "32/32 - 0s - loss: 1.0275\n",
      "Epoch 11/100\n",
      "32/32 - 0s - loss: 1.0264\n",
      "Epoch 12/100\n",
      "32/32 - 0s - loss: 1.0557\n",
      "Epoch 13/100\n",
      "32/32 - 0s - loss: 1.0378\n",
      "Epoch 14/100\n",
      "32/32 - 0s - loss: 1.0365\n",
      "Epoch 15/100\n",
      "32/32 - 0s - loss: 1.0357\n",
      "Epoch 16/100\n",
      "32/32 - 0s - loss: 1.0299\n",
      "Epoch 17/100\n",
      "32/32 - 0s - loss: 1.0435\n",
      "Epoch 18/100\n",
      "32/32 - 0s - loss: 1.0403\n",
      "Epoch 19/100\n",
      "32/32 - 0s - loss: 1.0273\n",
      "Epoch 20/100\n",
      "32/32 - 0s - loss: 1.0629\n",
      "Epoch 21/100\n",
      "32/32 - 0s - loss: 1.0319\n",
      "Epoch 22/100\n",
      "32/32 - 0s - loss: 1.0285\n",
      "Epoch 23/100\n",
      "32/32 - 0s - loss: 1.0407\n",
      "Epoch 24/100\n",
      "32/32 - 0s - loss: 1.0505\n",
      "Epoch 25/100\n",
      "32/32 - 0s - loss: 1.0280\n",
      "Epoch 26/100\n",
      "32/32 - 0s - loss: 1.0471\n",
      "Epoch 27/100\n",
      "32/32 - 0s - loss: 1.0293\n",
      "Epoch 28/100\n",
      "32/32 - 0s - loss: 1.0277\n",
      "Epoch 29/100\n",
      "32/32 - 0s - loss: 1.0565\n",
      "Epoch 30/100\n",
      "32/32 - 0s - loss: 1.0347\n",
      "Epoch 31/100\n",
      "32/32 - 0s - loss: 1.0341\n",
      "Epoch 32/100\n",
      "32/32 - 0s - loss: 1.0617\n",
      "Epoch 33/100\n",
      "32/32 - 0s - loss: 1.0313\n",
      "Epoch 34/100\n",
      "32/32 - 0s - loss: 1.0315\n",
      "Epoch 35/100\n",
      "32/32 - 0s - loss: 1.0341\n",
      "Epoch 36/100\n",
      "32/32 - 0s - loss: 1.0561\n",
      "Epoch 37/100\n",
      "32/32 - 0s - loss: 1.0418\n",
      "Epoch 38/100\n",
      "32/32 - 0s - loss: 1.0437\n",
      "Epoch 39/100\n",
      "32/32 - 0s - loss: 1.0409\n",
      "Epoch 40/100\n",
      "32/32 - 0s - loss: 1.0510\n",
      "Epoch 41/100\n",
      "32/32 - 0s - loss: 1.0375\n",
      "Epoch 42/100\n",
      "32/32 - 0s - loss: 1.0351\n",
      "Epoch 43/100\n",
      "32/32 - 0s - loss: 1.0450\n",
      "Epoch 44/100\n",
      "32/32 - 0s - loss: 1.0410\n",
      "Epoch 45/100\n",
      "32/32 - 0s - loss: 1.0493\n",
      "Epoch 46/100\n",
      "32/32 - 0s - loss: 1.0534\n",
      "Epoch 47/100\n",
      "32/32 - 0s - loss: 1.0541\n",
      "Epoch 48/100\n",
      "32/32 - 0s - loss: 1.0448\n",
      "Epoch 49/100\n",
      "32/32 - 0s - loss: 1.0245\n",
      "Epoch 50/100\n",
      "32/32 - 0s - loss: 1.0398\n",
      "Epoch 51/100\n",
      "32/32 - 0s - loss: 1.0415\n",
      "Epoch 52/100\n",
      "32/32 - 0s - loss: 1.0703\n",
      "Epoch 53/100\n",
      "32/32 - 0s - loss: 1.0358\n",
      "Epoch 54/100\n",
      "32/32 - 0s - loss: 1.0486\n",
      "Epoch 55/100\n",
      "32/32 - 0s - loss: 1.0359\n",
      "Epoch 56/100\n",
      "32/32 - 0s - loss: 1.0315\n",
      "Epoch 57/100\n",
      "32/32 - 0s - loss: 1.0295\n",
      "Epoch 58/100\n",
      "32/32 - 0s - loss: 1.0324\n",
      "Epoch 59/100\n",
      "32/32 - 0s - loss: 1.0299\n",
      "Epoch 60/100\n",
      "32/32 - 0s - loss: 1.0435\n",
      "Epoch 61/100\n",
      "32/32 - 0s - loss: 1.0274\n",
      "Epoch 62/100\n",
      "32/32 - 0s - loss: 1.0228\n",
      "Epoch 63/100\n",
      "32/32 - 0s - loss: 1.0322\n",
      "Epoch 64/100\n",
      "32/32 - 0s - loss: 1.0430\n",
      "Epoch 65/100\n",
      "32/32 - 0s - loss: 1.0267\n",
      "Epoch 66/100\n",
      "32/32 - 0s - loss: 1.0326\n",
      "Epoch 67/100\n",
      "32/32 - 0s - loss: 1.0305\n",
      "Epoch 68/100\n",
      "32/32 - 0s - loss: 1.0446\n",
      "Epoch 69/100\n",
      "32/32 - 0s - loss: 1.0447\n",
      "Epoch 70/100\n",
      "32/32 - 0s - loss: 1.0594\n",
      "Epoch 71/100\n",
      "32/32 - 0s - loss: 1.0601\n",
      "Epoch 72/100\n",
      "32/32 - 0s - loss: 1.0476\n",
      "Epoch 73/100\n",
      "32/32 - 0s - loss: 1.0470\n",
      "Epoch 74/100\n",
      "32/32 - 0s - loss: 1.0392\n",
      "Epoch 75/100\n",
      "32/32 - 0s - loss: 1.0253\n",
      "Epoch 76/100\n",
      "32/32 - 0s - loss: 1.0332\n",
      "Epoch 77/100\n",
      "32/32 - 0s - loss: 1.0361\n",
      "Epoch 78/100\n",
      "32/32 - 0s - loss: 1.0407\n",
      "Epoch 79/100\n",
      "32/32 - 0s - loss: 1.0364\n",
      "Epoch 80/100\n",
      "32/32 - 0s - loss: 1.0515\n",
      "Epoch 81/100\n",
      "32/32 - 0s - loss: 1.0270\n",
      "Epoch 82/100\n",
      "32/32 - 0s - loss: 1.0281\n",
      "Epoch 83/100\n",
      "32/32 - 0s - loss: 1.0254\n",
      "Epoch 84/100\n",
      "32/32 - 0s - loss: 1.0465\n",
      "Epoch 85/100\n",
      "32/32 - 0s - loss: 1.0283\n",
      "Epoch 86/100\n",
      "32/32 - 0s - loss: 1.0237\n",
      "Epoch 87/100\n",
      "32/32 - 0s - loss: 1.0344\n",
      "Epoch 88/100\n",
      "32/32 - 0s - loss: 1.0535\n",
      "Epoch 89/100\n",
      "32/32 - 0s - loss: 1.0466\n",
      "Epoch 90/100\n",
      "32/32 - 0s - loss: 1.0282\n",
      "Epoch 91/100\n",
      "32/32 - 0s - loss: 1.0339\n",
      "Epoch 92/100\n",
      "32/32 - 0s - loss: 1.0349\n",
      "Epoch 93/100\n",
      "32/32 - 0s - loss: 1.0320\n",
      "Epoch 94/100\n",
      "32/32 - 0s - loss: 1.0258\n",
      "Epoch 95/100\n",
      "32/32 - 0s - loss: 1.0271\n",
      "Epoch 96/100\n",
      "32/32 - 0s - loss: 1.0366\n",
      "Epoch 97/100\n",
      "32/32 - 0s - loss: 1.0337\n",
      "Epoch 98/100\n",
      "32/32 - 0s - loss: 1.0438\n",
      "Epoch 99/100\n",
      "32/32 - 0s - loss: 1.0355\n",
      "Epoch 100/100\n",
      "32/32 - 0s - loss: 1.0296\n"
     ]
    }
   ],
   "source": [
    "history = kmodel.fit(inputs, \n",
    "                    outputs, \n",
    "                    epochs=100,\n",
    "                    verbose=2)"
   ]
  },
  {
   "cell_type": "code",
   "execution_count": 178,
   "id": "697522d6",
   "metadata": {},
   "outputs": [
    {
     "data": {
      "text/plain": [
       "array([[ 8.041536],\n",
       "       [14.008129],\n",
       "       [19.974722],\n",
       "       [25.941315],\n",
       "       [31.907907]], dtype=float32)"
      ]
     },
     "execution_count": 178,
     "metadata": {},
     "output_type": "execute_result"
    }
   ],
   "source": [
    "df_p=kmodel.predict([1,2,3,4,5])\n",
    "df_p"
   ]
  },
  {
   "cell_type": "code",
   "execution_count": 179,
   "id": "3b215cc3",
   "metadata": {},
   "outputs": [
    {
     "data": {
      "text/plain": [
       "[8.041536, 14.008129, 19.974722, 25.941315, 31.907907]"
      ]
     },
     "execution_count": 179,
     "metadata": {},
     "output_type": "execute_result"
    }
   ],
   "source": [
    "pr=[]\n",
    "for v in df_p:\n",
    "    pr.append(v[0])\n",
    "pr"
   ]
  },
  {
   "cell_type": "code",
   "execution_count": 180,
   "id": "7c791354",
   "metadata": {},
   "outputs": [
    {
     "name": "stdout",
     "output_type": "stream",
     "text": [
      "Printing JSON serialized NumPy array\n",
      "{'answer': [8.041536, 14.008129, 19.974722, 25.941315, 31.907907]}\n"
     ]
    }
   ],
   "source": [
    "import json\n",
    "from json import JSONEncoder\n",
    "import numpy\n",
    "class NumpyArrayEncoder(JSONEncoder):\n",
    "    def default(self, obj):\n",
    "        if isinstance(obj, numpy.ndarray):\n",
    "            return obj.tolist()\n",
    "        return JSONEncoder.default(self, obj)\n",
    "numpyData = {\"answer\": pr}\n",
    "#encodedNumpyData = json.dumps(numpyData, cls=NumpyArrayEncoder) \n",
    "print(\"Printing JSON serialized NumPy array\")\n",
    "print(numpyData)"
   ]
  }
 ],
 "metadata": {
  "kernelspec": {
   "display_name": "Python 3",
   "language": "python",
   "name": "python3"
  },
  "language_info": {
   "codemirror_mode": {
    "name": "ipython",
    "version": 3
   },
   "file_extension": ".py",
   "mimetype": "text/x-python",
   "name": "python",
   "nbconvert_exporter": "python",
   "pygments_lexer": "ipython3",
   "version": "3.8.8"
  }
 },
 "nbformat": 4,
 "nbformat_minor": 5
}
