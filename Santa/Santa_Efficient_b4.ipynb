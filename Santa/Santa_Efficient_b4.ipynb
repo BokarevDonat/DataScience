{
  "nbformat": 4,
  "nbformat_minor": 0,
  "metadata": {
    "colab": {
      "name": "Santa_Efficient_(2) (1).ipynb",
      "provenance": [],
      "collapsed_sections": []
    },
    "kernelspec": {
      "name": "python3",
      "display_name": "Python 3"
    },
    "language_info": {
      "name": "python"
    },
    "widgets": {
      "application/vnd.jupyter.widget-state+json": {
        "b51d2dab0df14367a244ae0b30364053": {
          "model_module": "@jupyter-widgets/controls",
          "model_name": "HBoxModel",
          "model_module_version": "1.5.0",
          "state": {
            "_view_name": "HBoxView",
            "_dom_classes": [],
            "_model_name": "HBoxModel",
            "_view_module": "@jupyter-widgets/controls",
            "_model_module_version": "1.5.0",
            "_view_count": null,
            "_view_module_version": "1.5.0",
            "box_style": "",
            "layout": "IPY_MODEL_f3187b73e8e448d4b885fcb7a5a5911e",
            "_model_module": "@jupyter-widgets/controls",
            "children": [
              "IPY_MODEL_fbf5bc9376a04794b5b3589f2fe4196e",
              "IPY_MODEL_19b3dfad7dc342e6bd15b1e9f6429f5a",
              "IPY_MODEL_8336a9aa08cb48c284ef8ac26ff70596"
            ]
          }
        },
        "f3187b73e8e448d4b885fcb7a5a5911e": {
          "model_module": "@jupyter-widgets/base",
          "model_name": "LayoutModel",
          "model_module_version": "1.2.0",
          "state": {
            "_view_name": "LayoutView",
            "grid_template_rows": null,
            "right": null,
            "justify_content": null,
            "_view_module": "@jupyter-widgets/base",
            "overflow": null,
            "_model_module_version": "1.2.0",
            "_view_count": null,
            "flex_flow": null,
            "width": null,
            "min_width": null,
            "border": null,
            "align_items": null,
            "bottom": null,
            "_model_module": "@jupyter-widgets/base",
            "top": null,
            "grid_column": null,
            "overflow_y": null,
            "overflow_x": null,
            "grid_auto_flow": null,
            "grid_area": null,
            "grid_template_columns": null,
            "flex": null,
            "_model_name": "LayoutModel",
            "justify_items": null,
            "grid_row": null,
            "max_height": null,
            "align_content": null,
            "visibility": null,
            "align_self": null,
            "height": null,
            "min_height": null,
            "padding": null,
            "grid_auto_rows": null,
            "grid_gap": null,
            "max_width": null,
            "order": null,
            "_view_module_version": "1.2.0",
            "grid_template_areas": null,
            "object_position": null,
            "object_fit": null,
            "grid_auto_columns": null,
            "margin": null,
            "display": null,
            "left": null
          }
        },
        "fbf5bc9376a04794b5b3589f2fe4196e": {
          "model_module": "@jupyter-widgets/controls",
          "model_name": "HTMLModel",
          "model_module_version": "1.5.0",
          "state": {
            "_view_name": "HTMLView",
            "style": "IPY_MODEL_ffa6861f33e94e77b3e080f63b822275",
            "_dom_classes": [],
            "description": "",
            "_model_name": "HTMLModel",
            "placeholder": "​",
            "_view_module": "@jupyter-widgets/controls",
            "_model_module_version": "1.5.0",
            "value": "100%",
            "_view_count": null,
            "_view_module_version": "1.5.0",
            "description_tooltip": null,
            "_model_module": "@jupyter-widgets/controls",
            "layout": "IPY_MODEL_72e18c5d877143ba8a0de59eba3dde5c"
          }
        },
        "19b3dfad7dc342e6bd15b1e9f6429f5a": {
          "model_module": "@jupyter-widgets/controls",
          "model_name": "FloatProgressModel",
          "model_module_version": "1.5.0",
          "state": {
            "_view_name": "ProgressView",
            "style": "IPY_MODEL_a938cb2e6536499cae068ca7ef240953",
            "_dom_classes": [],
            "description": "",
            "_model_name": "FloatProgressModel",
            "bar_style": "success",
            "max": 78107389,
            "_view_module": "@jupyter-widgets/controls",
            "_model_module_version": "1.5.0",
            "value": 78107389,
            "_view_count": null,
            "_view_module_version": "1.5.0",
            "orientation": "horizontal",
            "min": 0,
            "description_tooltip": null,
            "_model_module": "@jupyter-widgets/controls",
            "layout": "IPY_MODEL_358683c082fd491380c0872144737af8"
          }
        },
        "8336a9aa08cb48c284ef8ac26ff70596": {
          "model_module": "@jupyter-widgets/controls",
          "model_name": "HTMLModel",
          "model_module_version": "1.5.0",
          "state": {
            "_view_name": "HTMLView",
            "style": "IPY_MODEL_0d25041e2da2418499348be3144c4a5c",
            "_dom_classes": [],
            "description": "",
            "_model_name": "HTMLModel",
            "placeholder": "​",
            "_view_module": "@jupyter-widgets/controls",
            "_model_module_version": "1.5.0",
            "value": " 74.5M/74.5M [00:01&lt;00:00, 62.6MB/s]",
            "_view_count": null,
            "_view_module_version": "1.5.0",
            "description_tooltip": null,
            "_model_module": "@jupyter-widgets/controls",
            "layout": "IPY_MODEL_b8470ec37f5a43c5abf427b65517480e"
          }
        },
        "ffa6861f33e94e77b3e080f63b822275": {
          "model_module": "@jupyter-widgets/controls",
          "model_name": "DescriptionStyleModel",
          "model_module_version": "1.5.0",
          "state": {
            "_view_name": "StyleView",
            "_model_name": "DescriptionStyleModel",
            "description_width": "",
            "_view_module": "@jupyter-widgets/base",
            "_model_module_version": "1.5.0",
            "_view_count": null,
            "_view_module_version": "1.2.0",
            "_model_module": "@jupyter-widgets/controls"
          }
        },
        "72e18c5d877143ba8a0de59eba3dde5c": {
          "model_module": "@jupyter-widgets/base",
          "model_name": "LayoutModel",
          "model_module_version": "1.2.0",
          "state": {
            "_view_name": "LayoutView",
            "grid_template_rows": null,
            "right": null,
            "justify_content": null,
            "_view_module": "@jupyter-widgets/base",
            "overflow": null,
            "_model_module_version": "1.2.0",
            "_view_count": null,
            "flex_flow": null,
            "width": null,
            "min_width": null,
            "border": null,
            "align_items": null,
            "bottom": null,
            "_model_module": "@jupyter-widgets/base",
            "top": null,
            "grid_column": null,
            "overflow_y": null,
            "overflow_x": null,
            "grid_auto_flow": null,
            "grid_area": null,
            "grid_template_columns": null,
            "flex": null,
            "_model_name": "LayoutModel",
            "justify_items": null,
            "grid_row": null,
            "max_height": null,
            "align_content": null,
            "visibility": null,
            "align_self": null,
            "height": null,
            "min_height": null,
            "padding": null,
            "grid_auto_rows": null,
            "grid_gap": null,
            "max_width": null,
            "order": null,
            "_view_module_version": "1.2.0",
            "grid_template_areas": null,
            "object_position": null,
            "object_fit": null,
            "grid_auto_columns": null,
            "margin": null,
            "display": null,
            "left": null
          }
        },
        "a938cb2e6536499cae068ca7ef240953": {
          "model_module": "@jupyter-widgets/controls",
          "model_name": "ProgressStyleModel",
          "model_module_version": "1.5.0",
          "state": {
            "_view_name": "StyleView",
            "_model_name": "ProgressStyleModel",
            "description_width": "",
            "_view_module": "@jupyter-widgets/base",
            "_model_module_version": "1.5.0",
            "_view_count": null,
            "_view_module_version": "1.2.0",
            "bar_color": null,
            "_model_module": "@jupyter-widgets/controls"
          }
        },
        "358683c082fd491380c0872144737af8": {
          "model_module": "@jupyter-widgets/base",
          "model_name": "LayoutModel",
          "model_module_version": "1.2.0",
          "state": {
            "_view_name": "LayoutView",
            "grid_template_rows": null,
            "right": null,
            "justify_content": null,
            "_view_module": "@jupyter-widgets/base",
            "overflow": null,
            "_model_module_version": "1.2.0",
            "_view_count": null,
            "flex_flow": null,
            "width": null,
            "min_width": null,
            "border": null,
            "align_items": null,
            "bottom": null,
            "_model_module": "@jupyter-widgets/base",
            "top": null,
            "grid_column": null,
            "overflow_y": null,
            "overflow_x": null,
            "grid_auto_flow": null,
            "grid_area": null,
            "grid_template_columns": null,
            "flex": null,
            "_model_name": "LayoutModel",
            "justify_items": null,
            "grid_row": null,
            "max_height": null,
            "align_content": null,
            "visibility": null,
            "align_self": null,
            "height": null,
            "min_height": null,
            "padding": null,
            "grid_auto_rows": null,
            "grid_gap": null,
            "max_width": null,
            "order": null,
            "_view_module_version": "1.2.0",
            "grid_template_areas": null,
            "object_position": null,
            "object_fit": null,
            "grid_auto_columns": null,
            "margin": null,
            "display": null,
            "left": null
          }
        },
        "0d25041e2da2418499348be3144c4a5c": {
          "model_module": "@jupyter-widgets/controls",
          "model_name": "DescriptionStyleModel",
          "model_module_version": "1.5.0",
          "state": {
            "_view_name": "StyleView",
            "_model_name": "DescriptionStyleModel",
            "description_width": "",
            "_view_module": "@jupyter-widgets/base",
            "_model_module_version": "1.5.0",
            "_view_count": null,
            "_view_module_version": "1.2.0",
            "_model_module": "@jupyter-widgets/controls"
          }
        },
        "b8470ec37f5a43c5abf427b65517480e": {
          "model_module": "@jupyter-widgets/base",
          "model_name": "LayoutModel",
          "model_module_version": "1.2.0",
          "state": {
            "_view_name": "LayoutView",
            "grid_template_rows": null,
            "right": null,
            "justify_content": null,
            "_view_module": "@jupyter-widgets/base",
            "overflow": null,
            "_model_module_version": "1.2.0",
            "_view_count": null,
            "flex_flow": null,
            "width": null,
            "min_width": null,
            "border": null,
            "align_items": null,
            "bottom": null,
            "_model_module": "@jupyter-widgets/base",
            "top": null,
            "grid_column": null,
            "overflow_y": null,
            "overflow_x": null,
            "grid_auto_flow": null,
            "grid_area": null,
            "grid_template_columns": null,
            "flex": null,
            "_model_name": "LayoutModel",
            "justify_items": null,
            "grid_row": null,
            "max_height": null,
            "align_content": null,
            "visibility": null,
            "align_self": null,
            "height": null,
            "min_height": null,
            "padding": null,
            "grid_auto_rows": null,
            "grid_gap": null,
            "max_width": null,
            "order": null,
            "_view_module_version": "1.2.0",
            "grid_template_areas": null,
            "object_position": null,
            "object_fit": null,
            "grid_auto_columns": null,
            "margin": null,
            "display": null,
            "left": null
          }
        }
      }
    }
  },
  "cells": [
    {
      "cell_type": "code",
      "execution_count": 1,
      "metadata": {
        "id": "NHnq0Gamh77r"
      },
      "outputs": [],
      "source": [
        "import pandas as pd\n",
        "import numpy as np\n",
        "import zipfile\n",
        "#import seaborn as sns\n",
        "#import matplotlib.pyplot as plt\n",
        "from tqdm import tqdm\n",
        "import torch\n",
        "from torch import nn\n",
        "import torchvision\n",
        "from torchvision import transforms as T\n",
        "from torch.utils.data import Dataset, DataLoader\n",
        "from torchvision.datasets import ImageFolder\n",
        "from PIL import Image\n",
        "import os\n",
        "from sklearn.metrics import f1_score\n",
        "from sklearn.model_selection import train_test_split\n",
        "import time \n",
        "from torch.optim import lr_scheduler"
      ]
    },
    {
      "cell_type": "code",
      "source": [
        "from google.colab import drive\n",
        "drive.mount('/content/drive')"
      ],
      "metadata": {
        "colab": {
          "base_uri": "https://localhost:8080/"
        },
        "id": "SuiDKLh6DXuN",
        "outputId": "570688b3-7af6-44b2-be97-10588ae9cc5e"
      },
      "execution_count": 2,
      "outputs": [
        {
          "output_type": "stream",
          "name": "stdout",
          "text": [
            "Mounted at /content/drive\n"
          ]
        }
      ]
    },
    {
      "cell_type": "code",
      "source": [
        "PATH = '/content/drive/MyDrive/Colab Notebooks/Santa/train.zip'\n",
        "DIR = '/content/drive/MyDrive/Colab Notebooks/Santa'\n",
        "TRAIN_DATASET= '/content/drive/MyDrive/Colab Notebooks/Santa/train'\n",
        "MODEL_WEIGHTS = \"/content/drive/MyDrive/Colab Notebooks/Santa/\"\n",
        "TRAIN_CSV = '/content/drive/MyDrive/Colab Notebooks/Santa/train.csv'\n",
        "TEST_DIR = '/content/drive/MyDrive/Colab Notebooks/Santa/test'\n",
        "OUT = '/content/drive/MyDrive/Colab Notebooks/Santa/out/'\n",
        "RESCALE_SIZE = 380\n",
        "CROP_SIZE = 250\n",
        "use_gpu = torch.cuda.is_available()\n",
        "torch.manual_seed(210122)\n",
        "use_gpu"
      ],
      "metadata": {
        "colab": {
          "base_uri": "https://localhost:8080/"
        },
        "id": "DVSZ4aMMrGvD",
        "outputId": "a9d5ea81-6635-492a-ef94-abbba1bb4a2b"
      },
      "execution_count": 3,
      "outputs": [
        {
          "output_type": "execute_result",
          "data": {
            "text/plain": [
              "True"
            ]
          },
          "metadata": {},
          "execution_count": 3
        }
      ]
    },
    {
      "cell_type": "code",
      "source": [
        "#with zipfile.ZipFile(PATH, 'r') as zip_ref:\n",
        "#    zip_ref.extractall(DIR)"
      ],
      "metadata": {
        "id": "PcgRWv82cSlf"
      },
      "execution_count": 4,
      "outputs": []
    },
    {
      "cell_type": "code",
      "source": [
        "#датасет из бейзлайна соревнования\n",
        "class DedyDataset(Dataset):\n",
        "    def __init__(self, root_dir, csv_path=None, transform=None):\n",
        "        \n",
        "        self.transform = transform\n",
        "        self.files = [os.path.join(root_dir, fname) for fname in os.listdir(root_dir)]\n",
        "        self.targets = None\n",
        "        if csv_path:\n",
        "            df = pd.read_csv(csv_path, sep=\"\\t\")\n",
        "            self.targets = df[\"class_id\"].tolist()\n",
        "            self.files = [os.path.join(root_dir, fname) for fname in df[\"image_name\"].tolist()]\n",
        "\n",
        "    def __len__(self):\n",
        "        return len(self.files)\n",
        "    \n",
        "    def __getitem__(self, idx):\n",
        "        image = Image.open(self.files[idx])\n",
        "        target = self.targets[idx] if self.targets else -1\n",
        "        if self.transform:\n",
        "            image = self.transform(image)\n",
        "        return image, target"
      ],
      "metadata": {
        "id": "-QuZrTJc1PGh"
      },
      "execution_count": 5,
      "outputs": []
    },
    {
      "cell_type": "code",
      "source": [
        "#для отображения картинок из датасета\n",
        "def imshow(inp, title=None):\n",
        "    \"\"\"Imshow для тензоров\"\"\"\n",
        "    inp = inp.numpy().transpose((1, 2, 0))\n",
        "    mean = np.array([0.485, 0.456, 0.406])\n",
        "    std = np.array([0.229, 0.224, 0.225])\n",
        "    inp = std * inp + mean\n",
        "    inp = np.clip(inp, 0, 1)\n",
        "    plt.imshow(inp)\n",
        "    if title is not None:\n",
        "        plt.set_title(title)\n",
        "    plt.grid(False)\n",
        "import matplotlib.pyplot as plt"
      ],
      "metadata": {
        "id": "_VstiPqXqbb5"
      },
      "execution_count": 6,
      "outputs": []
    },
    {
      "cell_type": "code",
      "source": [
        "#трансформер для апсемплинга и баллансировки картинок\n",
        "producer = T.Compose([    T.RandomHorizontalFlip(p=0.8),\n",
        "                          T.RandomRotation(degrees=(-25,25)),\n",
        "                          T.RandomPerspective(distortion_scale=0.2, p=0.2),\n",
        "                          T.ColorJitter(brightness=0.1, saturation=0.1, contrast=0.1),\n",
        "                          T.GaussianBlur(kernel_size=(5, 9), sigma=(0.1, 5)),\n",
        "                          T.RandomAffine(degrees=(0,0), translate=(0.1, 0.3)),\n",
        "                          T.RandomAutocontrast(p=0.3)])\n",
        "prodset = DedyDataset(TRAIN_DATASET, TRAIN_CSV, producer)"
      ],
      "metadata": {
        "id": "zfv6bd0pJyBk"
      },
      "execution_count": 7,
      "outputs": []
    },
    {
      "cell_type": "code",
      "source": [
        "#начальное состояние датасета\n",
        "train_df = pd.read_csv(TRAIN_CSV, sep='\\t')\n",
        "train_df.shape"
      ],
      "metadata": {
        "colab": {
          "base_uri": "https://localhost:8080/"
        },
        "id": "H890XDZeTiMx",
        "outputId": "2b69692a-da69-4caa-df6c-b816164e2f3a"
      },
      "execution_count": 8,
      "outputs": [
        {
          "output_type": "execute_result",
          "data": {
            "text/plain": [
              "(14400, 2)"
            ]
          },
          "metadata": {},
          "execution_count": 8
        }
      ]
    },
    {
      "cell_type": "code",
      "source": [
        "#проверка на соответствие размеров\n",
        "assign(len(prodset)==train_df.shape[0])"
      ],
      "metadata": {
        "colab": {
          "base_uri": "https://localhost:8080/"
        },
        "id": "K_fzPiBRyrs_",
        "outputId": "444fa10d-3397-4326-c9b2-d6e7f82035b1"
      },
      "execution_count": 9,
      "outputs": [
        {
          "output_type": "execute_result",
          "data": {
            "text/plain": [
              "14400"
            ]
          },
          "metadata": {},
          "execution_count": 9
        }
      ]
    },
    {
      "cell_type": "code",
      "source": [
        "#классы не сбаллансированы\n",
        "train_df.value_counts()"
      ],
      "metadata": {
        "id": "e2NkfhBTG_cP"
      },
      "execution_count": null,
      "outputs": []
    },
    {
      "cell_type": "code",
      "source": [
        "#баллансировка\n",
        "for i,img in enumerate(tqdm(prodset)):\n",
        "  for cnt in range(0,2):\n",
        "    if img[1]!=0:\n",
        "      train_df=train_df.append({'image_name':str(cnt+2)+'_'+prodset.files[i].split('/')[-1], 'class_id':img[1]}, ignore_index=True)\n",
        "      img[0].save(TRAIN_DATASET+'/'+str(cnt+2)+'_'+prodset.files[i].split('/')[-1])\n",
        "#увеличим датасет \n",
        "for i,img in enumerate(tqdm(prodset)):\n",
        "  for cnt in range(0,2):\n",
        "      train_df=train_df.append({'image_name':str(cnt+4)+'_'+prodset.files[i].split('/')[-1], 'class_id':img[1]}, ignore_index=True)\n",
        "      img[0].save(TRAIN_DATASET+'/'+str(cnt+4)+'_'+prodset.files[i].split('/')[-1])\n",
        "\n",
        "train_df.shape\n"
      ],
      "metadata": {
        "id": "Ylil6a2NKTmL"
      },
      "execution_count": 10,
      "outputs": []
    },
    {
      "cell_type": "code",
      "source": [
        "#обновим CSV\n",
        "train_df.to_csv(TRAIN_CSV, sep='\\t', index=False)"
      ],
      "metadata": {
        "id": "lUj-NanBqbFJ"
      },
      "execution_count": 11,
      "outputs": []
    },
    {
      "cell_type": "code",
      "source": [
        "#модель Efficientnet_B4 +полноразмерные слои с дропаутом и нелинейностью\n",
        "def init_model(t):\n",
        "  model = torchvision.models.efficientnet_b4(pretrained=True)\n",
        "  model.classifier = nn.Sequential(nn.Dropout(p=0.5, inplace=True),\n",
        "                                   nn.Linear(in_features=1792, out_features=896, bias=True),\n",
        "                                   nn.Dropout(p=0.5, inplace=True),\n",
        "                                   nn.SELU(),\n",
        "                                   nn.Linear(in_features=896, out_features=448, bias=True),\n",
        "                                   nn.Dropout(p=0.5, inplace=True),\n",
        "                                   nn.SELU(),\n",
        "                                   nn.Linear(in_features=448, out_features=224, bias=True),\n",
        "                                   nn.Dropout(p=0.5, inplace=True),\n",
        "                                   nn.Linear(in_features=224, out_features=3, bias=True))\n",
        "  #подгрузка весов, если упало по таймауту колаба\n",
        "  #model.load_state_dict(torch.load(MODEL_WEIGHTS+'efficiantnet_b4_fine_tune_need_more_train.pth'))\n",
        "  # Использовать ли GPU\n",
        "  if t:\n",
        "    model = model.cuda()\n",
        "  return model"
      ],
      "metadata": {
        "id": "rhP_kSOS3lcc"
      },
      "execution_count": 12,
      "outputs": []
    },
    {
      "cell_type": "code",
      "source": [
        "def train_model(model, dataloaders, criterion, optimizer, scheduler,\n",
        "                phases, num_epochs=25):\n",
        "    since = time.time()\n",
        "\n",
        "    best_model_wts = model.state_dict()\n",
        "    best_acc = 0.0\n",
        "    best_f1 = 0.0\n",
        "    losses = {'train': [], \"val\": []}\n",
        "\n",
        "    max_useless_epoch = 0\n",
        "    torch.cuda.empty_cache()\n",
        "    for epoch in tqdm(range(0,num_epochs)):\n",
        "\n",
        "        # каждя эпоха имеет обучающую и тестовую стадии\n",
        "        for phase in ['train', 'val']:\n",
        "            if phase == 'train':\n",
        "                scheduler.step()\n",
        "                model.train(True)  # установаить модель в режим обучения\n",
        "            else:\n",
        "                model.eval()\n",
        "\n",
        "            running_loss = 0.0\n",
        "            running_corrects = 0\n",
        "            running_labels = torch.tensor([])\n",
        "            running_preds = torch.tensor([])\n",
        "            # итерируемся по батчам\n",
        "            for data in dataloaders[phase]:\n",
        "                # получаем картинки и метки\n",
        "                inputs, labels = data\n",
        "\n",
        "                # оборачиваем в переменные\n",
        "                if use_gpu:\n",
        "                    inputs = inputs.cuda()\n",
        "                    labels = labels.cuda()\n",
        "                else:\n",
        "                    inputs, labels = inputs, labels\n",
        "\n",
        "                # инициализируем градиенты параметров\n",
        "                if phase == 'train':\n",
        "                    optimizer.zero_grad()\n",
        "                    outputs = model(inputs)\n",
        "                    loss = criterion(outputs, labels)\n",
        "                else:\n",
        "                    with torch.no_grad():\n",
        "                        outputs = model(inputs)\n",
        "                        loss = criterion(outputs, labels)    \n",
        "                preds = torch.argmax(outputs, -1)\n",
        "               \n",
        "\n",
        "                # backward pass + оптимизируем только если это стадия обучения\n",
        "                if phase == 'train':\n",
        "                    loss.backward()\n",
        "                    optimizer.step()\n",
        "\n",
        "                # статистика\n",
        "                running_loss += loss.item()\n",
        "                running_corrects += int(torch.sum(preds == labels.data))\n",
        "                running_labels = torch.cat([running_labels,labels.data.cpu()], 0)\n",
        "                running_preds = torch.cat([running_preds,preds.cpu()], 0)\n",
        "                \n",
        "            epoch_loss = running_loss /  len(dataloaders[phase].dataset)\n",
        "            epoch_acc = running_corrects / len(dataloaders[phase].dataset)\n",
        "\n",
        "            epoch_f1 = f1_score(running_labels.int().numpy(),running_preds.int().numpy(), average='weighted')\n",
        "\n",
        "            # Ваш код здесь\n",
        "            losses[phase].append(epoch_loss)\n",
        "            \n",
        "            print('{} Loss: {:.4f} Acc: {:.4f} F1 {:.4f}'.format(\n",
        "                                    phase, epoch_loss, epoch_acc, epoch_f1\n",
        "                                ))\n",
        "\n",
        "            # если достиглось лучшее качество, то запомним веса модели\n",
        "            if phase == 'val':\n",
        "              if epoch_f1 > best_f1:\n",
        "                best_acc = epoch_acc\n",
        "                best_f1 = epoch_f1\n",
        "                best_model_wts = model.state_dict()\n",
        "                torch.save(model.state_dict(), MODEL_WEIGHTS+'efficiantnet_b4_fine_tune_need_more_train.pth')\n",
        "                max_useless_epoch=0  \n",
        "                if best_f1==1:\n",
        "                  max_useless_epoch=20\n",
        "              else:\n",
        "                max_useless_epoch+=1    \n",
        "            torch.cuda.empty_cache()\n",
        "        if max_useless_epoch>=20:\n",
        "          break\n",
        "    time_elapsed = time.time() - since\n",
        "    print('Training complete in {:.0f}m {:.0f}s'.format(\n",
        "        time_elapsed // 60, time_elapsed % 60))\n",
        "    print('Best val Acc: {:4f}'.format(best_f1))\n",
        "\n",
        "    # загрузим лучшие веса модели\n",
        "    model.load_state_dict(best_model_wts)\n",
        "    return model, best_acc"
      ],
      "metadata": {
        "id": "bB6NOZE83n5i"
      },
      "execution_count": 13,
      "outputs": []
    },
    {
      "cell_type": "code",
      "source": [
        "if __name__ == \"__main__\":\n",
        "    torch.cuda.empty_cache()\n",
        "    #добавим еще чуть инстант аугментации\n",
        "    transformer = T.Compose([T.Resize(size=(RESCALE_SIZE,RESCALE_SIZE)),\n",
        "                          T.RandomHorizontalFlip(p=0.5),\n",
        "                          T.RandomRotation(degrees=(-10,10)),\n",
        "                          T.RandomPerspective(distortion_scale=0.1, p=0.1),\n",
        "                          T.ColorJitter(brightness=0.1, saturation=0.1, contrast=0.1),\n",
        "                          T.ToTensor(),\n",
        "                          T.Normalize([0.485, 0.456, 0.406], [0.229, 0.224, 0.225])])\n",
        "    dset = DedyDataset(TRAIN_DATASET, TRAIN_CSV, transformer)\n",
        "    labels = dset.targets\n",
        "    indices = list(range(len(labels)))\n",
        "    ind_train, ind_test, _, _ = train_test_split(indices, labels, test_size=0.2, random_state=200122, stratify=labels)\n",
        "\n",
        "    trainset = torch.utils.data.Subset(dset, ind_train)                           \n",
        "    testset = torch.utils.data.Subset(dset, ind_test)\n",
        "\n",
        "    batch_size = 16\n",
        "    num_workers = 0\n",
        "    trainloader = torch.utils.data.DataLoader(trainset, batch_size=batch_size,\n",
        "                                            shuffle=True, num_workers=num_workers)\n",
        "\n",
        "    testloader = torch.utils.data.DataLoader(testset, batch_size=batch_size,\n",
        "                                            shuffle=False, num_workers=num_workers)\n",
        "\n",
        "    loaders = {'train': trainloader, 'val': testloader}\n",
        "\n",
        "\n",
        "    model = init_model(use_gpu)\n",
        "    \n",
        "    loss = nn.CrossEntropyLoss() #функция потерь\n",
        "    optimizer = torch.optim.Adam(model.parameters(), lr=0.0001) #оптимизатор\n",
        "    scheduler = lr_scheduler.StepLR(optimizer, step_size=5, gamma=0.5) #уменьшает learning rate каждые 5 эпох\n",
        "\n",
        "    criterion = nn.CrossEntropyLoss()\n",
        "\n",
        "    # Train\n",
        "    train_results = train_model(model, loaders, criterion, optimizer,scheduler, phases=['train', 'val'], num_epochs=100)\n"
      ],
      "metadata": {
        "colab": {
          "base_uri": "https://localhost:8080/",
          "height": 382,
          "referenced_widgets": [
            "b51d2dab0df14367a244ae0b30364053",
            "f3187b73e8e448d4b885fcb7a5a5911e",
            "fbf5bc9376a04794b5b3589f2fe4196e",
            "19b3dfad7dc342e6bd15b1e9f6429f5a",
            "8336a9aa08cb48c284ef8ac26ff70596",
            "ffa6861f33e94e77b3e080f63b822275",
            "72e18c5d877143ba8a0de59eba3dde5c",
            "a938cb2e6536499cae068ca7ef240953",
            "358683c082fd491380c0872144737af8",
            "0d25041e2da2418499348be3144c4a5c",
            "b8470ec37f5a43c5abf427b65517480e"
          ]
        },
        "id": "NG35SUPr3rTf",
        "outputId": "3813c4b8-321c-4f9b-f20b-fc48191e2d08"
      },
      "execution_count": 14,
      "outputs": [
        {
          "output_type": "stream",
          "name": "stderr",
          "text": [
            "Downloading: \"https://download.pytorch.org/models/efficientnet_b4_rwightman-7eb33cd5.pth\" to /root/.cache/torch/hub/checkpoints/efficientnet_b4_rwightman-7eb33cd5.pth\n"
          ]
        },
        {
          "output_type": "display_data",
          "data": {
            "application/vnd.jupyter.widget-view+json": {
              "model_id": "b51d2dab0df14367a244ae0b30364053",
              "version_minor": 0,
              "version_major": 2
            },
            "text/plain": [
              "  0%|          | 0.00/74.5M [00:00<?, ?B/s]"
            ]
          },
          "metadata": {}
        },
        {
          "output_type": "stream",
          "name": "stderr",
          "text": [
            "\r  0%|          | 0/100 [00:00<?, ?it/s]/usr/local/lib/python3.7/dist-packages/torch/optim/lr_scheduler.py:134: UserWarning: Detected call of `lr_scheduler.step()` before `optimizer.step()`. In PyTorch 1.1.0 and later, you should call them in the opposite order: `optimizer.step()` before `lr_scheduler.step()`.  Failure to do this will result in PyTorch skipping the first value of the learning rate schedule. See more details at https://pytorch.org/docs/stable/optim.html#how-to-adjust-learning-rate\n",
            "  \"https://pytorch.org/docs/stable/optim.html#how-to-adjust-learning-rate\", UserWarning)\n"
          ]
        },
        {
          "output_type": "stream",
          "name": "stdout",
          "text": [
            "train Loss: 0.0128 Acc: 0.9202 F1 0.9197\n",
            "val Loss: 0.0015 Acc: 0.9927 F1 0.9927\n"
          ]
        },
        {
          "output_type": "stream",
          "name": "stderr",
          "text": [
            "\r  1%|          | 1/100 [16:39<27:29:58, 999.99s/it]"
          ]
        },
        {
          "output_type": "stream",
          "name": "stdout",
          "text": [
            "train Loss: 0.0025 Acc: 0.9872 F1 0.9872\n",
            "val Loss: 0.0002 Acc: 0.9997 F1 0.9997\n"
          ]
        },
        {
          "output_type": "stream",
          "name": "stderr",
          "text": [
            "\r  2%|▏         | 2/100 [30:12<24:12:53, 889.52s/it]"
          ]
        },
        {
          "output_type": "stream",
          "name": "stdout",
          "text": [
            "train Loss: 0.0011 Acc: 0.9932 F1 0.9932\n",
            "val Loss: 0.0001 Acc: 0.9997 F1 0.9997\n"
          ]
        },
        {
          "output_type": "stream",
          "name": "stderr",
          "text": [
            "\r  3%|▎         | 3/100 [43:41<22:58:34, 852.73s/it]"
          ]
        },
        {
          "output_type": "stream",
          "name": "stdout",
          "text": [
            "train Loss: 0.0010 Acc: 0.9942 F1 0.9942\n"
          ]
        },
        {
          "output_type": "stream",
          "name": "stderr",
          "text": [
            "\r  4%|▍         | 4/100 [57:11<22:17:51, 836.16s/it]"
          ]
        },
        {
          "output_type": "stream",
          "name": "stdout",
          "text": [
            "val Loss: 0.0002 Acc: 0.9993 F1 0.9993\n",
            "train Loss: 0.0006 Acc: 0.9969 F1 0.9969\n"
          ]
        },
        {
          "output_type": "stream",
          "name": "stderr",
          "text": [
            "\r  5%|▌         | 5/100 [1:10:41<21:48:46, 826.59s/it]"
          ]
        },
        {
          "output_type": "stream",
          "name": "stdout",
          "text": [
            "val Loss: 0.0000 Acc: 0.9997 F1 0.9997\n",
            "train Loss: 0.0004 Acc: 0.9980 F1 0.9980\n",
            "val Loss: 0.0000 Acc: 1.0000 F1 1.0000\n"
          ]
        },
        {
          "output_type": "stream",
          "name": "stderr",
          "text": [
            "\r  5%|▌         | 5/100 [1:24:10<26:39:20, 1010.11s/it]"
          ]
        },
        {
          "output_type": "stream",
          "name": "stdout",
          "text": [
            "Training complete in 84m 11s\n",
            "Best val Acc: 1.000000\n"
          ]
        },
        {
          "output_type": "stream",
          "name": "stderr",
          "text": [
            "\n"
          ]
        }
      ]
    },
    {
      "cell_type": "code",
      "source": [
        "torch.save(model.state_dict(), MODEL_WEIGHTS+'efficiantnet_b4_fine_tune8_last.pth')"
      ],
      "metadata": {
        "id": "y9gXgUrW9qx5"
      },
      "execution_count": 15,
      "outputs": []
    },
    {
      "cell_type": "code",
      "source": [
        "#предсказание\n",
        "def predict(model, dataloader):\n",
        "    with torch.no_grad():\n",
        "        logits = []\n",
        "        labels = []\n",
        "        samples = []\n",
        "        # итерируемся по батчам\n",
        "        for i, data in enumerate(dataloader):\n",
        "            inputs, label = data\n",
        "            if use_gpu:\n",
        "                inputs = inputs.cuda()\n",
        "            model.eval()\n",
        "            outputs = model(inputs).cpu()\n",
        "            logits.append(outputs)\n",
        "            labels.append(label)\n",
        "    probs = nn.functional.softmax(torch.cat(logits), dim=-1).numpy()\n",
        "    labels = torch.cat(labels)\n",
        "    return probs, labels"
      ],
      "metadata": {
        "id": "2WaB2xG6AA5u"
      },
      "execution_count": null,
      "outputs": []
    },
    {
      "cell_type": "code",
      "source": [
        "test_transformer = T.Compose([T.Resize((RESCALE_SIZE,RESCALE_SIZE)),\n",
        "                              T.ToTensor(),\n",
        "                              T.Normalize([0.485, 0.456, 0.406], [0.229, 0.224, 0.225])])\n",
        "batch_size = 16\n",
        "test_images  = DedyDataset(TEST_DIR,None, test_transformer)\n",
        "test_loader = DataLoader(test_images, batch_size=batch_size)\n",
        "#эта часть была в другом модуле, так что сохраненные веса загружались отдельно\n",
        "#model = init_model(use_gpu)\n",
        "#model.load_state_dict(torch.load(MODEL_WEIGHTS+'efficiantnet_b4_fine_tune.pth'))\n",
        "prediction, labels = predict(model,test_loader)"
      ],
      "metadata": {
        "id": "RfrcrlbmAEDT"
      },
      "execution_count": null,
      "outputs": []
    },
    {
      "cell_type": "code",
      "source": [
        "test_filenames = [path.split('/')[-1] for path in test_images.files]\n",
        "preds = np.argmax(prediction,-1)\n",
        "test_filenames"
      ],
      "metadata": {
        "id": "vOTuaaUWLe4x"
      },
      "execution_count": null,
      "outputs": []
    },
    {
      "cell_type": "code",
      "source": [
        "#выходной файл сабмита\n",
        "df = pd.DataFrame()\n",
        "df['Id'] = test_filenames\n",
        "df['Expected'] = preds\n",
        "df.to_csv(OUT+'submission.csv', index=False, header=False, sep='\\t' )"
      ],
      "metadata": {
        "id": "ZEZ-KvV6LpnD"
      },
      "execution_count": null,
      "outputs": []
    }
  ]
}