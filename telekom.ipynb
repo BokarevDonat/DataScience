{
 "cells": [
  {
   "cell_type": "markdown",
   "id": "27f00093",
   "metadata": {},
   "source": [
    "## Описание проекта\n",
    "\n",
    "Оператор связи «Ниединогоразрыва.ком» хочет научиться прогнозировать отток клиентов. Если выяснится, что пользователь планирует уйти, ему будут предложены промокоды и специальные условия. Команда оператора собрала персональные данные о некоторых клиентах, информацию об их тарифах и договорах.\n",
    "\n",
    "### Описание услуг\n",
    "\n",
    "Оператор предоставляет два основных типа услуг: \n",
    "\n",
    "1. Стационарную телефонную связь. Возможно подключение телефонного аппарата к нескольким линиям одновременно.\n",
    "2. Интернет. Подключение может быть двух типов: через телефонную линию (DSL*,* от англ. *digital subscriber line*, «цифровая абонентская линия») или оптоволоконный кабель (*Fiber optic*).  \n",
    "\n",
    "Также доступны такие услуги:\n",
    "\n",
    "- Интернет-безопасность: антивирус (*DeviceProtection*) и блокировка небезопасных сайтов (*OnlineSecurity*);\n",
    "- Выделенная линия технической поддержки (*TechSupport*);\n",
    "- Облачное хранилище файлов для резервного копирования данных (*OnlineBackup*);\n",
    "- Стриминговое телевидение (*StreamingTV*) и каталог фильмов (*StreamingMovies*).\n",
    "\n",
    "За услуги клиенты могут платить каждый месяц или заключить договор на 1–2 года. Доступны различные способы расчёта и возможность получения электронного чека."
   ]
  },
  {
   "cell_type": "markdown",
   "id": "614fef0c",
   "metadata": {},
   "source": [
    "## Загрузка данных и импорт библиотек "
   ]
  },
  {
   "cell_type": "code",
   "execution_count": 1,
   "id": "3472d7a4",
   "metadata": {},
   "outputs": [],
   "source": [
    "import pandas as pd\n",
    "import numpy as np\n",
    "import matplotlib.pyplot as plt\n",
    "import seaborn as sns\n",
    "import warnings\n",
    "warnings.filterwarnings(\"ignore\")\n",
    "from sklearn.feature_selection import f_classif, mutual_info_classif\n",
    "from sklearn.preprocessing import OrdinalEncoder, StandardScaler\n",
    "from sklearn.model_selection import train_test_split, StratifiedKFold, GridSearchCV, cross_validate\n",
    "from sklearn.cluster import KMeans\n",
    "import datasist as ds\n",
    "\n",
    "#модели\n",
    "from sklearn.linear_model import LogisticRegression\n",
    "from sklearn.discriminant_analysis import LinearDiscriminantAnalysis \n",
    "from sklearn.neighbors import KNeighborsClassifier\n",
    "from sklearn.ensemble import RandomForestClassifier, GradientBoostingClassifier, StackingClassifier\n",
    "from sklearn.svm import SVC\n",
    "from sklearn.dummy import DummyClassifier\n",
    "#!pip install catboost\n",
    "from catboost import CatBoostClassifier\n",
    "from lightgbm import LGBMClassifier\n",
    "#!pip install xgboost\n",
    "from xgboost import XGBClassifier\n",
    "from sklearn.metrics import plot_confusion_matrix\n",
    "\n",
    "from sklearn.metrics import SCORERS, roc_auc_score, roc_curve,  accuracy_score, precision_score, recall_score, f1_score\n",
    "from tqdm import tqdm"
   ]
  },
  {
   "cell_type": "code",
   "execution_count": 2,
   "id": "80378c04",
   "metadata": {},
   "outputs": [
    {
     "data": {
      "text/html": [
       "<div>\n",
       "<style scoped>\n",
       "    .dataframe tbody tr th:only-of-type {\n",
       "        vertical-align: middle;\n",
       "    }\n",
       "\n",
       "    .dataframe tbody tr th {\n",
       "        vertical-align: top;\n",
       "    }\n",
       "\n",
       "    .dataframe thead th {\n",
       "        text-align: right;\n",
       "    }\n",
       "</style>\n",
       "<table border=\"1\" class=\"dataframe\">\n",
       "  <thead>\n",
       "    <tr style=\"text-align: right;\">\n",
       "      <th></th>\n",
       "      <th>customerID</th>\n",
       "      <th>BeginDate</th>\n",
       "      <th>EndDate</th>\n",
       "      <th>Type</th>\n",
       "      <th>PaperlessBilling</th>\n",
       "      <th>PaymentMethod</th>\n",
       "      <th>MonthlyCharges</th>\n",
       "      <th>TotalCharges</th>\n",
       "    </tr>\n",
       "  </thead>\n",
       "  <tbody>\n",
       "    <tr>\n",
       "      <th>0</th>\n",
       "      <td>7590-VHVEG</td>\n",
       "      <td>2020-01-01</td>\n",
       "      <td>No</td>\n",
       "      <td>Month-to-month</td>\n",
       "      <td>Yes</td>\n",
       "      <td>Electronic check</td>\n",
       "      <td>29.85</td>\n",
       "      <td>29.85</td>\n",
       "    </tr>\n",
       "    <tr>\n",
       "      <th>1</th>\n",
       "      <td>5575-GNVDE</td>\n",
       "      <td>2017-04-01</td>\n",
       "      <td>No</td>\n",
       "      <td>One year</td>\n",
       "      <td>No</td>\n",
       "      <td>Mailed check</td>\n",
       "      <td>56.95</td>\n",
       "      <td>1889.5</td>\n",
       "    </tr>\n",
       "    <tr>\n",
       "      <th>2</th>\n",
       "      <td>3668-QPYBK</td>\n",
       "      <td>2019-10-01</td>\n",
       "      <td>2019-12-01 00:00:00</td>\n",
       "      <td>Month-to-month</td>\n",
       "      <td>Yes</td>\n",
       "      <td>Mailed check</td>\n",
       "      <td>53.85</td>\n",
       "      <td>108.15</td>\n",
       "    </tr>\n",
       "    <tr>\n",
       "      <th>3</th>\n",
       "      <td>7795-CFOCW</td>\n",
       "      <td>2016-05-01</td>\n",
       "      <td>No</td>\n",
       "      <td>One year</td>\n",
       "      <td>No</td>\n",
       "      <td>Bank transfer (automatic)</td>\n",
       "      <td>42.30</td>\n",
       "      <td>1840.75</td>\n",
       "    </tr>\n",
       "    <tr>\n",
       "      <th>4</th>\n",
       "      <td>9237-HQITU</td>\n",
       "      <td>2019-09-01</td>\n",
       "      <td>2019-11-01 00:00:00</td>\n",
       "      <td>Month-to-month</td>\n",
       "      <td>Yes</td>\n",
       "      <td>Electronic check</td>\n",
       "      <td>70.70</td>\n",
       "      <td>151.65</td>\n",
       "    </tr>\n",
       "  </tbody>\n",
       "</table>\n",
       "</div>"
      ],
      "text/plain": [
       "   customerID   BeginDate              EndDate            Type  \\\n",
       "0  7590-VHVEG  2020-01-01                   No  Month-to-month   \n",
       "1  5575-GNVDE  2017-04-01                   No        One year   \n",
       "2  3668-QPYBK  2019-10-01  2019-12-01 00:00:00  Month-to-month   \n",
       "3  7795-CFOCW  2016-05-01                   No        One year   \n",
       "4  9237-HQITU  2019-09-01  2019-11-01 00:00:00  Month-to-month   \n",
       "\n",
       "  PaperlessBilling              PaymentMethod  MonthlyCharges TotalCharges  \n",
       "0              Yes           Electronic check           29.85        29.85  \n",
       "1               No               Mailed check           56.95       1889.5  \n",
       "2              Yes               Mailed check           53.85       108.15  \n",
       "3               No  Bank transfer (automatic)           42.30      1840.75  \n",
       "4              Yes           Electronic check           70.70       151.65  "
      ]
     },
     "execution_count": 2,
     "metadata": {},
     "output_type": "execute_result"
    }
   ],
   "source": [
    "contract = pd.read_csv('datasets/contract.csv')\n",
    "contract.head()"
   ]
  },
  {
   "cell_type": "code",
   "execution_count": 3,
   "id": "dbb87751",
   "metadata": {},
   "outputs": [
    {
     "data": {
      "text/html": [
       "<div>\n",
       "<style scoped>\n",
       "    .dataframe tbody tr th:only-of-type {\n",
       "        vertical-align: middle;\n",
       "    }\n",
       "\n",
       "    .dataframe tbody tr th {\n",
       "        vertical-align: top;\n",
       "    }\n",
       "\n",
       "    .dataframe thead th {\n",
       "        text-align: right;\n",
       "    }\n",
       "</style>\n",
       "<table border=\"1\" class=\"dataframe\">\n",
       "  <thead>\n",
       "    <tr style=\"text-align: right;\">\n",
       "      <th></th>\n",
       "      <th>customerID</th>\n",
       "      <th>gender</th>\n",
       "      <th>SeniorCitizen</th>\n",
       "      <th>Partner</th>\n",
       "      <th>Dependents</th>\n",
       "    </tr>\n",
       "  </thead>\n",
       "  <tbody>\n",
       "    <tr>\n",
       "      <th>0</th>\n",
       "      <td>7590-VHVEG</td>\n",
       "      <td>Female</td>\n",
       "      <td>0</td>\n",
       "      <td>Yes</td>\n",
       "      <td>No</td>\n",
       "    </tr>\n",
       "    <tr>\n",
       "      <th>1</th>\n",
       "      <td>5575-GNVDE</td>\n",
       "      <td>Male</td>\n",
       "      <td>0</td>\n",
       "      <td>No</td>\n",
       "      <td>No</td>\n",
       "    </tr>\n",
       "    <tr>\n",
       "      <th>2</th>\n",
       "      <td>3668-QPYBK</td>\n",
       "      <td>Male</td>\n",
       "      <td>0</td>\n",
       "      <td>No</td>\n",
       "      <td>No</td>\n",
       "    </tr>\n",
       "    <tr>\n",
       "      <th>3</th>\n",
       "      <td>7795-CFOCW</td>\n",
       "      <td>Male</td>\n",
       "      <td>0</td>\n",
       "      <td>No</td>\n",
       "      <td>No</td>\n",
       "    </tr>\n",
       "    <tr>\n",
       "      <th>4</th>\n",
       "      <td>9237-HQITU</td>\n",
       "      <td>Female</td>\n",
       "      <td>0</td>\n",
       "      <td>No</td>\n",
       "      <td>No</td>\n",
       "    </tr>\n",
       "  </tbody>\n",
       "</table>\n",
       "</div>"
      ],
      "text/plain": [
       "   customerID  gender  SeniorCitizen Partner Dependents\n",
       "0  7590-VHVEG  Female              0     Yes         No\n",
       "1  5575-GNVDE    Male              0      No         No\n",
       "2  3668-QPYBK    Male              0      No         No\n",
       "3  7795-CFOCW    Male              0      No         No\n",
       "4  9237-HQITU  Female              0      No         No"
      ]
     },
     "execution_count": 3,
     "metadata": {},
     "output_type": "execute_result"
    }
   ],
   "source": [
    "personal = pd.read_csv('datasets/personal.csv')\n",
    "personal.head()"
   ]
  },
  {
   "cell_type": "code",
   "execution_count": 4,
   "id": "a95241be",
   "metadata": {},
   "outputs": [
    {
     "data": {
      "text/html": [
       "<div>\n",
       "<style scoped>\n",
       "    .dataframe tbody tr th:only-of-type {\n",
       "        vertical-align: middle;\n",
       "    }\n",
       "\n",
       "    .dataframe tbody tr th {\n",
       "        vertical-align: top;\n",
       "    }\n",
       "\n",
       "    .dataframe thead th {\n",
       "        text-align: right;\n",
       "    }\n",
       "</style>\n",
       "<table border=\"1\" class=\"dataframe\">\n",
       "  <thead>\n",
       "    <tr style=\"text-align: right;\">\n",
       "      <th></th>\n",
       "      <th>customerID</th>\n",
       "      <th>InternetService</th>\n",
       "      <th>OnlineSecurity</th>\n",
       "      <th>OnlineBackup</th>\n",
       "      <th>DeviceProtection</th>\n",
       "      <th>TechSupport</th>\n",
       "      <th>StreamingTV</th>\n",
       "      <th>StreamingMovies</th>\n",
       "    </tr>\n",
       "  </thead>\n",
       "  <tbody>\n",
       "    <tr>\n",
       "      <th>0</th>\n",
       "      <td>7590-VHVEG</td>\n",
       "      <td>DSL</td>\n",
       "      <td>No</td>\n",
       "      <td>Yes</td>\n",
       "      <td>No</td>\n",
       "      <td>No</td>\n",
       "      <td>No</td>\n",
       "      <td>No</td>\n",
       "    </tr>\n",
       "    <tr>\n",
       "      <th>1</th>\n",
       "      <td>5575-GNVDE</td>\n",
       "      <td>DSL</td>\n",
       "      <td>Yes</td>\n",
       "      <td>No</td>\n",
       "      <td>Yes</td>\n",
       "      <td>No</td>\n",
       "      <td>No</td>\n",
       "      <td>No</td>\n",
       "    </tr>\n",
       "    <tr>\n",
       "      <th>2</th>\n",
       "      <td>3668-QPYBK</td>\n",
       "      <td>DSL</td>\n",
       "      <td>Yes</td>\n",
       "      <td>Yes</td>\n",
       "      <td>No</td>\n",
       "      <td>No</td>\n",
       "      <td>No</td>\n",
       "      <td>No</td>\n",
       "    </tr>\n",
       "    <tr>\n",
       "      <th>3</th>\n",
       "      <td>7795-CFOCW</td>\n",
       "      <td>DSL</td>\n",
       "      <td>Yes</td>\n",
       "      <td>No</td>\n",
       "      <td>Yes</td>\n",
       "      <td>Yes</td>\n",
       "      <td>No</td>\n",
       "      <td>No</td>\n",
       "    </tr>\n",
       "    <tr>\n",
       "      <th>4</th>\n",
       "      <td>9237-HQITU</td>\n",
       "      <td>Fiber optic</td>\n",
       "      <td>No</td>\n",
       "      <td>No</td>\n",
       "      <td>No</td>\n",
       "      <td>No</td>\n",
       "      <td>No</td>\n",
       "      <td>No</td>\n",
       "    </tr>\n",
       "  </tbody>\n",
       "</table>\n",
       "</div>"
      ],
      "text/plain": [
       "   customerID InternetService OnlineSecurity OnlineBackup DeviceProtection  \\\n",
       "0  7590-VHVEG             DSL             No          Yes               No   \n",
       "1  5575-GNVDE             DSL            Yes           No              Yes   \n",
       "2  3668-QPYBK             DSL            Yes          Yes               No   \n",
       "3  7795-CFOCW             DSL            Yes           No              Yes   \n",
       "4  9237-HQITU     Fiber optic             No           No               No   \n",
       "\n",
       "  TechSupport StreamingTV StreamingMovies  \n",
       "0          No          No              No  \n",
       "1          No          No              No  \n",
       "2          No          No              No  \n",
       "3         Yes          No              No  \n",
       "4          No          No              No  "
      ]
     },
     "execution_count": 4,
     "metadata": {},
     "output_type": "execute_result"
    }
   ],
   "source": [
    "internet = pd.read_csv('datasets/internet.csv')\n",
    "internet.head()"
   ]
  },
  {
   "cell_type": "code",
   "execution_count": 5,
   "id": "386fcecd",
   "metadata": {},
   "outputs": [
    {
     "data": {
      "text/html": [
       "<div>\n",
       "<style scoped>\n",
       "    .dataframe tbody tr th:only-of-type {\n",
       "        vertical-align: middle;\n",
       "    }\n",
       "\n",
       "    .dataframe tbody tr th {\n",
       "        vertical-align: top;\n",
       "    }\n",
       "\n",
       "    .dataframe thead th {\n",
       "        text-align: right;\n",
       "    }\n",
       "</style>\n",
       "<table border=\"1\" class=\"dataframe\">\n",
       "  <thead>\n",
       "    <tr style=\"text-align: right;\">\n",
       "      <th></th>\n",
       "      <th>customerID</th>\n",
       "      <th>MultipleLines</th>\n",
       "    </tr>\n",
       "  </thead>\n",
       "  <tbody>\n",
       "    <tr>\n",
       "      <th>0</th>\n",
       "      <td>5575-GNVDE</td>\n",
       "      <td>No</td>\n",
       "    </tr>\n",
       "    <tr>\n",
       "      <th>1</th>\n",
       "      <td>3668-QPYBK</td>\n",
       "      <td>No</td>\n",
       "    </tr>\n",
       "    <tr>\n",
       "      <th>2</th>\n",
       "      <td>9237-HQITU</td>\n",
       "      <td>No</td>\n",
       "    </tr>\n",
       "    <tr>\n",
       "      <th>3</th>\n",
       "      <td>9305-CDSKC</td>\n",
       "      <td>Yes</td>\n",
       "    </tr>\n",
       "    <tr>\n",
       "      <th>4</th>\n",
       "      <td>1452-KIOVK</td>\n",
       "      <td>Yes</td>\n",
       "    </tr>\n",
       "  </tbody>\n",
       "</table>\n",
       "</div>"
      ],
      "text/plain": [
       "   customerID MultipleLines\n",
       "0  5575-GNVDE            No\n",
       "1  3668-QPYBK            No\n",
       "2  9237-HQITU            No\n",
       "3  9305-CDSKC           Yes\n",
       "4  1452-KIOVK           Yes"
      ]
     },
     "execution_count": 5,
     "metadata": {},
     "output_type": "execute_result"
    }
   ],
   "source": [
    "phone = pd.read_csv('datasets/phone.csv')\n",
    "phone.head()"
   ]
  },
  {
   "cell_type": "markdown",
   "id": "dd735ad3",
   "metadata": {},
   "source": [
    "Объединим все датасеты в один по полю customerID"
   ]
  },
  {
   "cell_type": "code",
   "execution_count": 6,
   "id": "7ffc9d27",
   "metadata": {},
   "outputs": [
    {
     "data": {
      "text/html": [
       "<div>\n",
       "<style scoped>\n",
       "    .dataframe tbody tr th:only-of-type {\n",
       "        vertical-align: middle;\n",
       "    }\n",
       "\n",
       "    .dataframe tbody tr th {\n",
       "        vertical-align: top;\n",
       "    }\n",
       "\n",
       "    .dataframe thead th {\n",
       "        text-align: right;\n",
       "    }\n",
       "</style>\n",
       "<table border=\"1\" class=\"dataframe\">\n",
       "  <thead>\n",
       "    <tr style=\"text-align: right;\">\n",
       "      <th></th>\n",
       "      <th>customerID</th>\n",
       "      <th>gender</th>\n",
       "      <th>SeniorCitizen</th>\n",
       "      <th>Partner</th>\n",
       "      <th>Dependents</th>\n",
       "      <th>MultipleLines</th>\n",
       "      <th>InternetService</th>\n",
       "      <th>OnlineSecurity</th>\n",
       "      <th>OnlineBackup</th>\n",
       "      <th>DeviceProtection</th>\n",
       "      <th>TechSupport</th>\n",
       "      <th>StreamingTV</th>\n",
       "      <th>StreamingMovies</th>\n",
       "      <th>BeginDate</th>\n",
       "      <th>EndDate</th>\n",
       "      <th>Type</th>\n",
       "      <th>PaperlessBilling</th>\n",
       "      <th>PaymentMethod</th>\n",
       "      <th>MonthlyCharges</th>\n",
       "      <th>TotalCharges</th>\n",
       "    </tr>\n",
       "  </thead>\n",
       "  <tbody>\n",
       "    <tr>\n",
       "      <th>0</th>\n",
       "      <td>7590-VHVEG</td>\n",
       "      <td>Female</td>\n",
       "      <td>0</td>\n",
       "      <td>Yes</td>\n",
       "      <td>No</td>\n",
       "      <td>NaN</td>\n",
       "      <td>DSL</td>\n",
       "      <td>No</td>\n",
       "      <td>Yes</td>\n",
       "      <td>No</td>\n",
       "      <td>No</td>\n",
       "      <td>No</td>\n",
       "      <td>No</td>\n",
       "      <td>2020-01-01</td>\n",
       "      <td>No</td>\n",
       "      <td>Month-to-month</td>\n",
       "      <td>Yes</td>\n",
       "      <td>Electronic check</td>\n",
       "      <td>29.85</td>\n",
       "      <td>29.85</td>\n",
       "    </tr>\n",
       "    <tr>\n",
       "      <th>1</th>\n",
       "      <td>5575-GNVDE</td>\n",
       "      <td>Male</td>\n",
       "      <td>0</td>\n",
       "      <td>No</td>\n",
       "      <td>No</td>\n",
       "      <td>No</td>\n",
       "      <td>DSL</td>\n",
       "      <td>Yes</td>\n",
       "      <td>No</td>\n",
       "      <td>Yes</td>\n",
       "      <td>No</td>\n",
       "      <td>No</td>\n",
       "      <td>No</td>\n",
       "      <td>2017-04-01</td>\n",
       "      <td>No</td>\n",
       "      <td>One year</td>\n",
       "      <td>No</td>\n",
       "      <td>Mailed check</td>\n",
       "      <td>56.95</td>\n",
       "      <td>1889.5</td>\n",
       "    </tr>\n",
       "    <tr>\n",
       "      <th>2</th>\n",
       "      <td>3668-QPYBK</td>\n",
       "      <td>Male</td>\n",
       "      <td>0</td>\n",
       "      <td>No</td>\n",
       "      <td>No</td>\n",
       "      <td>No</td>\n",
       "      <td>DSL</td>\n",
       "      <td>Yes</td>\n",
       "      <td>Yes</td>\n",
       "      <td>No</td>\n",
       "      <td>No</td>\n",
       "      <td>No</td>\n",
       "      <td>No</td>\n",
       "      <td>2019-10-01</td>\n",
       "      <td>2019-12-01 00:00:00</td>\n",
       "      <td>Month-to-month</td>\n",
       "      <td>Yes</td>\n",
       "      <td>Mailed check</td>\n",
       "      <td>53.85</td>\n",
       "      <td>108.15</td>\n",
       "    </tr>\n",
       "    <tr>\n",
       "      <th>3</th>\n",
       "      <td>7795-CFOCW</td>\n",
       "      <td>Male</td>\n",
       "      <td>0</td>\n",
       "      <td>No</td>\n",
       "      <td>No</td>\n",
       "      <td>NaN</td>\n",
       "      <td>DSL</td>\n",
       "      <td>Yes</td>\n",
       "      <td>No</td>\n",
       "      <td>Yes</td>\n",
       "      <td>Yes</td>\n",
       "      <td>No</td>\n",
       "      <td>No</td>\n",
       "      <td>2016-05-01</td>\n",
       "      <td>No</td>\n",
       "      <td>One year</td>\n",
       "      <td>No</td>\n",
       "      <td>Bank transfer (automatic)</td>\n",
       "      <td>42.30</td>\n",
       "      <td>1840.75</td>\n",
       "    </tr>\n",
       "    <tr>\n",
       "      <th>4</th>\n",
       "      <td>9237-HQITU</td>\n",
       "      <td>Female</td>\n",
       "      <td>0</td>\n",
       "      <td>No</td>\n",
       "      <td>No</td>\n",
       "      <td>No</td>\n",
       "      <td>Fiber optic</td>\n",
       "      <td>No</td>\n",
       "      <td>No</td>\n",
       "      <td>No</td>\n",
       "      <td>No</td>\n",
       "      <td>No</td>\n",
       "      <td>No</td>\n",
       "      <td>2019-09-01</td>\n",
       "      <td>2019-11-01 00:00:00</td>\n",
       "      <td>Month-to-month</td>\n",
       "      <td>Yes</td>\n",
       "      <td>Electronic check</td>\n",
       "      <td>70.70</td>\n",
       "      <td>151.65</td>\n",
       "    </tr>\n",
       "    <tr>\n",
       "      <th>...</th>\n",
       "      <td>...</td>\n",
       "      <td>...</td>\n",
       "      <td>...</td>\n",
       "      <td>...</td>\n",
       "      <td>...</td>\n",
       "      <td>...</td>\n",
       "      <td>...</td>\n",
       "      <td>...</td>\n",
       "      <td>...</td>\n",
       "      <td>...</td>\n",
       "      <td>...</td>\n",
       "      <td>...</td>\n",
       "      <td>...</td>\n",
       "      <td>...</td>\n",
       "      <td>...</td>\n",
       "      <td>...</td>\n",
       "      <td>...</td>\n",
       "      <td>...</td>\n",
       "      <td>...</td>\n",
       "      <td>...</td>\n",
       "    </tr>\n",
       "    <tr>\n",
       "      <th>7038</th>\n",
       "      <td>6840-RESVB</td>\n",
       "      <td>Male</td>\n",
       "      <td>0</td>\n",
       "      <td>Yes</td>\n",
       "      <td>Yes</td>\n",
       "      <td>Yes</td>\n",
       "      <td>DSL</td>\n",
       "      <td>Yes</td>\n",
       "      <td>No</td>\n",
       "      <td>Yes</td>\n",
       "      <td>Yes</td>\n",
       "      <td>Yes</td>\n",
       "      <td>Yes</td>\n",
       "      <td>2018-02-01</td>\n",
       "      <td>No</td>\n",
       "      <td>One year</td>\n",
       "      <td>Yes</td>\n",
       "      <td>Mailed check</td>\n",
       "      <td>84.80</td>\n",
       "      <td>1990.5</td>\n",
       "    </tr>\n",
       "    <tr>\n",
       "      <th>7039</th>\n",
       "      <td>2234-XADUH</td>\n",
       "      <td>Female</td>\n",
       "      <td>0</td>\n",
       "      <td>Yes</td>\n",
       "      <td>Yes</td>\n",
       "      <td>Yes</td>\n",
       "      <td>Fiber optic</td>\n",
       "      <td>No</td>\n",
       "      <td>Yes</td>\n",
       "      <td>Yes</td>\n",
       "      <td>No</td>\n",
       "      <td>Yes</td>\n",
       "      <td>Yes</td>\n",
       "      <td>2014-02-01</td>\n",
       "      <td>No</td>\n",
       "      <td>One year</td>\n",
       "      <td>Yes</td>\n",
       "      <td>Credit card (automatic)</td>\n",
       "      <td>103.20</td>\n",
       "      <td>7362.9</td>\n",
       "    </tr>\n",
       "    <tr>\n",
       "      <th>7040</th>\n",
       "      <td>4801-JZAZL</td>\n",
       "      <td>Female</td>\n",
       "      <td>0</td>\n",
       "      <td>Yes</td>\n",
       "      <td>Yes</td>\n",
       "      <td>NaN</td>\n",
       "      <td>DSL</td>\n",
       "      <td>Yes</td>\n",
       "      <td>No</td>\n",
       "      <td>No</td>\n",
       "      <td>No</td>\n",
       "      <td>No</td>\n",
       "      <td>No</td>\n",
       "      <td>2019-03-01</td>\n",
       "      <td>No</td>\n",
       "      <td>Month-to-month</td>\n",
       "      <td>Yes</td>\n",
       "      <td>Electronic check</td>\n",
       "      <td>29.60</td>\n",
       "      <td>346.45</td>\n",
       "    </tr>\n",
       "    <tr>\n",
       "      <th>7041</th>\n",
       "      <td>8361-LTMKD</td>\n",
       "      <td>Male</td>\n",
       "      <td>1</td>\n",
       "      <td>Yes</td>\n",
       "      <td>No</td>\n",
       "      <td>Yes</td>\n",
       "      <td>Fiber optic</td>\n",
       "      <td>No</td>\n",
       "      <td>No</td>\n",
       "      <td>No</td>\n",
       "      <td>No</td>\n",
       "      <td>No</td>\n",
       "      <td>No</td>\n",
       "      <td>2019-07-01</td>\n",
       "      <td>2019-11-01 00:00:00</td>\n",
       "      <td>Month-to-month</td>\n",
       "      <td>Yes</td>\n",
       "      <td>Mailed check</td>\n",
       "      <td>74.40</td>\n",
       "      <td>306.6</td>\n",
       "    </tr>\n",
       "    <tr>\n",
       "      <th>7042</th>\n",
       "      <td>3186-AJIEK</td>\n",
       "      <td>Male</td>\n",
       "      <td>0</td>\n",
       "      <td>No</td>\n",
       "      <td>No</td>\n",
       "      <td>No</td>\n",
       "      <td>Fiber optic</td>\n",
       "      <td>Yes</td>\n",
       "      <td>No</td>\n",
       "      <td>Yes</td>\n",
       "      <td>Yes</td>\n",
       "      <td>Yes</td>\n",
       "      <td>Yes</td>\n",
       "      <td>2014-08-01</td>\n",
       "      <td>No</td>\n",
       "      <td>Two year</td>\n",
       "      <td>Yes</td>\n",
       "      <td>Bank transfer (automatic)</td>\n",
       "      <td>105.65</td>\n",
       "      <td>6844.5</td>\n",
       "    </tr>\n",
       "  </tbody>\n",
       "</table>\n",
       "<p>7043 rows × 20 columns</p>\n",
       "</div>"
      ],
      "text/plain": [
       "      customerID  gender  SeniorCitizen Partner Dependents MultipleLines  \\\n",
       "0     7590-VHVEG  Female              0     Yes         No           NaN   \n",
       "1     5575-GNVDE    Male              0      No         No            No   \n",
       "2     3668-QPYBK    Male              0      No         No            No   \n",
       "3     7795-CFOCW    Male              0      No         No           NaN   \n",
       "4     9237-HQITU  Female              0      No         No            No   \n",
       "...          ...     ...            ...     ...        ...           ...   \n",
       "7038  6840-RESVB    Male              0     Yes        Yes           Yes   \n",
       "7039  2234-XADUH  Female              0     Yes        Yes           Yes   \n",
       "7040  4801-JZAZL  Female              0     Yes        Yes           NaN   \n",
       "7041  8361-LTMKD    Male              1     Yes         No           Yes   \n",
       "7042  3186-AJIEK    Male              0      No         No            No   \n",
       "\n",
       "     InternetService OnlineSecurity OnlineBackup DeviceProtection TechSupport  \\\n",
       "0                DSL             No          Yes               No          No   \n",
       "1                DSL            Yes           No              Yes          No   \n",
       "2                DSL            Yes          Yes               No          No   \n",
       "3                DSL            Yes           No              Yes         Yes   \n",
       "4        Fiber optic             No           No               No          No   \n",
       "...              ...            ...          ...              ...         ...   \n",
       "7038             DSL            Yes           No              Yes         Yes   \n",
       "7039     Fiber optic             No          Yes              Yes          No   \n",
       "7040             DSL            Yes           No               No          No   \n",
       "7041     Fiber optic             No           No               No          No   \n",
       "7042     Fiber optic            Yes           No              Yes         Yes   \n",
       "\n",
       "     StreamingTV StreamingMovies   BeginDate              EndDate  \\\n",
       "0             No              No  2020-01-01                   No   \n",
       "1             No              No  2017-04-01                   No   \n",
       "2             No              No  2019-10-01  2019-12-01 00:00:00   \n",
       "3             No              No  2016-05-01                   No   \n",
       "4             No              No  2019-09-01  2019-11-01 00:00:00   \n",
       "...          ...             ...         ...                  ...   \n",
       "7038         Yes             Yes  2018-02-01                   No   \n",
       "7039         Yes             Yes  2014-02-01                   No   \n",
       "7040          No              No  2019-03-01                   No   \n",
       "7041          No              No  2019-07-01  2019-11-01 00:00:00   \n",
       "7042         Yes             Yes  2014-08-01                   No   \n",
       "\n",
       "                Type PaperlessBilling              PaymentMethod  \\\n",
       "0     Month-to-month              Yes           Electronic check   \n",
       "1           One year               No               Mailed check   \n",
       "2     Month-to-month              Yes               Mailed check   \n",
       "3           One year               No  Bank transfer (automatic)   \n",
       "4     Month-to-month              Yes           Electronic check   \n",
       "...              ...              ...                        ...   \n",
       "7038        One year              Yes               Mailed check   \n",
       "7039        One year              Yes    Credit card (automatic)   \n",
       "7040  Month-to-month              Yes           Electronic check   \n",
       "7041  Month-to-month              Yes               Mailed check   \n",
       "7042        Two year              Yes  Bank transfer (automatic)   \n",
       "\n",
       "      MonthlyCharges TotalCharges  \n",
       "0              29.85        29.85  \n",
       "1              56.95       1889.5  \n",
       "2              53.85       108.15  \n",
       "3              42.30      1840.75  \n",
       "4              70.70       151.65  \n",
       "...              ...          ...  \n",
       "7038           84.80       1990.5  \n",
       "7039          103.20       7362.9  \n",
       "7040           29.60       346.45  \n",
       "7041           74.40        306.6  \n",
       "7042          105.65       6844.5  \n",
       "\n",
       "[7043 rows x 20 columns]"
      ]
     },
     "execution_count": 6,
     "metadata": {},
     "output_type": "execute_result"
    }
   ],
   "source": [
    "df= personal.merge(phone, how ='outer', on='customerID').merge(internet,how ='outer', on='customerID').merge(contract,how ='outer', on='customerID')\n",
    "df"
   ]
  },
  {
   "cell_type": "markdown",
   "id": "eea7d8cb",
   "metadata": {},
   "source": [
    "## Первичный анализ, преобразование типов, выделение целевой переменной "
   ]
  },
  {
   "cell_type": "code",
   "execution_count": 7,
   "id": "8957a17b",
   "metadata": {},
   "outputs": [
    {
     "data": {
      "text/plain": [
       "(7043, 20)"
      ]
     },
     "metadata": {},
     "output_type": "display_data"
    },
    {
     "name": "stdout",
     "output_type": "stream",
     "text": [
      "<class 'pandas.core.frame.DataFrame'>\n",
      "Int64Index: 7043 entries, 0 to 7042\n",
      "Data columns (total 20 columns):\n",
      " #   Column            Non-Null Count  Dtype  \n",
      "---  ------            --------------  -----  \n",
      " 0   customerID        7043 non-null   object \n",
      " 1   gender            7043 non-null   object \n",
      " 2   SeniorCitizen     7043 non-null   int64  \n",
      " 3   Partner           7043 non-null   object \n",
      " 4   Dependents        7043 non-null   object \n",
      " 5   MultipleLines     6361 non-null   object \n",
      " 6   InternetService   5517 non-null   object \n",
      " 7   OnlineSecurity    5517 non-null   object \n",
      " 8   OnlineBackup      5517 non-null   object \n",
      " 9   DeviceProtection  5517 non-null   object \n",
      " 10  TechSupport       5517 non-null   object \n",
      " 11  StreamingTV       5517 non-null   object \n",
      " 12  StreamingMovies   5517 non-null   object \n",
      " 13  BeginDate         7043 non-null   object \n",
      " 14  EndDate           7043 non-null   object \n",
      " 15  Type              7043 non-null   object \n",
      " 16  PaperlessBilling  7043 non-null   object \n",
      " 17  PaymentMethod     7043 non-null   object \n",
      " 18  MonthlyCharges    7043 non-null   float64\n",
      " 19  TotalCharges      7043 non-null   object \n",
      "dtypes: float64(1), int64(1), object(18)\n",
      "memory usage: 1.1+ MB\n"
     ]
    }
   ],
   "source": [
    "display(df.shape)\n",
    "df.info()"
   ]
  },
  {
   "cell_type": "code",
   "execution_count": 8,
   "id": "4010700c",
   "metadata": {},
   "outputs": [
    {
     "data": {
      "text/plain": [
       "Index(['customerID', 'gender', 'SeniorCitizen', 'Partner', 'Dependents',\n",
       "       'MultipleLines', 'InternetService', 'OnlineSecurity', 'OnlineBackup',\n",
       "       'DeviceProtection', 'TechSupport', 'StreamingTV', 'StreamingMovies',\n",
       "       'BeginDate', 'EndDate', 'Type', 'PaperlessBilling', 'PaymentMethod',\n",
       "       'MonthlyCharges', 'TotalCharges'],\n",
       "      dtype='object')"
      ]
     },
     "execution_count": 8,
     "metadata": {},
     "output_type": "execute_result"
    }
   ],
   "source": [
    "df.columns"
   ]
  },
  {
   "cell_type": "markdown",
   "id": "55d6b7f6",
   "metadata": {},
   "source": [
    "Преобразуем в float и восстановим значения исходя из MonthlyCharges и Type"
   ]
  },
  {
   "cell_type": "code",
   "execution_count": 9,
   "id": "61a493cf",
   "metadata": {},
   "outputs": [
    {
     "data": {
      "text/plain": [
       "array(['Two year', 'One year'], dtype=object)"
      ]
     },
     "execution_count": 9,
     "metadata": {},
     "output_type": "execute_result"
    }
   ],
   "source": [
    "df['MonthlyCharges']=pd.to_numeric(df['MonthlyCharges'], downcast='float')\n",
    "df['TotalCharges']=pd.to_numeric(df['TotalCharges'],errors='coerce', downcast='float')\n",
    "\n",
    "df.loc[df['TotalCharges'].isna(),'Type'].unique()"
   ]
  },
  {
   "cell_type": "code",
   "execution_count": 10,
   "id": "027178e4",
   "metadata": {},
   "outputs": [
    {
     "data": {
      "text/plain": [
       "0"
      ]
     },
     "execution_count": 10,
     "metadata": {},
     "output_type": "execute_result"
    }
   ],
   "source": [
    "df['TotalCharges']=df['TotalCharges'].fillna(df['MonthlyCharges']*12 if df['Type'].str.split(' ')[0]=='One' else df['MonthlyCharges']*24)\n",
    "df['TotalCharges'].isna().sum()"
   ]
  },
  {
   "cell_type": "markdown",
   "id": "7668a36e",
   "metadata": {},
   "source": [
    "### Разделение переменных по типам\n"
   ]
  },
  {
   "cell_type": "code",
   "execution_count": 11,
   "id": "db3510c7",
   "metadata": {},
   "outputs": [],
   "source": [
    "bin_features  =['gender', 'SeniorCitizen', 'Partner', 'Dependents',\n",
    "                'MultipleLines', 'OnlineSecurity', 'OnlineBackup',\n",
    "                'DeviceProtection', 'TechSupport', 'StreamingTV', 'StreamingMovies',\n",
    "                'PaperlessBilling'] # бинарные\n",
    "cat_features  =['Type','PaymentMethod', 'InternetService'] #категориальные\n",
    "date_features =['BeginDate','EndDate','ActDate'] #даты\n",
    "num_features  =['MonthlyCharges', 'TotalCharges'] # числовые "
   ]
  },
  {
   "cell_type": "code",
   "execution_count": 12,
   "id": "8b34fa0f",
   "metadata": {},
   "outputs": [],
   "source": [
    "df['InternetService']=df['InternetService'].fillna('No Internet')"
   ]
  },
  {
   "cell_type": "code",
   "execution_count": 13,
   "id": "480bd86e",
   "metadata": {},
   "outputs": [],
   "source": [
    "df[bin_features+cat_features]=df[bin_features+cat_features].fillna('No')"
   ]
  },
  {
   "cell_type": "markdown",
   "id": "6dc1949f",
   "metadata": {},
   "source": [
    "Добавим столбец с датой актуальности"
   ]
  },
  {
   "cell_type": "code",
   "execution_count": 14,
   "id": "bd4c15bb",
   "metadata": {},
   "outputs": [],
   "source": [
    "ACT_DATE = '2020-02-01'\n",
    "df['ActDate']=df['EndDate'].where(df['EndDate']!='No',ACT_DATE)"
   ]
  },
  {
   "cell_type": "markdown",
   "id": "09b35de5",
   "metadata": {},
   "source": [
    "Преобразуем даты "
   ]
  },
  {
   "cell_type": "code",
   "execution_count": 15,
   "id": "42cb3be8",
   "metadata": {},
   "outputs": [
    {
     "name": "stdout",
     "output_type": "stream",
     "text": [
      "<class 'pandas.core.frame.DataFrame'>\n",
      "Int64Index: 7043 entries, 0 to 7042\n",
      "Data columns (total 3 columns):\n",
      " #   Column     Non-Null Count  Dtype         \n",
      "---  ------     --------------  -----         \n",
      " 0   BeginDate  7043 non-null   datetime64[ns]\n",
      " 1   EndDate    1869 non-null   datetime64[ns]\n",
      " 2   ActDate    7043 non-null   datetime64[ns]\n",
      "dtypes: datetime64[ns](3)\n",
      "memory usage: 478.1 KB\n"
     ]
    }
   ],
   "source": [
    "for feature in date_features:\n",
    "    df[feature]=pd.to_datetime(df[feature],format='%Y-%m-%d', errors='coerce')\n",
    "df[date_features].info()    "
   ]
  },
  {
   "cell_type": "markdown",
   "id": "3779d52a",
   "metadata": {},
   "source": [
    "Сделаем копию датасета, чтобы не потерять изначальные данные"
   ]
  },
  {
   "cell_type": "code",
   "execution_count": 16,
   "id": "fc97cc82",
   "metadata": {},
   "outputs": [],
   "source": [
    "df_backup=df.copy()"
   ]
  },
  {
   "cell_type": "markdown",
   "id": "20e1ec65",
   "metadata": {},
   "source": [
    "### Целевая переменная и анализ "
   ]
  },
  {
   "cell_type": "markdown",
   "id": "39d95f72",
   "metadata": {},
   "source": [
    "Выделим целевую переменную Left (1 - клиент расторгнул договор, 0 - действующий клиент) и посмотрим ее распределение"
   ]
  },
  {
   "cell_type": "code",
   "execution_count": 17,
   "id": "c3064efe",
   "metadata": {},
   "outputs": [
    {
     "data": {
      "image/png": "[encoded data removed]",
      "text/plain": [
       "<Figure size 576x288 with 1 Axes>"
      ]
     },
     "metadata": {
      "needs_background": "light"
     },
     "output_type": "display_data"
    }
   ],
   "source": [
    "df['Left']=df['EndDate'].notnull().astype('int')\n",
    "plt.figure(figsize=(8, 4))\n",
    "sns.countplot(df['Left'])\n",
    "plt.title(f\"Распределение целевой переменной\");"
   ]
  },
  {
   "cell_type": "markdown",
   "id": "bfb3c031",
   "metadata": {},
   "source": [
    "Вывод: большая честь клиентов все таки остается у оператора, но перекос значительный."
   ]
  },
  {
   "cell_type": "markdown",
   "id": "3e45c07c",
   "metadata": {},
   "source": [
    "### Категориальные переменные "
   ]
  },
  {
   "cell_type": "markdown",
   "id": "bb87d2fa",
   "metadata": {},
   "source": [
    "Посмотрим на распределение категориальных переменных с учетом целевой"
   ]
  },
  {
   "cell_type": "code",
   "execution_count": 18,
   "id": "764eddc6",
   "metadata": {},
   "outputs": [
    {
     "data": {
      "image/png": "[encoded data removed]",
      "text/plain": [
       "<Figure size 720x288 with 1 Axes>"
      ]
     },
     "metadata": {
      "needs_background": "light"
     },
     "output_type": "display_data"
    },
    {
     "data": {
      "image/png": "[encoded data removed]",
      "text/plain": [
       "<Figure size 720x288 with 1 Axes>"
      ]
     },
     "metadata": {
      "needs_background": "light"
     },
     "output_type": "display_data"
    },
    {
     "data": {
      "image/png": "[encoded data removed]",
      "text/plain": [
       "<Figure size 720x288 with 1 Axes>"
      ]
     },
     "metadata": {
      "needs_background": "light"
     },
     "output_type": "display_data"
    }
   ],
   "source": [
    "for feature in cat_features:\n",
    "    plt.figure(figsize=(10, 4))\n",
    "    prop_df = df[feature].groupby(df[\"Left\"]).value_counts(normalize=True).rename(\"Percent\").reset_index()\n",
    "    prop_df[\"Percent\"] *= 100\n",
    "    sns.barplot(x=feature, y=\"Percent\", hue=\"Left\", data=prop_df)\n",
    "    plt.title(f\"Распределение переменной {feature}\")"
   ]
  },
  {
   "cell_type": "markdown",
   "id": "28e9efdf",
   "metadata": {},
   "source": [
    "Вывод: в группе риска клиенты, оплачивающие услуги оптики ежемесячно, пользующиеся электронными чеками. В принципе довольно очевидно, каждый раз нажимая кнопку оплаты есть возможность обдумать стоит ли. InternetService DSL довольно старая технология с низкой скоростью, большая доля вероятности, что в данной местности просто нет еще операторов готовых предложить Fiber optic и уходить просто некуда."
   ]
  },
  {
   "cell_type": "markdown",
   "id": "45b273b7",
   "metadata": {},
   "source": [
    "### Бинарные переменные "
   ]
  },
  {
   "cell_type": "markdown",
   "id": "6493bcce",
   "metadata": {},
   "source": [
    "Добавим дополнительный признак trial, когда пользователь оплатил только 1 месяц"
   ]
  },
  {
   "cell_type": "code",
   "execution_count": 19,
   "id": "310f46a3",
   "metadata": {},
   "outputs": [],
   "source": [
    "df['Trial']=(df['MonthlyCharges']==df['TotalCharges']).astype('int')"
   ]
  },
  {
   "cell_type": "markdown",
   "id": "359bf2c0",
   "metadata": {},
   "source": [
    "Посмотрим на распределение бинарных переменных с учетов целевой"
   ]
  },
  {
   "cell_type": "code",
   "execution_count": 20,
   "id": "a14c150e",
   "metadata": {},
   "outputs": [
    {
     "data": {
      "text/plain": [
       "['gender',\n",
       " 'SeniorCitizen',\n",
       " 'Partner',\n",
       " 'Dependents',\n",
       " 'MultipleLines',\n",
       " 'OnlineSecurity',\n",
       " 'OnlineBackup',\n",
       " 'DeviceProtection',\n",
       " 'TechSupport',\n",
       " 'StreamingTV',\n",
       " 'StreamingMovies',\n",
       " 'PaperlessBilling',\n",
       " 'Trial']"
      ]
     },
     "execution_count": 20,
     "metadata": {},
     "output_type": "execute_result"
    }
   ],
   "source": [
    "bin_features=bin_features+['Trial']\n",
    "bin_features"
   ]
  },
  {
   "cell_type": "code",
   "execution_count": 21,
   "id": "6752e393",
   "metadata": {},
   "outputs": [
    {
     "data": {
      "image/png": "[encoded data removed]",
      "text/plain": [
       "<Figure size 1080x2160 with 13 Axes>"
      ]
     },
     "metadata": {
      "needs_background": "light"
     },
     "output_type": "display_data"
    }
   ],
   "source": [
    "fig = plt.figure(1, figsize=(15,30)) \n",
    "for i,feature in enumerate(bin_features):\n",
    "    plt.subplot(7,2,i+1)\n",
    "    prop_df = df[feature].groupby(df[\"Left\"]).value_counts(normalize=True).rename(\"percent\").reset_index()\n",
    "    prop_df[\"percent\"] *= 100\n",
    "    sns.barplot(x=feature, y=\"percent\", hue=\"Left\", data=prop_df)\n"
   ]
  },
  {
   "cell_type": "markdown",
   "id": "8974fe0c",
   "metadata": {},
   "source": [
    "Вывод: gender оказывает низкое влияние на целевую переменную, в отличии от остальных признаков, например если человек не пользуется услугой TechSupport можно сделать предполложение, что он технически подкован и с легкостью может поменять оператора, перейдя на более выгодные условия.  PaperlessBilling и онлайн оплата - призыв отказаться от бумажных чеков, что говорит о более \"современных\" пользователях, которые более склонны к изменениям, возраст мог бы подтвердить или опровергнуть данную гиоптезу.\n"
   ]
  },
  {
   "cell_type": "markdown",
   "id": "11756027",
   "metadata": {},
   "source": [
    "### Перекодировка "
   ]
  },
  {
   "cell_type": "markdown",
   "id": "77094df8",
   "metadata": {},
   "source": [
    "Перекодируем категориальные признаки"
   ]
  },
  {
   "cell_type": "code",
   "execution_count": 22,
   "id": "4f233ef1",
   "metadata": {},
   "outputs": [],
   "source": [
    "oh_features=pd.get_dummies(df[bin_features+cat_features], drop_first=True)\n",
    "df=df.drop(columns=bin_features+cat_features)\n",
    "df=df.join(oh_features)\n"
   ]
  },
  {
   "cell_type": "code",
   "execution_count": 23,
   "id": "87a5d4ec",
   "metadata": {},
   "outputs": [
    {
     "data": {
      "text/html": [
       "<div>\n",
       "<style scoped>\n",
       "    .dataframe tbody tr th:only-of-type {\n",
       "        vertical-align: middle;\n",
       "    }\n",
       "\n",
       "    .dataframe tbody tr th {\n",
       "        vertical-align: top;\n",
       "    }\n",
       "\n",
       "    .dataframe thead th {\n",
       "        text-align: right;\n",
       "    }\n",
       "</style>\n",
       "<table border=\"1\" class=\"dataframe\">\n",
       "  <thead>\n",
       "    <tr style=\"text-align: right;\">\n",
       "      <th></th>\n",
       "      <th>customerID</th>\n",
       "      <th>BeginDate</th>\n",
       "      <th>EndDate</th>\n",
       "      <th>MonthlyCharges</th>\n",
       "      <th>TotalCharges</th>\n",
       "      <th>ActDate</th>\n",
       "      <th>Left</th>\n",
       "      <th>SeniorCitizen</th>\n",
       "      <th>Trial</th>\n",
       "      <th>gender_Male</th>\n",
       "      <th>...</th>\n",
       "      <th>StreamingTV_Yes</th>\n",
       "      <th>StreamingMovies_Yes</th>\n",
       "      <th>PaperlessBilling_Yes</th>\n",
       "      <th>Type_One year</th>\n",
       "      <th>Type_Two year</th>\n",
       "      <th>PaymentMethod_Credit card (automatic)</th>\n",
       "      <th>PaymentMethod_Electronic check</th>\n",
       "      <th>PaymentMethod_Mailed check</th>\n",
       "      <th>InternetService_Fiber optic</th>\n",
       "      <th>InternetService_No Internet</th>\n",
       "    </tr>\n",
       "  </thead>\n",
       "  <tbody>\n",
       "    <tr>\n",
       "      <th>0</th>\n",
       "      <td>7590-VHVEG</td>\n",
       "      <td>2020-01-01</td>\n",
       "      <td>NaT</td>\n",
       "      <td>29.850000</td>\n",
       "      <td>29.850000</td>\n",
       "      <td>2020-02-01</td>\n",
       "      <td>0</td>\n",
       "      <td>0</td>\n",
       "      <td>1</td>\n",
       "      <td>0</td>\n",
       "      <td>...</td>\n",
       "      <td>0</td>\n",
       "      <td>0</td>\n",
       "      <td>1</td>\n",
       "      <td>0</td>\n",
       "      <td>0</td>\n",
       "      <td>0</td>\n",
       "      <td>1</td>\n",
       "      <td>0</td>\n",
       "      <td>0</td>\n",
       "      <td>0</td>\n",
       "    </tr>\n",
       "    <tr>\n",
       "      <th>1</th>\n",
       "      <td>5575-GNVDE</td>\n",
       "      <td>2017-04-01</td>\n",
       "      <td>NaT</td>\n",
       "      <td>56.950001</td>\n",
       "      <td>1889.500000</td>\n",
       "      <td>2020-02-01</td>\n",
       "      <td>0</td>\n",
       "      <td>0</td>\n",
       "      <td>0</td>\n",
       "      <td>1</td>\n",
       "      <td>...</td>\n",
       "      <td>0</td>\n",
       "      <td>0</td>\n",
       "      <td>0</td>\n",
       "      <td>1</td>\n",
       "      <td>0</td>\n",
       "      <td>0</td>\n",
       "      <td>0</td>\n",
       "      <td>1</td>\n",
       "      <td>0</td>\n",
       "      <td>0</td>\n",
       "    </tr>\n",
       "    <tr>\n",
       "      <th>2</th>\n",
       "      <td>3668-QPYBK</td>\n",
       "      <td>2019-10-01</td>\n",
       "      <td>2019-12-01</td>\n",
       "      <td>53.849998</td>\n",
       "      <td>108.150002</td>\n",
       "      <td>2019-12-01</td>\n",
       "      <td>1</td>\n",
       "      <td>0</td>\n",
       "      <td>0</td>\n",
       "      <td>1</td>\n",
       "      <td>...</td>\n",
       "      <td>0</td>\n",
       "      <td>0</td>\n",
       "      <td>1</td>\n",
       "      <td>0</td>\n",
       "      <td>0</td>\n",
       "      <td>0</td>\n",
       "      <td>0</td>\n",
       "      <td>1</td>\n",
       "      <td>0</td>\n",
       "      <td>0</td>\n",
       "    </tr>\n",
       "    <tr>\n",
       "      <th>3</th>\n",
       "      <td>7795-CFOCW</td>\n",
       "      <td>2016-05-01</td>\n",
       "      <td>NaT</td>\n",
       "      <td>42.299999</td>\n",
       "      <td>1840.750000</td>\n",
       "      <td>2020-02-01</td>\n",
       "      <td>0</td>\n",
       "      <td>0</td>\n",
       "      <td>0</td>\n",
       "      <td>1</td>\n",
       "      <td>...</td>\n",
       "      <td>0</td>\n",
       "      <td>0</td>\n",
       "      <td>0</td>\n",
       "      <td>1</td>\n",
       "      <td>0</td>\n",
       "      <td>0</td>\n",
       "      <td>0</td>\n",
       "      <td>0</td>\n",
       "      <td>0</td>\n",
       "      <td>0</td>\n",
       "    </tr>\n",
       "    <tr>\n",
       "      <th>4</th>\n",
       "      <td>9237-HQITU</td>\n",
       "      <td>2019-09-01</td>\n",
       "      <td>2019-11-01</td>\n",
       "      <td>70.699997</td>\n",
       "      <td>151.649994</td>\n",
       "      <td>2019-11-01</td>\n",
       "      <td>1</td>\n",
       "      <td>0</td>\n",
       "      <td>0</td>\n",
       "      <td>0</td>\n",
       "      <td>...</td>\n",
       "      <td>0</td>\n",
       "      <td>0</td>\n",
       "      <td>1</td>\n",
       "      <td>0</td>\n",
       "      <td>0</td>\n",
       "      <td>0</td>\n",
       "      <td>1</td>\n",
       "      <td>0</td>\n",
       "      <td>1</td>\n",
       "      <td>0</td>\n",
       "    </tr>\n",
       "  </tbody>\n",
       "</table>\n",
       "<p>5 rows × 27 columns</p>\n",
       "</div>"
      ],
      "text/plain": [
       "   customerID  BeginDate    EndDate  MonthlyCharges  TotalCharges    ActDate  \\\n",
       "0  7590-VHVEG 2020-01-01        NaT       29.850000     29.850000 2020-02-01   \n",
       "1  5575-GNVDE 2017-04-01        NaT       56.950001   1889.500000 2020-02-01   \n",
       "2  3668-QPYBK 2019-10-01 2019-12-01       53.849998    108.150002 2019-12-01   \n",
       "3  7795-CFOCW 2016-05-01        NaT       42.299999   1840.750000 2020-02-01   \n",
       "4  9237-HQITU 2019-09-01 2019-11-01       70.699997    151.649994 2019-11-01   \n",
       "\n",
       "   Left  SeniorCitizen  Trial  gender_Male  ...  StreamingTV_Yes  \\\n",
       "0     0              0      1            0  ...                0   \n",
       "1     0              0      0            1  ...                0   \n",
       "2     1              0      0            1  ...                0   \n",
       "3     0              0      0            1  ...                0   \n",
       "4     1              0      0            0  ...                0   \n",
       "\n",
       "   StreamingMovies_Yes  PaperlessBilling_Yes  Type_One year  Type_Two year  \\\n",
       "0                    0                     1              0              0   \n",
       "1                    0                     0              1              0   \n",
       "2                    0                     1              0              0   \n",
       "3                    0                     0              1              0   \n",
       "4                    0                     1              0              0   \n",
       "\n",
       "   PaymentMethod_Credit card (automatic)  PaymentMethod_Electronic check  \\\n",
       "0                                      0                               1   \n",
       "1                                      0                               0   \n",
       "2                                      0                               0   \n",
       "3                                      0                               0   \n",
       "4                                      0                               1   \n",
       "\n",
       "   PaymentMethod_Mailed check  InternetService_Fiber optic  \\\n",
       "0                           0                            0   \n",
       "1                           1                            0   \n",
       "2                           1                            0   \n",
       "3                           0                            0   \n",
       "4                           0                            1   \n",
       "\n",
       "   InternetService_No Internet  \n",
       "0                            0  \n",
       "1                            0  \n",
       "2                            0  \n",
       "3                            0  \n",
       "4                            0  \n",
       "\n",
       "[5 rows x 27 columns]"
      ]
     },
     "execution_count": 23,
     "metadata": {},
     "output_type": "execute_result"
    }
   ],
   "source": [
    "df.head()"
   ]
  },
  {
   "cell_type": "markdown",
   "id": "25ffb930",
   "metadata": {},
   "source": [
    "Определим значимость категориальных и бинарных признаков"
   ]
  },
  {
   "cell_type": "code",
   "execution_count": 24,
   "id": "fed131ff",
   "metadata": {},
   "outputs": [
    {
     "data": {
      "image/png": "[encoded data removed]",
      "text/plain": [
       "<Figure size 432x288 with 1 Axes>"
      ]
     },
     "metadata": {
      "needs_background": "light"
     },
     "output_type": "display_data"
    }
   ],
   "source": [
    "imp_cat = pd.Series(mutual_info_classif(df[oh_features.columns], df[\"Left\"],\n",
    "                                        discrete_features=True), index=oh_features.columns)\n",
    "imp_cat.sort_values(inplace=True, ascending=False)\n",
    "imp_cat.plot(kind=\"bar\");"
   ]
  },
  {
   "cell_type": "markdown",
   "id": "a10028fc",
   "metadata": {},
   "source": [
    "Вывод: Возможно gender можно исключить, т.к. влияние очень низкое. DeviceProtection StreamingTV, StreamingMovies, MultipleLines под вопросом, я бы проверил на кроссвалидации с ними и без."
   ]
  },
  {
   "cell_type": "markdown",
   "id": "6154b7bd",
   "metadata": {},
   "source": [
    "### Количественные переменные"
   ]
  },
  {
   "cell_type": "markdown",
   "id": "31e4ff71",
   "metadata": {},
   "source": [
    "#### Распределение количественных переменных"
   ]
  },
  {
   "cell_type": "code",
   "execution_count": 25,
   "id": "a48f7077",
   "metadata": {},
   "outputs": [
    {
     "data": {
      "image/png": "[encoded data removed]",
      "text/plain": [
       "<Figure size 432x288 with 1 Axes>"
      ]
     },
     "metadata": {
      "needs_background": "light"
     },
     "output_type": "display_data"
    },
    {
     "data": {
      "image/png": "[encoded data removed]",
      "text/plain": [
       "<Figure size 432x288 with 1 Axes>"
      ]
     },
     "metadata": {
      "needs_background": "light"
     },
     "output_type": "display_data"
    }
   ],
   "source": [
    "for feature in num_features:\n",
    "    plt.figure()\n",
    "    plt.title(f\"Распределение {feature} в зависимости от Left\")\n",
    "    sns.boxplot(\"Left\", feature, data=df)"
   ]
  },
  {
   "cell_type": "markdown",
   "id": "6cbbec7c",
   "metadata": {},
   "source": [
    "Вывод: если смотреть на ежемесячную оплату, но можно сказать что те кто платил большую сумму в месяц сменил оператора."
   ]
  },
  {
   "cell_type": "markdown",
   "id": "e1a94e00",
   "metadata": {},
   "source": [
    "#### Добавление признаков"
   ]
  },
  {
   "cell_type": "markdown",
   "id": "290593af",
   "metadata": {},
   "source": [
    "Добавим еще один признак \"длительность пользования оператором\" durationUse"
   ]
  },
  {
   "cell_type": "code",
   "execution_count": 26,
   "id": "63df717c",
   "metadata": {},
   "outputs": [
    {
     "data": {
      "text/plain": [
       "array([   0,   30,   31,   61,   62,   91,   92,  122,  123,  153,  183,\n",
       "        184,  214,  215,  242,  244,  245,  273,  275,  276,  303,  304,\n",
       "        306,  334,  335,  337,  365,  395,  396,  426,  427,  456,  457,\n",
       "        487,  488,  518,  548,  549,  579,  580,  607,  609,  610,  638,\n",
       "        640,  641,  668,  669,  671,  699,  700,  702,  730,  760,  761,\n",
       "        791,  792,  821,  822,  852,  853,  883,  913,  914,  944,  945,\n",
       "        972,  974,  975, 1003, 1005, 1006, 1033, 1034, 1036, 1064, 1065,\n",
       "       1067, 1095, 1125, 1126, 1156, 1157, 1186, 1187, 1217, 1218, 1248,\n",
       "       1278, 1279, 1309, 1310, 1338, 1340, 1369, 1370, 1371, 1399, 1400,\n",
       "       1401, 1430, 1431, 1432, 1461, 1491, 1492, 1522, 1523, 1552, 1553,\n",
       "       1583, 1584, 1614, 1644, 1645, 1675, 1676, 1703, 1705, 1706, 1734,\n",
       "       1736, 1737, 1764, 1765, 1767, 1795, 1796, 1798, 1826, 1856, 1857,\n",
       "       1887, 1888, 1917, 1918, 1948, 1949, 1979, 2009, 2010, 2040, 2041,\n",
       "       2068, 2070, 2071, 2099, 2101, 2102, 2129, 2130, 2132, 2160, 2161,\n",
       "       2163, 2191], dtype=int64)"
      ]
     },
     "execution_count": 26,
     "metadata": {},
     "output_type": "execute_result"
    }
   ],
   "source": [
    "df['durationUse']=(df['ActDate']-df['BeginDate']).dt.days\n",
    "np.sort(df['durationUse'].unique())"
   ]
  },
  {
   "cell_type": "code",
   "execution_count": 27,
   "id": "a14450a1",
   "metadata": {},
   "outputs": [
    {
     "data": {
      "text/plain": [
       "<AxesSubplot:xlabel='durationUse', ylabel='Density'>"
      ]
     },
     "execution_count": 27,
     "metadata": {},
     "output_type": "execute_result"
    },
    {
     "data": {
      "image/png": "[encoded data removed]",
      "text/plain": [
       "<Figure size 432x288 with 1 Axes>"
      ]
     },
     "metadata": {
      "needs_background": "light"
     },
     "output_type": "display_data"
    }
   ],
   "source": [
    "sns.distplot(df['durationUse'])"
   ]
  },
  {
   "cell_type": "code",
   "execution_count": 28,
   "id": "a09e590e",
   "metadata": {},
   "outputs": [
    {
     "data": {
      "image/png": "[encoded data removed]",
      "text/plain": [
       "<Figure size 432x288 with 1 Axes>"
      ]
     },
     "metadata": {
      "needs_background": "light"
     },
     "output_type": "display_data"
    }
   ],
   "source": [
    "plt.figure()\n",
    "plt.title(f\"Распределение durationUse в зависимости от Left\")\n",
    "sns.boxplot(\"Left\", 'durationUse', data=df);"
   ]
  },
  {
   "cell_type": "markdown",
   "id": "441a264b",
   "metadata": {},
   "source": [
    "Вывод: тут все очеведно, чем дольше пользователь у оператора, тем больше его лояльность. "
   ]
  },
  {
   "cell_type": "markdown",
   "id": "f92ff2d1",
   "metadata": {},
   "source": [
    "### Портрет самого ценного клиента"
   ]
  },
  {
   "cell_type": "markdown",
   "id": "2ed61617",
   "metadata": {},
   "source": [
    "А сколько в среднем платят клиенты, потребляющие разные услуги"
   ]
  },
  {
   "cell_type": "code",
   "execution_count": 29,
   "id": "442d5ebd",
   "metadata": {},
   "outputs": [],
   "source": [
    "df_backup=df_backup.join(df[['durationUse','Left']])"
   ]
  },
  {
   "cell_type": "code",
   "execution_count": 30,
   "id": "8ffc1ec0",
   "metadata": {},
   "outputs": [
    {
     "data": {
      "text/html": [
       "<div>\n",
       "<style scoped>\n",
       "    .dataframe tbody tr th:only-of-type {\n",
       "        vertical-align: middle;\n",
       "    }\n",
       "\n",
       "    .dataframe tbody tr th {\n",
       "        vertical-align: top;\n",
       "    }\n",
       "\n",
       "    .dataframe thead th {\n",
       "        text-align: right;\n",
       "    }\n",
       "</style>\n",
       "<table border=\"1\" class=\"dataframe\">\n",
       "  <thead>\n",
       "    <tr style=\"text-align: right;\">\n",
       "      <th></th>\n",
       "      <th>MonthlyCharges</th>\n",
       "      <th>durationUse</th>\n",
       "      <th>TotalCharge</th>\n",
       "    </tr>\n",
       "    <tr>\n",
       "      <th>InternetService</th>\n",
       "      <th></th>\n",
       "      <th></th>\n",
       "      <th></th>\n",
       "    </tr>\n",
       "  </thead>\n",
       "  <tbody>\n",
       "    <tr>\n",
       "      <th>DSL</th>\n",
       "      <td>49.083225</td>\n",
       "      <td>429.616558</td>\n",
       "      <td>702.898876</td>\n",
       "    </tr>\n",
       "    <tr>\n",
       "      <th>Fiber optic</th>\n",
       "      <td>88.126488</td>\n",
       "      <td>614.851195</td>\n",
       "      <td>1806.155877</td>\n",
       "    </tr>\n",
       "    <tr>\n",
       "      <th>No Internet</th>\n",
       "      <td>20.368141</td>\n",
       "      <td>250.840708</td>\n",
       "      <td>170.305298</td>\n",
       "    </tr>\n",
       "  </tbody>\n",
       "</table>\n",
       "</div>"
      ],
      "text/plain": [
       "                 MonthlyCharges  durationUse  TotalCharge\n",
       "InternetService                                          \n",
       "DSL                   49.083225   429.616558   702.898876\n",
       "Fiber optic           88.126488   614.851195  1806.155877\n",
       "No Internet           20.368141   250.840708   170.305298"
      ]
     },
     "metadata": {},
     "output_type": "display_data"
    },
    {
     "data": {
      "image/png": "[encoded data removed]",
      "text/plain": [
       "<Figure size 1080x360 with 3 Axes>"
      ]
     },
     "metadata": {
      "needs_background": "light"
     },
     "output_type": "display_data"
    }
   ],
   "source": [
    "data=pd.DataFrame(df_backup[df_backup['Left']==1].groupby('InternetService')['MonthlyCharges','durationUse'].mean())\n",
    "data['TotalCharge']=data['MonthlyCharges']*data['durationUse']/30\n",
    "display(data)\n",
    "fig,ax =plt.subplots(1,3, figsize=(15,5))\n",
    "sns.barplot(data=data, x=data.index, y='MonthlyCharges',ax=ax[0]);\n",
    "ax[0].set_title('Средняя месячная прибыль')\n",
    "sns.barplot(data=data, x=data.index, y='durationUse', ax=ax[1]);\n",
    "ax[1].set_title('Среднее время пользования')\n",
    "sns.barplot(data=data, x=data.index, y='TotalCharge', ax=ax[2]);\n",
    "ax[2].set_title('Средний доход от пользования');"
   ]
  },
  {
   "cell_type": "markdown",
   "id": "72324d71",
   "metadata": {},
   "source": [
    "Самые ценные клиенты, которые пользуются оптикой, с них самый большой средний доход и им прежде всего надо предлагать бонусы."
   ]
  },
  {
   "cell_type": "code",
   "execution_count": 31,
   "id": "9e6c0acf",
   "metadata": {},
   "outputs": [
    {
     "data": {
      "text/html": [
       "<div>\n",
       "<style scoped>\n",
       "    .dataframe tbody tr th:only-of-type {\n",
       "        vertical-align: middle;\n",
       "    }\n",
       "\n",
       "    .dataframe tbody tr th {\n",
       "        vertical-align: top;\n",
       "    }\n",
       "\n",
       "    .dataframe thead th {\n",
       "        text-align: right;\n",
       "    }\n",
       "</style>\n",
       "<table border=\"1\" class=\"dataframe\">\n",
       "  <thead>\n",
       "    <tr style=\"text-align: right;\">\n",
       "      <th></th>\n",
       "      <th>MonthlyCharges</th>\n",
       "      <th>durationUse</th>\n",
       "      <th>TotalCharge</th>\n",
       "    </tr>\n",
       "    <tr>\n",
       "      <th>Type</th>\n",
       "      <th></th>\n",
       "      <th></th>\n",
       "      <th></th>\n",
       "    </tr>\n",
       "  </thead>\n",
       "  <tbody>\n",
       "    <tr>\n",
       "      <th>Month-to-month</th>\n",
       "      <td>86.473320</td>\n",
       "      <td>495.516351</td>\n",
       "      <td>1428.298133</td>\n",
       "    </tr>\n",
       "    <tr>\n",
       "      <th>One year</th>\n",
       "      <td>101.653366</td>\n",
       "      <td>1564.615385</td>\n",
       "      <td>5301.614016</td>\n",
       "    </tr>\n",
       "    <tr>\n",
       "      <th>Two year</th>\n",
       "      <td>104.712906</td>\n",
       "      <td>1901.677419</td>\n",
       "      <td>6637.672288</td>\n",
       "    </tr>\n",
       "  </tbody>\n",
       "</table>\n",
       "</div>"
      ],
      "text/plain": [
       "                MonthlyCharges  durationUse  TotalCharge\n",
       "Type                                                    \n",
       "Month-to-month       86.473320   495.516351  1428.298133\n",
       "One year            101.653366  1564.615385  5301.614016\n",
       "Two year            104.712906  1901.677419  6637.672288"
      ]
     },
     "metadata": {},
     "output_type": "display_data"
    },
    {
     "data": {
      "image/png": "[encoded data removed]",
      "text/plain": [
       "<Figure size 1080x360 with 3 Axes>"
      ]
     },
     "metadata": {
      "needs_background": "light"
     },
     "output_type": "display_data"
    }
   ],
   "source": [
    "data=df_backup[(df_backup['InternetService']=='Fiber optic')&(df_backup['Left']==1)].groupby('Type')['MonthlyCharges','durationUse'].mean()\n",
    "data['TotalCharge']=data['MonthlyCharges']*data['durationUse']/30\n",
    "display(data)\n",
    "fig,ax =plt.subplots(1,3, figsize=(15,5))\n",
    "sns.barplot(data=data, x=data.index, y='MonthlyCharges',ax=ax[0]);\n",
    "ax[0].set_title('Средняя месячная прибыль')\n",
    "sns.barplot(data=data, x=data.index, y='durationUse', ax=ax[1]);\n",
    "ax[1].set_title('Среднее время пользования')\n",
    "sns.barplot(data=data, x=data.index, y='TotalCharge', ax=ax[2]);\n",
    "ax[2].set_title('Средний доход от пользования');"
   ]
  },
  {
   "cell_type": "markdown",
   "id": "7b47f123",
   "metadata": {},
   "source": [
    "И что очевидно если он платит на много месяцев, а лучше лет вперед."
   ]
  },
  {
   "cell_type": "code",
   "execution_count": 32,
   "id": "085ab6a2",
   "metadata": {},
   "outputs": [
    {
     "data": {
      "image/png": "[encoded data removed]",
      "text/plain": [
       "<Figure size 432x288 with 1 Axes>"
      ]
     },
     "metadata": {
      "needs_background": "light"
     },
     "output_type": "display_data"
    }
   ],
   "source": [
    "sns.scatterplot(data=df_backup[df_backup['Left']==1], x='durationUse', y='MonthlyCharges');"
   ]
  },
  {
   "cell_type": "code",
   "execution_count": null,
   "id": "6a521afa",
   "metadata": {},
   "outputs": [],
   "source": []
  },
  {
   "cell_type": "markdown",
   "id": "3e53e1cf",
   "metadata": {},
   "source": [
    "Также интересно, что наблюдается большое количество людей, которые уходят в первые месяцы использования оплачивая дорогие услуги."
   ]
  },
  {
   "cell_type": "markdown",
   "id": "59575169",
   "metadata": {},
   "source": [
    "#### Корреляция признаков"
   ]
  },
  {
   "cell_type": "code",
   "execution_count": 33,
   "id": "eb2eba57",
   "metadata": {},
   "outputs": [
    {
     "data": {
      "image/png": "[encoded data removed]",
      "text/plain": [
       "<Figure size 576x360 with 2 Axes>"
      ]
     },
     "metadata": {
      "needs_background": "light"
     },
     "output_type": "display_data"
    }
   ],
   "source": [
    "plt.figure(figsize=(8, 5))\n",
    "sns.heatmap(df[num_features+['durationUse']].corr().abs(), vmin=0, vmax=1, annot=True, fmt=\".2f\");"
   ]
  },
  {
   "cell_type": "markdown",
   "id": "32b44426",
   "metadata": {},
   "source": [
    "Вывод: Чем дольше пользуется и больше платит, тем больше общая сумма. Для построения модели я бы убрал TotalCharges как сильно коррелирующей."
   ]
  },
  {
   "cell_type": "code",
   "execution_count": 34,
   "id": "3618c863",
   "metadata": {},
   "outputs": [
    {
     "data": {
      "image/png": "[encoded data removed]",
      "text/plain": [
       "<Figure size 432x288 with 1 Axes>"
      ]
     },
     "metadata": {
      "needs_background": "light"
     },
     "output_type": "display_data"
    },
    {
     "data": {
      "image/png": "[encoded data removed]",
      "text/plain": [
       "<Figure size 432x288 with 1 Axes>"
      ]
     },
     "metadata": {
      "needs_background": "light"
     },
     "output_type": "display_data"
    },
    {
     "data": {
      "image/png": "[encoded data removed]",
      "text/plain": [
       "<Figure size 432x288 with 1 Axes>"
      ]
     },
     "metadata": {
      "needs_background": "light"
     },
     "output_type": "display_data"
    }
   ],
   "source": [
    "for feature in num_features+['durationUse']:\n",
    "    plt.figure()\n",
    "    plt.title(f\"Распределение {feature}\")\n",
    "    sns.distplot(df[feature], kde=True)"
   ]
  },
  {
   "cell_type": "markdown",
   "id": "15333079",
   "metadata": {},
   "source": [
    "Выводы: Исходя из распределений, есть большое количество новопришедших пользователей, которые только подключились, либо кто попробовал и ушел. По продолжительности использования и месячной оплате получилось бимодальное распределение, что наверное не так плохо для бинарной классификации."
   ]
  },
  {
   "cell_type": "markdown",
   "id": "a49b4f4d",
   "metadata": {},
   "source": [
    "#### Дисперсионный анализ ANOVA для определения значимости числовых признаков"
   ]
  },
  {
   "cell_type": "code",
   "execution_count": 35,
   "id": "6d70d06a",
   "metadata": {},
   "outputs": [
    {
     "data": {
      "image/png": "[encoded data removed]",
      "text/plain": [
       "<Figure size 432x288 with 1 Axes>"
      ]
     },
     "metadata": {
      "needs_background": "light"
     },
     "output_type": "display_data"
    }
   ],
   "source": [
    "imp_num = pd.Series(f_classif(df[num_features+['durationUse']], df[\"Left\"])[0], index=num_features+['durationUse'])\n",
    "imp_num.sort_values(inplace=True, ascending=False)\n",
    "imp_num.plot(kind=\"bar\");"
   ]
  },
  {
   "cell_type": "markdown",
   "id": "0d251940",
   "metadata": {},
   "source": [
    "Вывод: наиболее значимым оказался новый признак с длительность пользования услугами оператора."
   ]
  },
  {
   "cell_type": "markdown",
   "id": "1f79b3ad",
   "metadata": {},
   "source": [
    "## Подготовка признаков "
   ]
  },
  {
   "cell_type": "code",
   "execution_count": 36,
   "id": "f11d93d0",
   "metadata": {},
   "outputs": [
    {
     "data": {
      "text/plain": [
       "Index(['customerID', 'BeginDate', 'EndDate', 'MonthlyCharges', 'TotalCharges',\n",
       "       'ActDate', 'Left', 'SeniorCitizen', 'Trial', 'gender_Male',\n",
       "       'Partner_Yes', 'Dependents_Yes', 'MultipleLines_Yes',\n",
       "       'OnlineSecurity_Yes', 'OnlineBackup_Yes', 'DeviceProtection_Yes',\n",
       "       'TechSupport_Yes', 'StreamingTV_Yes', 'StreamingMovies_Yes',\n",
       "       'PaperlessBilling_Yes', 'Type_One year', 'Type_Two year',\n",
       "       'PaymentMethod_Credit card (automatic)',\n",
       "       'PaymentMethod_Electronic check', 'PaymentMethod_Mailed check',\n",
       "       'InternetService_Fiber optic', 'InternetService_No Internet',\n",
       "       'durationUse'],\n",
       "      dtype='object')"
      ]
     },
     "execution_count": 36,
     "metadata": {},
     "output_type": "execute_result"
    }
   ],
   "source": [
    "df.columns"
   ]
  },
  {
   "cell_type": "markdown",
   "id": "e330899f",
   "metadata": {},
   "source": [
    "### Инсайты "
   ]
  },
  {
   "cell_type": "markdown",
   "id": "ccff2e0f",
   "metadata": {},
   "source": [
    "Выделим группы по MonthlyCharges и durationUse и добвим их как дополнительные признаки"
   ]
  },
  {
   "cell_type": "code",
   "execution_count": 37,
   "id": "6b36703e",
   "metadata": {},
   "outputs": [
    {
     "data": {
      "image/png": "[encoded data removed]",
      "text/plain": [
       "<Figure size 432x288 with 1 Axes>"
      ]
     },
     "metadata": {
      "needs_background": "light"
     },
     "output_type": "display_data"
    }
   ],
   "source": [
    "RANDOM_STATE = 18112021\n",
    "points = []\n",
    "K = range(2,7,1)\n",
    "for k in K:\n",
    "    kmeans = KMeans(n_clusters=k, random_state=RANDOM_STATE).fit(df['MonthlyCharges'].values.reshape(-1, 1))\n",
    "    points.append(kmeans.inertia_)\n",
    "sns.lineplot(x=K, y=points);\n",
    "\n"
   ]
  },
  {
   "cell_type": "code",
   "execution_count": 38,
   "id": "87b1f900",
   "metadata": {},
   "outputs": [],
   "source": [
    "df=df.assign(mcCluster=KMeans(n_clusters=4, random_state=RANDOM_STATE).fit_predict(df['MonthlyCharges'].values.reshape(-1, 1)))\n"
   ]
  },
  {
   "cell_type": "code",
   "execution_count": 39,
   "id": "9d8db82f",
   "metadata": {},
   "outputs": [
    {
     "data": {
      "image/png": "[encoded data removed]",
      "text/plain": [
       "<Figure size 432x288 with 1 Axes>"
      ]
     },
     "metadata": {
      "needs_background": "light"
     },
     "output_type": "display_data"
    }
   ],
   "source": [
    "points = []\n",
    "K = range(2,7,1)\n",
    "for k in K:\n",
    "    kmeans = KMeans(n_clusters=k, random_state=RANDOM_STATE).fit(df['durationUse'].values.reshape(-1, 1))\n",
    "    points.append(kmeans.inertia_)\n",
    "sns.lineplot(x=K, y=points);\n",
    "\n"
   ]
  },
  {
   "cell_type": "code",
   "execution_count": 40,
   "id": "5b952053",
   "metadata": {},
   "outputs": [
    {
     "data": {
      "text/html": [
       "<div>\n",
       "<style scoped>\n",
       "    .dataframe tbody tr th:only-of-type {\n",
       "        vertical-align: middle;\n",
       "    }\n",
       "\n",
       "    .dataframe tbody tr th {\n",
       "        vertical-align: top;\n",
       "    }\n",
       "\n",
       "    .dataframe thead th {\n",
       "        text-align: right;\n",
       "    }\n",
       "</style>\n",
       "<table border=\"1\" class=\"dataframe\">\n",
       "  <thead>\n",
       "    <tr style=\"text-align: right;\">\n",
       "      <th></th>\n",
       "      <th>customerID</th>\n",
       "      <th>BeginDate</th>\n",
       "      <th>EndDate</th>\n",
       "      <th>MonthlyCharges</th>\n",
       "      <th>TotalCharges</th>\n",
       "      <th>ActDate</th>\n",
       "      <th>Left</th>\n",
       "      <th>SeniorCitizen</th>\n",
       "      <th>Trial</th>\n",
       "      <th>gender_Male</th>\n",
       "      <th>...</th>\n",
       "      <th>Type_One year</th>\n",
       "      <th>Type_Two year</th>\n",
       "      <th>PaymentMethod_Credit card (automatic)</th>\n",
       "      <th>PaymentMethod_Electronic check</th>\n",
       "      <th>PaymentMethod_Mailed check</th>\n",
       "      <th>InternetService_Fiber optic</th>\n",
       "      <th>InternetService_No Internet</th>\n",
       "      <th>durationUse</th>\n",
       "      <th>mcCluster</th>\n",
       "      <th>duCluster</th>\n",
       "    </tr>\n",
       "  </thead>\n",
       "  <tbody>\n",
       "    <tr>\n",
       "      <th>0</th>\n",
       "      <td>7590-VHVEG</td>\n",
       "      <td>2020-01-01</td>\n",
       "      <td>NaT</td>\n",
       "      <td>29.850000</td>\n",
       "      <td>29.850000</td>\n",
       "      <td>2020-02-01</td>\n",
       "      <td>0</td>\n",
       "      <td>0</td>\n",
       "      <td>1</td>\n",
       "      <td>0</td>\n",
       "      <td>...</td>\n",
       "      <td>0</td>\n",
       "      <td>0</td>\n",
       "      <td>0</td>\n",
       "      <td>1</td>\n",
       "      <td>0</td>\n",
       "      <td>0</td>\n",
       "      <td>0</td>\n",
       "      <td>31</td>\n",
       "      <td>0</td>\n",
       "      <td>3</td>\n",
       "    </tr>\n",
       "    <tr>\n",
       "      <th>1</th>\n",
       "      <td>5575-GNVDE</td>\n",
       "      <td>2017-04-01</td>\n",
       "      <td>NaT</td>\n",
       "      <td>56.950001</td>\n",
       "      <td>1889.500000</td>\n",
       "      <td>2020-02-01</td>\n",
       "      <td>0</td>\n",
       "      <td>0</td>\n",
       "      <td>0</td>\n",
       "      <td>1</td>\n",
       "      <td>...</td>\n",
       "      <td>1</td>\n",
       "      <td>0</td>\n",
       "      <td>0</td>\n",
       "      <td>0</td>\n",
       "      <td>1</td>\n",
       "      <td>0</td>\n",
       "      <td>0</td>\n",
       "      <td>1036</td>\n",
       "      <td>2</td>\n",
       "      <td>1</td>\n",
       "    </tr>\n",
       "    <tr>\n",
       "      <th>2</th>\n",
       "      <td>3668-QPYBK</td>\n",
       "      <td>2019-10-01</td>\n",
       "      <td>2019-12-01</td>\n",
       "      <td>53.849998</td>\n",
       "      <td>108.150002</td>\n",
       "      <td>2019-12-01</td>\n",
       "      <td>1</td>\n",
       "      <td>0</td>\n",
       "      <td>0</td>\n",
       "      <td>1</td>\n",
       "      <td>...</td>\n",
       "      <td>0</td>\n",
       "      <td>0</td>\n",
       "      <td>0</td>\n",
       "      <td>0</td>\n",
       "      <td>1</td>\n",
       "      <td>0</td>\n",
       "      <td>0</td>\n",
       "      <td>61</td>\n",
       "      <td>2</td>\n",
       "      <td>3</td>\n",
       "    </tr>\n",
       "    <tr>\n",
       "      <th>3</th>\n",
       "      <td>7795-CFOCW</td>\n",
       "      <td>2016-05-01</td>\n",
       "      <td>NaT</td>\n",
       "      <td>42.299999</td>\n",
       "      <td>1840.750000</td>\n",
       "      <td>2020-02-01</td>\n",
       "      <td>0</td>\n",
       "      <td>0</td>\n",
       "      <td>0</td>\n",
       "      <td>1</td>\n",
       "      <td>...</td>\n",
       "      <td>1</td>\n",
       "      <td>0</td>\n",
       "      <td>0</td>\n",
       "      <td>0</td>\n",
       "      <td>0</td>\n",
       "      <td>0</td>\n",
       "      <td>0</td>\n",
       "      <td>1371</td>\n",
       "      <td>2</td>\n",
       "      <td>2</td>\n",
       "    </tr>\n",
       "    <tr>\n",
       "      <th>4</th>\n",
       "      <td>9237-HQITU</td>\n",
       "      <td>2019-09-01</td>\n",
       "      <td>2019-11-01</td>\n",
       "      <td>70.699997</td>\n",
       "      <td>151.649994</td>\n",
       "      <td>2019-11-01</td>\n",
       "      <td>1</td>\n",
       "      <td>0</td>\n",
       "      <td>0</td>\n",
       "      <td>0</td>\n",
       "      <td>...</td>\n",
       "      <td>0</td>\n",
       "      <td>0</td>\n",
       "      <td>0</td>\n",
       "      <td>1</td>\n",
       "      <td>0</td>\n",
       "      <td>1</td>\n",
       "      <td>0</td>\n",
       "      <td>61</td>\n",
       "      <td>1</td>\n",
       "      <td>3</td>\n",
       "    </tr>\n",
       "  </tbody>\n",
       "</table>\n",
       "<p>5 rows × 30 columns</p>\n",
       "</div>"
      ],
      "text/plain": [
       "   customerID  BeginDate    EndDate  MonthlyCharges  TotalCharges    ActDate  \\\n",
       "0  7590-VHVEG 2020-01-01        NaT       29.850000     29.850000 2020-02-01   \n",
       "1  5575-GNVDE 2017-04-01        NaT       56.950001   1889.500000 2020-02-01   \n",
       "2  3668-QPYBK 2019-10-01 2019-12-01       53.849998    108.150002 2019-12-01   \n",
       "3  7795-CFOCW 2016-05-01        NaT       42.299999   1840.750000 2020-02-01   \n",
       "4  9237-HQITU 2019-09-01 2019-11-01       70.699997    151.649994 2019-11-01   \n",
       "\n",
       "   Left  SeniorCitizen  Trial  gender_Male  ...  Type_One year  Type_Two year  \\\n",
       "0     0              0      1            0  ...              0              0   \n",
       "1     0              0      0            1  ...              1              0   \n",
       "2     1              0      0            1  ...              0              0   \n",
       "3     0              0      0            1  ...              1              0   \n",
       "4     1              0      0            0  ...              0              0   \n",
       "\n",
       "   PaymentMethod_Credit card (automatic)  PaymentMethod_Electronic check  \\\n",
       "0                                      0                               1   \n",
       "1                                      0                               0   \n",
       "2                                      0                               0   \n",
       "3                                      0                               0   \n",
       "4                                      0                               1   \n",
       "\n",
       "   PaymentMethod_Mailed check  InternetService_Fiber optic  \\\n",
       "0                           0                            0   \n",
       "1                           1                            0   \n",
       "2                           1                            0   \n",
       "3                           0                            0   \n",
       "4                           0                            1   \n",
       "\n",
       "   InternetService_No Internet  durationUse  mcCluster  duCluster  \n",
       "0                            0           31          0          3  \n",
       "1                            0         1036          2          1  \n",
       "2                            0           61          2          3  \n",
       "3                            0         1371          2          2  \n",
       "4                            0           61          1          3  \n",
       "\n",
       "[5 rows x 30 columns]"
      ]
     },
     "execution_count": 40,
     "metadata": {},
     "output_type": "execute_result"
    }
   ],
   "source": [
    "df=df.assign(duCluster=KMeans(n_clusters=4, random_state=RANDOM_STATE).fit_predict(df['durationUse'].values.reshape(-1, 1)))\n",
    "df.head()"
   ]
  },
  {
   "cell_type": "markdown",
   "id": "ea9e46d6",
   "metadata": {},
   "source": [
    "Уберем даты, т.к. они сильно коррелированы с durationUse и будут являться leak-ом при совместном использовании, TotalCharges, customerID как идентификатор."
   ]
  },
  {
   "cell_type": "code",
   "execution_count": 41,
   "id": "700b2a9b",
   "metadata": {},
   "outputs": [
    {
     "data": {
      "text/html": [
       "<div>\n",
       "<style scoped>\n",
       "    .dataframe tbody tr th:only-of-type {\n",
       "        vertical-align: middle;\n",
       "    }\n",
       "\n",
       "    .dataframe tbody tr th {\n",
       "        vertical-align: top;\n",
       "    }\n",
       "\n",
       "    .dataframe thead th {\n",
       "        text-align: right;\n",
       "    }\n",
       "</style>\n",
       "<table border=\"1\" class=\"dataframe\">\n",
       "  <thead>\n",
       "    <tr style=\"text-align: right;\">\n",
       "      <th></th>\n",
       "      <th>MonthlyCharges</th>\n",
       "      <th>Left</th>\n",
       "      <th>SeniorCitizen</th>\n",
       "      <th>Trial</th>\n",
       "      <th>gender_Male</th>\n",
       "      <th>Partner_Yes</th>\n",
       "      <th>Dependents_Yes</th>\n",
       "      <th>MultipleLines_Yes</th>\n",
       "      <th>OnlineSecurity_Yes</th>\n",
       "      <th>OnlineBackup_Yes</th>\n",
       "      <th>...</th>\n",
       "      <th>Type_One year</th>\n",
       "      <th>Type_Two year</th>\n",
       "      <th>PaymentMethod_Credit card (automatic)</th>\n",
       "      <th>PaymentMethod_Electronic check</th>\n",
       "      <th>PaymentMethod_Mailed check</th>\n",
       "      <th>InternetService_Fiber optic</th>\n",
       "      <th>InternetService_No Internet</th>\n",
       "      <th>durationUse</th>\n",
       "      <th>mcCluster</th>\n",
       "      <th>duCluster</th>\n",
       "    </tr>\n",
       "  </thead>\n",
       "  <tbody>\n",
       "    <tr>\n",
       "      <th>0</th>\n",
       "      <td>29.850000</td>\n",
       "      <td>0</td>\n",
       "      <td>0</td>\n",
       "      <td>1</td>\n",
       "      <td>0</td>\n",
       "      <td>1</td>\n",
       "      <td>0</td>\n",
       "      <td>0</td>\n",
       "      <td>0</td>\n",
       "      <td>1</td>\n",
       "      <td>...</td>\n",
       "      <td>0</td>\n",
       "      <td>0</td>\n",
       "      <td>0</td>\n",
       "      <td>1</td>\n",
       "      <td>0</td>\n",
       "      <td>0</td>\n",
       "      <td>0</td>\n",
       "      <td>31</td>\n",
       "      <td>0</td>\n",
       "      <td>3</td>\n",
       "    </tr>\n",
       "    <tr>\n",
       "      <th>1</th>\n",
       "      <td>56.950001</td>\n",
       "      <td>0</td>\n",
       "      <td>0</td>\n",
       "      <td>0</td>\n",
       "      <td>1</td>\n",
       "      <td>0</td>\n",
       "      <td>0</td>\n",
       "      <td>0</td>\n",
       "      <td>1</td>\n",
       "      <td>0</td>\n",
       "      <td>...</td>\n",
       "      <td>1</td>\n",
       "      <td>0</td>\n",
       "      <td>0</td>\n",
       "      <td>0</td>\n",
       "      <td>1</td>\n",
       "      <td>0</td>\n",
       "      <td>0</td>\n",
       "      <td>1036</td>\n",
       "      <td>2</td>\n",
       "      <td>1</td>\n",
       "    </tr>\n",
       "    <tr>\n",
       "      <th>2</th>\n",
       "      <td>53.849998</td>\n",
       "      <td>1</td>\n",
       "      <td>0</td>\n",
       "      <td>0</td>\n",
       "      <td>1</td>\n",
       "      <td>0</td>\n",
       "      <td>0</td>\n",
       "      <td>0</td>\n",
       "      <td>1</td>\n",
       "      <td>1</td>\n",
       "      <td>...</td>\n",
       "      <td>0</td>\n",
       "      <td>0</td>\n",
       "      <td>0</td>\n",
       "      <td>0</td>\n",
       "      <td>1</td>\n",
       "      <td>0</td>\n",
       "      <td>0</td>\n",
       "      <td>61</td>\n",
       "      <td>2</td>\n",
       "      <td>3</td>\n",
       "    </tr>\n",
       "    <tr>\n",
       "      <th>3</th>\n",
       "      <td>42.299999</td>\n",
       "      <td>0</td>\n",
       "      <td>0</td>\n",
       "      <td>0</td>\n",
       "      <td>1</td>\n",
       "      <td>0</td>\n",
       "      <td>0</td>\n",
       "      <td>0</td>\n",
       "      <td>1</td>\n",
       "      <td>0</td>\n",
       "      <td>...</td>\n",
       "      <td>1</td>\n",
       "      <td>0</td>\n",
       "      <td>0</td>\n",
       "      <td>0</td>\n",
       "      <td>0</td>\n",
       "      <td>0</td>\n",
       "      <td>0</td>\n",
       "      <td>1371</td>\n",
       "      <td>2</td>\n",
       "      <td>2</td>\n",
       "    </tr>\n",
       "    <tr>\n",
       "      <th>4</th>\n",
       "      <td>70.699997</td>\n",
       "      <td>1</td>\n",
       "      <td>0</td>\n",
       "      <td>0</td>\n",
       "      <td>0</td>\n",
       "      <td>0</td>\n",
       "      <td>0</td>\n",
       "      <td>0</td>\n",
       "      <td>0</td>\n",
       "      <td>0</td>\n",
       "      <td>...</td>\n",
       "      <td>0</td>\n",
       "      <td>0</td>\n",
       "      <td>0</td>\n",
       "      <td>1</td>\n",
       "      <td>0</td>\n",
       "      <td>1</td>\n",
       "      <td>0</td>\n",
       "      <td>61</td>\n",
       "      <td>1</td>\n",
       "      <td>3</td>\n",
       "    </tr>\n",
       "  </tbody>\n",
       "</table>\n",
       "<p>5 rows × 25 columns</p>\n",
       "</div>"
      ],
      "text/plain": [
       "   MonthlyCharges  Left  SeniorCitizen  Trial  gender_Male  Partner_Yes  \\\n",
       "0       29.850000     0              0      1            0            1   \n",
       "1       56.950001     0              0      0            1            0   \n",
       "2       53.849998     1              0      0            1            0   \n",
       "3       42.299999     0              0      0            1            0   \n",
       "4       70.699997     1              0      0            0            0   \n",
       "\n",
       "   Dependents_Yes  MultipleLines_Yes  OnlineSecurity_Yes  OnlineBackup_Yes  \\\n",
       "0               0                  0                   0                 1   \n",
       "1               0                  0                   1                 0   \n",
       "2               0                  0                   1                 1   \n",
       "3               0                  0                   1                 0   \n",
       "4               0                  0                   0                 0   \n",
       "\n",
       "   ...  Type_One year  Type_Two year  PaymentMethod_Credit card (automatic)  \\\n",
       "0  ...              0              0                                      0   \n",
       "1  ...              1              0                                      0   \n",
       "2  ...              0              0                                      0   \n",
       "3  ...              1              0                                      0   \n",
       "4  ...              0              0                                      0   \n",
       "\n",
       "   PaymentMethod_Electronic check  PaymentMethod_Mailed check  \\\n",
       "0                               1                           0   \n",
       "1                               0                           1   \n",
       "2                               0                           1   \n",
       "3                               0                           0   \n",
       "4                               1                           0   \n",
       "\n",
       "   InternetService_Fiber optic  InternetService_No Internet  durationUse  \\\n",
       "0                            0                            0           31   \n",
       "1                            0                            0         1036   \n",
       "2                            0                            0           61   \n",
       "3                            0                            0         1371   \n",
       "4                            1                            0           61   \n",
       "\n",
       "   mcCluster  duCluster  \n",
       "0          0          3  \n",
       "1          2          1  \n",
       "2          2          3  \n",
       "3          2          2  \n",
       "4          1          3  \n",
       "\n",
       "[5 rows x 25 columns]"
      ]
     },
     "execution_count": 41,
     "metadata": {},
     "output_type": "execute_result"
    }
   ],
   "source": [
    "df=df.drop(columns=['BeginDate','EndDate','ActDate','customerID','TotalCharges'])\n",
    "df.head()"
   ]
  },
  {
   "cell_type": "markdown",
   "id": "0d7fc7e2",
   "metadata": {},
   "source": [
    "Разделим датасет на train и test"
   ]
  },
  {
   "cell_type": "code",
   "execution_count": 42,
   "id": "aa4101a8",
   "metadata": {},
   "outputs": [
    {
     "data": {
      "text/plain": [
       "(5634, 24)"
      ]
     },
     "metadata": {},
     "output_type": "display_data"
    },
    {
     "data": {
      "text/plain": [
       "(5634,)"
      ]
     },
     "metadata": {},
     "output_type": "display_data"
    },
    {
     "data": {
      "text/plain": [
       "(1409, 24)"
      ]
     },
     "metadata": {},
     "output_type": "display_data"
    },
    {
     "data": {
      "text/plain": [
       "(1409,)"
      ]
     },
     "execution_count": 42,
     "metadata": {},
     "output_type": "execute_result"
    }
   ],
   "source": [
    "\n",
    "X_train, X_test, y_train, y_test = train_test_split(df.drop(columns='Left'), df['Left'],test_size=0.2, \n",
    "                                                   random_state=RANDOM_STATE, stratify=df['Left'], shuffle=True)\n",
    "\n",
    "display(X_train.shape)\n",
    "display(y_train.shape)\n",
    "display(X_test.shape)\n",
    "y_test.shape"
   ]
  },
  {
   "cell_type": "code",
   "execution_count": 43,
   "id": "76487830",
   "metadata": {},
   "outputs": [
    {
     "data": {
      "text/html": [
       "<div>\n",
       "<style scoped>\n",
       "    .dataframe tbody tr th:only-of-type {\n",
       "        vertical-align: middle;\n",
       "    }\n",
       "\n",
       "    .dataframe tbody tr th {\n",
       "        vertical-align: top;\n",
       "    }\n",
       "\n",
       "    .dataframe thead th {\n",
       "        text-align: right;\n",
       "    }\n",
       "</style>\n",
       "<table border=\"1\" class=\"dataframe\">\n",
       "  <thead>\n",
       "    <tr style=\"text-align: right;\">\n",
       "      <th></th>\n",
       "      <th>MonthlyCharges</th>\n",
       "      <th>SeniorCitizen</th>\n",
       "      <th>Trial</th>\n",
       "      <th>gender_Male</th>\n",
       "      <th>Partner_Yes</th>\n",
       "      <th>Dependents_Yes</th>\n",
       "      <th>MultipleLines_Yes</th>\n",
       "      <th>OnlineSecurity_Yes</th>\n",
       "      <th>OnlineBackup_Yes</th>\n",
       "      <th>DeviceProtection_Yes</th>\n",
       "      <th>...</th>\n",
       "      <th>Type_One year</th>\n",
       "      <th>Type_Two year</th>\n",
       "      <th>PaymentMethod_Credit card (automatic)</th>\n",
       "      <th>PaymentMethod_Electronic check</th>\n",
       "      <th>PaymentMethod_Mailed check</th>\n",
       "      <th>InternetService_Fiber optic</th>\n",
       "      <th>InternetService_No Internet</th>\n",
       "      <th>durationUse</th>\n",
       "      <th>mcCluster</th>\n",
       "      <th>duCluster</th>\n",
       "    </tr>\n",
       "  </thead>\n",
       "  <tbody>\n",
       "    <tr>\n",
       "      <th>2602</th>\n",
       "      <td>111.449997</td>\n",
       "      <td>0</td>\n",
       "      <td>0</td>\n",
       "      <td>0</td>\n",
       "      <td>1</td>\n",
       "      <td>1</td>\n",
       "      <td>1</td>\n",
       "      <td>0</td>\n",
       "      <td>1</td>\n",
       "      <td>1</td>\n",
       "      <td>...</td>\n",
       "      <td>1</td>\n",
       "      <td>0</td>\n",
       "      <td>0</td>\n",
       "      <td>1</td>\n",
       "      <td>0</td>\n",
       "      <td>1</td>\n",
       "      <td>0</td>\n",
       "      <td>1949</td>\n",
       "      <td>3</td>\n",
       "      <td>0</td>\n",
       "    </tr>\n",
       "    <tr>\n",
       "      <th>3464</th>\n",
       "      <td>83.849998</td>\n",
       "      <td>0</td>\n",
       "      <td>0</td>\n",
       "      <td>0</td>\n",
       "      <td>1</td>\n",
       "      <td>0</td>\n",
       "      <td>0</td>\n",
       "      <td>0</td>\n",
       "      <td>1</td>\n",
       "      <td>0</td>\n",
       "      <td>...</td>\n",
       "      <td>0</td>\n",
       "      <td>0</td>\n",
       "      <td>0</td>\n",
       "      <td>0</td>\n",
       "      <td>0</td>\n",
       "      <td>1</td>\n",
       "      <td>0</td>\n",
       "      <td>945</td>\n",
       "      <td>1</td>\n",
       "      <td>1</td>\n",
       "    </tr>\n",
       "    <tr>\n",
       "      <th>2841</th>\n",
       "      <td>25.100000</td>\n",
       "      <td>0</td>\n",
       "      <td>0</td>\n",
       "      <td>1</td>\n",
       "      <td>0</td>\n",
       "      <td>0</td>\n",
       "      <td>0</td>\n",
       "      <td>0</td>\n",
       "      <td>0</td>\n",
       "      <td>0</td>\n",
       "      <td>...</td>\n",
       "      <td>0</td>\n",
       "      <td>0</td>\n",
       "      <td>0</td>\n",
       "      <td>1</td>\n",
       "      <td>0</td>\n",
       "      <td>0</td>\n",
       "      <td>0</td>\n",
       "      <td>92</td>\n",
       "      <td>0</td>\n",
       "      <td>3</td>\n",
       "    </tr>\n",
       "    <tr>\n",
       "      <th>327</th>\n",
       "      <td>70.349998</td>\n",
       "      <td>1</td>\n",
       "      <td>0</td>\n",
       "      <td>0</td>\n",
       "      <td>0</td>\n",
       "      <td>0</td>\n",
       "      <td>0</td>\n",
       "      <td>0</td>\n",
       "      <td>0</td>\n",
       "      <td>0</td>\n",
       "      <td>...</td>\n",
       "      <td>0</td>\n",
       "      <td>0</td>\n",
       "      <td>0</td>\n",
       "      <td>1</td>\n",
       "      <td>0</td>\n",
       "      <td>1</td>\n",
       "      <td>0</td>\n",
       "      <td>61</td>\n",
       "      <td>1</td>\n",
       "      <td>3</td>\n",
       "    </tr>\n",
       "    <tr>\n",
       "      <th>4219</th>\n",
       "      <td>75.150002</td>\n",
       "      <td>0</td>\n",
       "      <td>0</td>\n",
       "      <td>0</td>\n",
       "      <td>0</td>\n",
       "      <td>0</td>\n",
       "      <td>0</td>\n",
       "      <td>0</td>\n",
       "      <td>1</td>\n",
       "      <td>0</td>\n",
       "      <td>...</td>\n",
       "      <td>1</td>\n",
       "      <td>0</td>\n",
       "      <td>0</td>\n",
       "      <td>1</td>\n",
       "      <td>0</td>\n",
       "      <td>1</td>\n",
       "      <td>0</td>\n",
       "      <td>1461</td>\n",
       "      <td>1</td>\n",
       "      <td>2</td>\n",
       "    </tr>\n",
       "    <tr>\n",
       "      <th>...</th>\n",
       "      <td>...</td>\n",
       "      <td>...</td>\n",
       "      <td>...</td>\n",
       "      <td>...</td>\n",
       "      <td>...</td>\n",
       "      <td>...</td>\n",
       "      <td>...</td>\n",
       "      <td>...</td>\n",
       "      <td>...</td>\n",
       "      <td>...</td>\n",
       "      <td>...</td>\n",
       "      <td>...</td>\n",
       "      <td>...</td>\n",
       "      <td>...</td>\n",
       "      <td>...</td>\n",
       "      <td>...</td>\n",
       "      <td>...</td>\n",
       "      <td>...</td>\n",
       "      <td>...</td>\n",
       "      <td>...</td>\n",
       "      <td>...</td>\n",
       "    </tr>\n",
       "    <tr>\n",
       "      <th>597</th>\n",
       "      <td>65.550003</td>\n",
       "      <td>0</td>\n",
       "      <td>0</td>\n",
       "      <td>1</td>\n",
       "      <td>0</td>\n",
       "      <td>0</td>\n",
       "      <td>1</td>\n",
       "      <td>0</td>\n",
       "      <td>0</td>\n",
       "      <td>0</td>\n",
       "      <td>...</td>\n",
       "      <td>0</td>\n",
       "      <td>0</td>\n",
       "      <td>0</td>\n",
       "      <td>0</td>\n",
       "      <td>1</td>\n",
       "      <td>0</td>\n",
       "      <td>0</td>\n",
       "      <td>123</td>\n",
       "      <td>1</td>\n",
       "      <td>3</td>\n",
       "    </tr>\n",
       "    <tr>\n",
       "      <th>979</th>\n",
       "      <td>54.950001</td>\n",
       "      <td>0</td>\n",
       "      <td>0</td>\n",
       "      <td>0</td>\n",
       "      <td>1</td>\n",
       "      <td>1</td>\n",
       "      <td>0</td>\n",
       "      <td>1</td>\n",
       "      <td>0</td>\n",
       "      <td>0</td>\n",
       "      <td>...</td>\n",
       "      <td>1</td>\n",
       "      <td>0</td>\n",
       "      <td>0</td>\n",
       "      <td>0</td>\n",
       "      <td>0</td>\n",
       "      <td>0</td>\n",
       "      <td>0</td>\n",
       "      <td>1067</td>\n",
       "      <td>2</td>\n",
       "      <td>1</td>\n",
       "    </tr>\n",
       "    <tr>\n",
       "      <th>3515</th>\n",
       "      <td>55.500000</td>\n",
       "      <td>0</td>\n",
       "      <td>0</td>\n",
       "      <td>1</td>\n",
       "      <td>0</td>\n",
       "      <td>0</td>\n",
       "      <td>0</td>\n",
       "      <td>1</td>\n",
       "      <td>1</td>\n",
       "      <td>0</td>\n",
       "      <td>...</td>\n",
       "      <td>0</td>\n",
       "      <td>0</td>\n",
       "      <td>1</td>\n",
       "      <td>0</td>\n",
       "      <td>0</td>\n",
       "      <td>0</td>\n",
       "      <td>0</td>\n",
       "      <td>518</td>\n",
       "      <td>2</td>\n",
       "      <td>1</td>\n",
       "    </tr>\n",
       "    <tr>\n",
       "      <th>724</th>\n",
       "      <td>94.500000</td>\n",
       "      <td>1</td>\n",
       "      <td>0</td>\n",
       "      <td>1</td>\n",
       "      <td>1</td>\n",
       "      <td>0</td>\n",
       "      <td>1</td>\n",
       "      <td>0</td>\n",
       "      <td>0</td>\n",
       "      <td>0</td>\n",
       "      <td>...</td>\n",
       "      <td>0</td>\n",
       "      <td>0</td>\n",
       "      <td>0</td>\n",
       "      <td>1</td>\n",
       "      <td>0</td>\n",
       "      <td>1</td>\n",
       "      <td>0</td>\n",
       "      <td>1003</td>\n",
       "      <td>3</td>\n",
       "      <td>1</td>\n",
       "    </tr>\n",
       "    <tr>\n",
       "      <th>3704</th>\n",
       "      <td>73.000000</td>\n",
       "      <td>0</td>\n",
       "      <td>0</td>\n",
       "      <td>0</td>\n",
       "      <td>1</td>\n",
       "      <td>1</td>\n",
       "      <td>1</td>\n",
       "      <td>1</td>\n",
       "      <td>1</td>\n",
       "      <td>1</td>\n",
       "      <td>...</td>\n",
       "      <td>1</td>\n",
       "      <td>0</td>\n",
       "      <td>1</td>\n",
       "      <td>0</td>\n",
       "      <td>0</td>\n",
       "      <td>0</td>\n",
       "      <td>0</td>\n",
       "      <td>2071</td>\n",
       "      <td>1</td>\n",
       "      <td>0</td>\n",
       "    </tr>\n",
       "  </tbody>\n",
       "</table>\n",
       "<p>5634 rows × 24 columns</p>\n",
       "</div>"
      ],
      "text/plain": [
       "      MonthlyCharges  SeniorCitizen  Trial  gender_Male  Partner_Yes  \\\n",
       "2602      111.449997              0      0            0            1   \n",
       "3464       83.849998              0      0            0            1   \n",
       "2841       25.100000              0      0            1            0   \n",
       "327        70.349998              1      0            0            0   \n",
       "4219       75.150002              0      0            0            0   \n",
       "...              ...            ...    ...          ...          ...   \n",
       "597        65.550003              0      0            1            0   \n",
       "979        54.950001              0      0            0            1   \n",
       "3515       55.500000              0      0            1            0   \n",
       "724        94.500000              1      0            1            1   \n",
       "3704       73.000000              0      0            0            1   \n",
       "\n",
       "      Dependents_Yes  MultipleLines_Yes  OnlineSecurity_Yes  OnlineBackup_Yes  \\\n",
       "2602               1                  1                   0                 1   \n",
       "3464               0                  0                   0                 1   \n",
       "2841               0                  0                   0                 0   \n",
       "327                0                  0                   0                 0   \n",
       "4219               0                  0                   0                 1   \n",
       "...              ...                ...                 ...               ...   \n",
       "597                0                  1                   0                 0   \n",
       "979                1                  0                   1                 0   \n",
       "3515               0                  0                   1                 1   \n",
       "724                0                  1                   0                 0   \n",
       "3704               1                  1                   1                 1   \n",
       "\n",
       "      DeviceProtection_Yes  ...  Type_One year  Type_Two year  \\\n",
       "2602                     1  ...              1              0   \n",
       "3464                     0  ...              0              0   \n",
       "2841                     0  ...              0              0   \n",
       "327                      0  ...              0              0   \n",
       "4219                     0  ...              1              0   \n",
       "...                    ...  ...            ...            ...   \n",
       "597                      0  ...              0              0   \n",
       "979                      0  ...              1              0   \n",
       "3515                     0  ...              0              0   \n",
       "724                      0  ...              0              0   \n",
       "3704                     1  ...              1              0   \n",
       "\n",
       "      PaymentMethod_Credit card (automatic)  PaymentMethod_Electronic check  \\\n",
       "2602                                      0                               1   \n",
       "3464                                      0                               0   \n",
       "2841                                      0                               1   \n",
       "327                                       0                               1   \n",
       "4219                                      0                               1   \n",
       "...                                     ...                             ...   \n",
       "597                                       0                               0   \n",
       "979                                       0                               0   \n",
       "3515                                      1                               0   \n",
       "724                                       0                               1   \n",
       "3704                                      1                               0   \n",
       "\n",
       "      PaymentMethod_Mailed check  InternetService_Fiber optic  \\\n",
       "2602                           0                            1   \n",
       "3464                           0                            1   \n",
       "2841                           0                            0   \n",
       "327                            0                            1   \n",
       "4219                           0                            1   \n",
       "...                          ...                          ...   \n",
       "597                            1                            0   \n",
       "979                            0                            0   \n",
       "3515                           0                            0   \n",
       "724                            0                            1   \n",
       "3704                           0                            0   \n",
       "\n",
       "      InternetService_No Internet  durationUse  mcCluster  duCluster  \n",
       "2602                            0         1949          3          0  \n",
       "3464                            0          945          1          1  \n",
       "2841                            0           92          0          3  \n",
       "327                             0           61          1          3  \n",
       "4219                            0         1461          1          2  \n",
       "...                           ...          ...        ...        ...  \n",
       "597                             0          123          1          3  \n",
       "979                             0         1067          2          1  \n",
       "3515                            0          518          2          1  \n",
       "724                             0         1003          3          1  \n",
       "3704                            0         2071          1          0  \n",
       "\n",
       "[5634 rows x 24 columns]"
      ]
     },
     "execution_count": 43,
     "metadata": {},
     "output_type": "execute_result"
    }
   ],
   "source": [
    "X_train"
   ]
  },
  {
   "cell_type": "markdown",
   "id": "a3d343ee",
   "metadata": {},
   "source": [
    "### Выбор модели"
   ]
  },
  {
   "cell_type": "code",
   "execution_count": 44,
   "id": "047aacdf",
   "metadata": {},
   "outputs": [],
   "source": [
    "\n",
    "CLASS_WEIGHT = 'balanced'\n",
    "models=[DummyClassifier(strategy='stratified', random_state=RANDOM_STATE),\n",
    "        LogisticRegression(random_state=RANDOM_STATE, class_weight=CLASS_WEIGHT),\n",
    "        LinearDiscriminantAnalysis(),\n",
    "        KNeighborsClassifier(),\n",
    "        RandomForestClassifier(random_state=RANDOM_STATE, class_weight=CLASS_WEIGHT),\n",
    "        SVC(random_state=RANDOM_STATE, class_weight=CLASS_WEIGHT),\n",
    "        GradientBoostingClassifier(random_state=RANDOM_STATE, max_depth=3),\n",
    "        XGBClassifier(verbosity=0, random_state=RANDOM_STATE, max_depth=3 ),\n",
    "        CatBoostClassifier(verbose=0, random_state=RANDOM_STATE, max_depth=3),\n",
    "        LGBMClassifier(verbose=-1, random_state=RANDOM_STATE)]"
   ]
  },
  {
   "cell_type": "code",
   "execution_count": 45,
   "id": "8f031d3b",
   "metadata": {},
   "outputs": [
    {
     "data": {
      "text/plain": [
       "dict_keys(['explained_variance', 'r2', 'max_error', 'neg_median_absolute_error', 'neg_mean_absolute_error', 'neg_mean_absolute_percentage_error', 'neg_mean_squared_error', 'neg_mean_squared_log_error', 'neg_root_mean_squared_error', 'neg_mean_poisson_deviance', 'neg_mean_gamma_deviance', 'accuracy', 'top_k_accuracy', 'roc_auc', 'roc_auc_ovr', 'roc_auc_ovo', 'roc_auc_ovr_weighted', 'roc_auc_ovo_weighted', 'balanced_accuracy', 'average_precision', 'neg_log_loss', 'neg_brier_score', 'adjusted_rand_score', 'rand_score', 'homogeneity_score', 'completeness_score', 'v_measure_score', 'mutual_info_score', 'adjusted_mutual_info_score', 'normalized_mutual_info_score', 'fowlkes_mallows_score', 'precision', 'precision_macro', 'precision_micro', 'precision_samples', 'precision_weighted', 'recall', 'recall_macro', 'recall_micro', 'recall_samples', 'recall_weighted', 'f1', 'f1_macro', 'f1_micro', 'f1_samples', 'f1_weighted', 'jaccard', 'jaccard_macro', 'jaccard_micro', 'jaccard_samples', 'jaccard_weighted'])"
      ]
     },
     "execution_count": 45,
     "metadata": {},
     "output_type": "execute_result"
    }
   ],
   "source": [
    "SCORERS.keys()"
   ]
  },
  {
   "cell_type": "code",
   "execution_count": 46,
   "id": "58d9bccd",
   "metadata": {},
   "outputs": [
    {
     "name": "stderr",
     "output_type": "stream",
     "text": [
      "100%|██████████████████████████████████████████| 10/10 [00:36<00:00,  3.64s/it]\n"
     ]
    }
   ],
   "source": [
    "def getModesScore(models, X, y):\n",
    "    def _modelName(model):\n",
    "        try:\n",
    "            return str(model).split('(')[0].split('.')[2].split()[0]\n",
    "        except:\n",
    "            return str(model).split('(')[0]\n",
    "    skf = StratifiedKFold(3, shuffle=True, random_state=RANDOM_STATE)\n",
    "    results =pd.DataFrame()\n",
    "    for model in tqdm(models):\n",
    "        cv=cross_validate(model, X, y, scoring=['roc_auc', 'accuracy', 'recall', 'precision', 'f1'], cv=skf.split(X,y))\n",
    "        results=pd.concat([results,pd.DataFrame(cv).assign(model=_modelName(model))])\n",
    "    return results    \n",
    "results=getModesScore(models, X_train,y_train)        \n",
    "        "
   ]
  },
  {
   "cell_type": "code",
   "execution_count": 47,
   "id": "266b15ac",
   "metadata": {},
   "outputs": [
    {
     "data": {
      "text/html": [
       "<div>\n",
       "<style scoped>\n",
       "    .dataframe tbody tr th:only-of-type {\n",
       "        vertical-align: middle;\n",
       "    }\n",
       "\n",
       "    .dataframe tbody tr th {\n",
       "        vertical-align: top;\n",
       "    }\n",
       "\n",
       "    .dataframe thead th {\n",
       "        text-align: right;\n",
       "    }\n",
       "</style>\n",
       "<table border=\"1\" class=\"dataframe\">\n",
       "  <thead>\n",
       "    <tr style=\"text-align: right;\">\n",
       "      <th></th>\n",
       "      <th>fit_time</th>\n",
       "      <th>score_time</th>\n",
       "      <th>test_roc_auc</th>\n",
       "      <th>test_accuracy</th>\n",
       "      <th>test_recall</th>\n",
       "      <th>test_precision</th>\n",
       "      <th>test_f1</th>\n",
       "    </tr>\n",
       "    <tr>\n",
       "      <th>model</th>\n",
       "      <th></th>\n",
       "      <th></th>\n",
       "      <th></th>\n",
       "      <th></th>\n",
       "      <th></th>\n",
       "      <th></th>\n",
       "      <th></th>\n",
       "    </tr>\n",
       "  </thead>\n",
       "  <tbody>\n",
       "    <tr>\n",
       "      <th>XGBClassifier</th>\n",
       "      <td>0.313684</td>\n",
       "      <td>0.029335</td>\n",
       "      <td>0.888636</td>\n",
       "      <td>0.850018</td>\n",
       "      <td>0.616729</td>\n",
       "      <td>0.772698</td>\n",
       "      <td>0.685905</td>\n",
       "    </tr>\n",
       "    <tr>\n",
       "      <th>CatBoostClassifier</th>\n",
       "      <td>4.381253</td>\n",
       "      <td>0.025667</td>\n",
       "      <td>0.887798</td>\n",
       "      <td>0.844870</td>\n",
       "      <td>0.578599</td>\n",
       "      <td>0.780317</td>\n",
       "      <td>0.664426</td>\n",
       "    </tr>\n",
       "    <tr>\n",
       "      <th>LGBMClassifier</th>\n",
       "      <td>0.135340</td>\n",
       "      <td>0.032335</td>\n",
       "      <td>0.883813</td>\n",
       "      <td>0.842918</td>\n",
       "      <td>0.612034</td>\n",
       "      <td>0.750331</td>\n",
       "      <td>0.674087</td>\n",
       "    </tr>\n",
       "    <tr>\n",
       "      <th>GradientBoostingClassifier</th>\n",
       "      <td>0.798713</td>\n",
       "      <td>0.025334</td>\n",
       "      <td>0.880514</td>\n",
       "      <td>0.837948</td>\n",
       "      <td>0.583280</td>\n",
       "      <td>0.751401</td>\n",
       "      <td>0.656383</td>\n",
       "    </tr>\n",
       "    <tr>\n",
       "      <th>LogisticRegression</th>\n",
       "      <td>0.219680</td>\n",
       "      <td>0.045668</td>\n",
       "      <td>0.844406</td>\n",
       "      <td>0.742102</td>\n",
       "      <td>0.795991</td>\n",
       "      <td>0.509048</td>\n",
       "      <td>0.620963</td>\n",
       "    </tr>\n",
       "    <tr>\n",
       "      <th>LinearDiscriminantAnalysis</th>\n",
       "      <td>0.056002</td>\n",
       "      <td>0.021001</td>\n",
       "      <td>0.842088</td>\n",
       "      <td>0.803159</td>\n",
       "      <td>0.539809</td>\n",
       "      <td>0.658052</td>\n",
       "      <td>0.592848</td>\n",
       "    </tr>\n",
       "    <tr>\n",
       "      <th>RandomForestClassifier</th>\n",
       "      <td>0.952054</td>\n",
       "      <td>0.158009</td>\n",
       "      <td>0.840148</td>\n",
       "      <td>0.812567</td>\n",
       "      <td>0.519064</td>\n",
       "      <td>0.698139</td>\n",
       "      <td>0.595243</td>\n",
       "    </tr>\n",
       "    <tr>\n",
       "      <th>SVC</th>\n",
       "      <td>1.809772</td>\n",
       "      <td>1.815769</td>\n",
       "      <td>0.786427</td>\n",
       "      <td>0.701100</td>\n",
       "      <td>0.700323</td>\n",
       "      <td>0.458817</td>\n",
       "      <td>0.554312</td>\n",
       "    </tr>\n",
       "    <tr>\n",
       "      <th>KNeighborsClassifier</th>\n",
       "      <td>0.014667</td>\n",
       "      <td>1.230738</td>\n",
       "      <td>0.780079</td>\n",
       "      <td>0.783458</td>\n",
       "      <td>0.482950</td>\n",
       "      <td>0.618450</td>\n",
       "      <td>0.542098</td>\n",
       "    </tr>\n",
       "    <tr>\n",
       "      <th>DummyClassifier</th>\n",
       "      <td>0.007000</td>\n",
       "      <td>0.022002</td>\n",
       "      <td>0.486851</td>\n",
       "      <td>0.594782</td>\n",
       "      <td>0.256862</td>\n",
       "      <td>0.246770</td>\n",
       "      <td>0.251713</td>\n",
       "    </tr>\n",
       "  </tbody>\n",
       "</table>\n",
       "</div>"
      ],
      "text/plain": [
       "                            fit_time  score_time  test_roc_auc  test_accuracy  \\\n",
       "model                                                                           \n",
       "XGBClassifier               0.313684    0.029335      0.888636       0.850018   \n",
       "CatBoostClassifier          4.381253    0.025667      0.887798       0.844870   \n",
       "LGBMClassifier              0.135340    0.032335      0.883813       0.842918   \n",
       "GradientBoostingClassifier  0.798713    0.025334      0.880514       0.837948   \n",
       "LogisticRegression          0.219680    0.045668      0.844406       0.742102   \n",
       "LinearDiscriminantAnalysis  0.056002    0.021001      0.842088       0.803159   \n",
       "RandomForestClassifier      0.952054    0.158009      0.840148       0.812567   \n",
       "SVC                         1.809772    1.815769      0.786427       0.701100   \n",
       "KNeighborsClassifier        0.014667    1.230738      0.780079       0.783458   \n",
       "DummyClassifier             0.007000    0.022002      0.486851       0.594782   \n",
       "\n",
       "                            test_recall  test_precision   test_f1  \n",
       "model                                                              \n",
       "XGBClassifier                  0.616729        0.772698  0.685905  \n",
       "CatBoostClassifier             0.578599        0.780317  0.664426  \n",
       "LGBMClassifier                 0.612034        0.750331  0.674087  \n",
       "GradientBoostingClassifier     0.583280        0.751401  0.656383  \n",
       "LogisticRegression             0.795991        0.509048  0.620963  \n",
       "LinearDiscriminantAnalysis     0.539809        0.658052  0.592848  \n",
       "RandomForestClassifier         0.519064        0.698139  0.595243  \n",
       "SVC                            0.700323        0.458817  0.554312  \n",
       "KNeighborsClassifier           0.482950        0.618450  0.542098  \n",
       "DummyClassifier                0.256862        0.246770  0.251713  "
      ]
     },
     "execution_count": 47,
     "metadata": {},
     "output_type": "execute_result"
    }
   ],
   "source": [
    "results.groupby('model').mean().sort_values(by='test_roc_auc', ascending=False)"
   ]
  },
  {
   "cell_type": "markdown",
   "id": "fce92c21",
   "metadata": {},
   "source": [
    "Лучшей моделью по результатам теста оказался XGBClassifier, из простых моделей LogisticRegression показала неплохой результат."
   ]
  },
  {
   "cell_type": "markdown",
   "id": "2fdf1967",
   "metadata": {},
   "source": [
    "### Подбор гиперпараметров"
   ]
  },
  {
   "cell_type": "markdown",
   "id": "a1705467",
   "metadata": {},
   "source": [
    "Применим StratifiedKFold и GridSearchCV к XGBClassifier и LogisticRegression"
   ]
  },
  {
   "cell_type": "code",
   "execution_count": 48,
   "id": "95a2211b",
   "metadata": {},
   "outputs": [],
   "source": [
    "lr = LogisticRegression(class_weight='balanced', random_state=RANDOM_STATE)\n",
    "xgb= XGBClassifier(random_state=RANDOM_STATE, max_depth=3)"
   ]
  },
  {
   "cell_type": "code",
   "execution_count": 49,
   "id": "7fc0f2de",
   "metadata": {},
   "outputs": [
    {
     "data": {
      "text/plain": [
       "dict_keys(['C', 'class_weight', 'dual', 'fit_intercept', 'intercept_scaling', 'l1_ratio', 'max_iter', 'multi_class', 'n_jobs', 'penalty', 'random_state', 'solver', 'tol', 'verbose', 'warm_start'])"
      ]
     },
     "execution_count": 49,
     "metadata": {},
     "output_type": "execute_result"
    }
   ],
   "source": [
    "lr.get_params().keys()"
   ]
  },
  {
   "cell_type": "code",
   "execution_count": 50,
   "id": "c797ecbd",
   "metadata": {},
   "outputs": [
    {
     "name": "stdout",
     "output_type": "stream",
     "text": [
      "Fitting 5 folds for each of 48 candidates, totalling 240 fits\n"
     ]
    },
    {
     "data": {
      "text/plain": [
       "GridSearchCV(cv=<generator object _BaseKFold.split at 0x00000071407DEE40>,\n",
       "             estimator=LogisticRegression(class_weight='balanced',\n",
       "                                          random_state=18112021),\n",
       "             param_grid={'C': range(1, 5),\n",
       "                         'penalty': ['l1', 'l2', 'elasticnet'],\n",
       "                         'solver': ['lbfgs', 'liblinear', 'sag', 'saga']},\n",
       "             scoring='roc_auc', verbose=1)"
      ]
     },
     "execution_count": 50,
     "metadata": {},
     "output_type": "execute_result"
    }
   ],
   "source": [
    "lr_params = {\n",
    "        'C': range(1,5,1),\n",
    "        'penalty': ['l1','l2','elasticnet'],\n",
    "        'solver': ['lbfgs', 'liblinear', 'sag', 'saga']\n",
    "        }\n",
    "skf = StratifiedKFold(5, shuffle=True, random_state=RANDOM_STATE)\n",
    "gscv_lr = GridSearchCV(lr, param_grid=lr_params, cv=skf.split(X_train, y_train), scoring='roc_auc', verbose=1)\n",
    "gscv_lr.fit(X_train, y_train)"
   ]
  },
  {
   "cell_type": "markdown",
   "id": "f4f8da55",
   "metadata": {},
   "source": [
    "Лучший результат и параметры"
   ]
  },
  {
   "cell_type": "code",
   "execution_count": 51,
   "id": "186b34cf",
   "metadata": {},
   "outputs": [
    {
     "data": {
      "text/plain": [
       "{'C': 1, 'penalty': 'l1', 'solver': 'liblinear'}"
      ]
     },
     "metadata": {},
     "output_type": "display_data"
    },
    {
     "data": {
      "text/plain": [
       "0.8459353961514617"
      ]
     },
     "metadata": {},
     "output_type": "display_data"
    }
   ],
   "source": [
    "display(gscv_lr.best_params_)\n",
    "display(gscv_lr.best_score_)"
   ]
  },
  {
   "cell_type": "code",
   "execution_count": 52,
   "id": "8e0fa193",
   "metadata": {},
   "outputs": [
    {
     "data": {
      "text/plain": [
       "dict_keys(['objective', 'use_label_encoder', 'base_score', 'booster', 'colsample_bylevel', 'colsample_bynode', 'colsample_bytree', 'enable_categorical', 'gamma', 'gpu_id', 'importance_type', 'interaction_constraints', 'learning_rate', 'max_delta_step', 'max_depth', 'min_child_weight', 'missing', 'monotone_constraints', 'n_estimators', 'n_jobs', 'num_parallel_tree', 'predictor', 'random_state', 'reg_alpha', 'reg_lambda', 'scale_pos_weight', 'subsample', 'tree_method', 'validate_parameters', 'verbosity'])"
      ]
     },
     "execution_count": 52,
     "metadata": {},
     "output_type": "execute_result"
    }
   ],
   "source": [
    "xgb.get_params().keys()"
   ]
  },
  {
   "cell_type": "code",
   "execution_count": 53,
   "id": "58a44ccd",
   "metadata": {},
   "outputs": [
    {
     "name": "stdout",
     "output_type": "stream",
     "text": [
      "Fitting 5 folds for each of 168 candidates, totalling 840 fits\n"
     ]
    },
    {
     "data": {
      "text/plain": [
       "GridSearchCV(cv=<generator object _BaseKFold.split at 0x000000713FF65430>,\n",
       "             estimator=XGBClassifier(base_score=None, booster=None,\n",
       "                                     colsample_bylevel=None,\n",
       "                                     colsample_bynode=None,\n",
       "                                     colsample_bytree=None,\n",
       "                                     enable_categorical=False, gamma=None,\n",
       "                                     gpu_id=None, importance_type=None,\n",
       "                                     interaction_constraints=None,\n",
       "                                     learning_rate=None, max_delta_step=None,\n",
       "                                     max_depth=3, min_child_w...\n",
       "                                     n_estimators=100, n_jobs=None,\n",
       "                                     num_parallel_tree=None, predictor=None,\n",
       "                                     random_state=18112021, reg_alpha=None,\n",
       "                                     reg_lambda=None, scale_pos_weight=None,\n",
       "                                     subsample=None, tree_method=None,\n",
       "                                     validate_parameters=None, verbosity=None),\n",
       "             param_grid={'learning_rate': [0.05, 0.1, 0.2],\n",
       "                         'max_depth': [2, 3, 5, 7],\n",
       "                         'n_estimators': range(10, 150, 10), 'nthread': [4]},\n",
       "             scoring='roc_auc', verbose=1)"
      ]
     },
     "execution_count": 53,
     "metadata": {},
     "output_type": "execute_result"
    }
   ],
   "source": [
    "xgb_params={\n",
    "            'learning_rate': [0.05, 0.1, 0.2],\n",
    "            'max_depth': [2, 3 , 5 , 7],\n",
    "            'n_estimators':  range(10,150,10),\n",
    "            'nthread': [4]}\n",
    "xgb_gbc = GridSearchCV(xgb, param_grid=xgb_params, cv=skf.split(X_train, y_train), scoring='roc_auc', verbose=1)\n",
    "xgb_gbc.fit(X_train, y_train)"
   ]
  },
  {
   "cell_type": "markdown",
   "id": "81dfc4e8",
   "metadata": {},
   "source": [
    "Лучший результат и параметры"
   ]
  },
  {
   "cell_type": "code",
   "execution_count": 54,
   "id": "e8510c4a",
   "metadata": {},
   "outputs": [
    {
     "data": {
      "text/plain": [
       "{'learning_rate': 0.2, 'max_depth': 5, 'n_estimators': 140, 'nthread': 4}"
      ]
     },
     "metadata": {},
     "output_type": "display_data"
    },
    {
     "data": {
      "text/plain": [
       "0.8997038102247334"
      ]
     },
     "metadata": {},
     "output_type": "display_data"
    }
   ],
   "source": [
    "display(xgb_gbc.best_params_)\n",
    "display(xgb_gbc.best_score_)"
   ]
  },
  {
   "cell_type": "markdown",
   "id": "849a7ec1",
   "metadata": {},
   "source": [
    "Посмотрим я на важность признаков"
   ]
  },
  {
   "cell_type": "code",
   "execution_count": 55,
   "id": "34b50c86",
   "metadata": {},
   "outputs": [
    {
     "data": {
      "text/html": [
       "<div>\n",
       "<style scoped>\n",
       "    .dataframe tbody tr th:only-of-type {\n",
       "        vertical-align: middle;\n",
       "    }\n",
       "\n",
       "    .dataframe tbody tr th {\n",
       "        vertical-align: top;\n",
       "    }\n",
       "\n",
       "    .dataframe thead th {\n",
       "        text-align: right;\n",
       "    }\n",
       "</style>\n",
       "<table border=\"1\" class=\"dataframe\">\n",
       "  <thead>\n",
       "    <tr style=\"text-align: right;\">\n",
       "      <th></th>\n",
       "      <th>feature_importance</th>\n",
       "      <th>feature_names</th>\n",
       "    </tr>\n",
       "  </thead>\n",
       "  <tbody>\n",
       "    <tr>\n",
       "      <th>19</th>\n",
       "      <td>0.334963</td>\n",
       "      <td>InternetService_Fiber optic</td>\n",
       "    </tr>\n",
       "    <tr>\n",
       "      <th>20</th>\n",
       "      <td>0.142765</td>\n",
       "      <td>InternetService_No Internet</td>\n",
       "    </tr>\n",
       "    <tr>\n",
       "      <th>15</th>\n",
       "      <td>0.131652</td>\n",
       "      <td>Type_Two year</td>\n",
       "    </tr>\n",
       "    <tr>\n",
       "      <th>2</th>\n",
       "      <td>0.069077</td>\n",
       "      <td>Trial</td>\n",
       "    </tr>\n",
       "    <tr>\n",
       "      <th>14</th>\n",
       "      <td>0.056629</td>\n",
       "      <td>Type_One year</td>\n",
       "    </tr>\n",
       "    <tr>\n",
       "      <th>21</th>\n",
       "      <td>0.036392</td>\n",
       "      <td>durationUse</td>\n",
       "    </tr>\n",
       "    <tr>\n",
       "      <th>17</th>\n",
       "      <td>0.028258</td>\n",
       "      <td>PaymentMethod_Electronic check</td>\n",
       "    </tr>\n",
       "    <tr>\n",
       "      <th>13</th>\n",
       "      <td>0.019218</td>\n",
       "      <td>PaperlessBilling_Yes</td>\n",
       "    </tr>\n",
       "    <tr>\n",
       "      <th>6</th>\n",
       "      <td>0.017174</td>\n",
       "      <td>MultipleLines_Yes</td>\n",
       "    </tr>\n",
       "    <tr>\n",
       "      <th>12</th>\n",
       "      <td>0.016823</td>\n",
       "      <td>StreamingMovies_Yes</td>\n",
       "    </tr>\n",
       "    <tr>\n",
       "      <th>22</th>\n",
       "      <td>0.015462</td>\n",
       "      <td>mcCluster</td>\n",
       "    </tr>\n",
       "    <tr>\n",
       "      <th>7</th>\n",
       "      <td>0.012504</td>\n",
       "      <td>OnlineSecurity_Yes</td>\n",
       "    </tr>\n",
       "    <tr>\n",
       "      <th>10</th>\n",
       "      <td>0.011739</td>\n",
       "      <td>TechSupport_Yes</td>\n",
       "    </tr>\n",
       "    <tr>\n",
       "      <th>18</th>\n",
       "      <td>0.011321</td>\n",
       "      <td>PaymentMethod_Mailed check</td>\n",
       "    </tr>\n",
       "    <tr>\n",
       "      <th>0</th>\n",
       "      <td>0.011217</td>\n",
       "      <td>MonthlyCharges</td>\n",
       "    </tr>\n",
       "    <tr>\n",
       "      <th>1</th>\n",
       "      <td>0.010859</td>\n",
       "      <td>SeniorCitizen</td>\n",
       "    </tr>\n",
       "    <tr>\n",
       "      <th>23</th>\n",
       "      <td>0.009963</td>\n",
       "      <td>duCluster</td>\n",
       "    </tr>\n",
       "    <tr>\n",
       "      <th>8</th>\n",
       "      <td>0.009895</td>\n",
       "      <td>OnlineBackup_Yes</td>\n",
       "    </tr>\n",
       "    <tr>\n",
       "      <th>11</th>\n",
       "      <td>0.009633</td>\n",
       "      <td>StreamingTV_Yes</td>\n",
       "    </tr>\n",
       "    <tr>\n",
       "      <th>5</th>\n",
       "      <td>0.009486</td>\n",
       "      <td>Dependents_Yes</td>\n",
       "    </tr>\n",
       "    <tr>\n",
       "      <th>3</th>\n",
       "      <td>0.008878</td>\n",
       "      <td>gender_Male</td>\n",
       "    </tr>\n",
       "    <tr>\n",
       "      <th>9</th>\n",
       "      <td>0.008780</td>\n",
       "      <td>DeviceProtection_Yes</td>\n",
       "    </tr>\n",
       "    <tr>\n",
       "      <th>16</th>\n",
       "      <td>0.008684</td>\n",
       "      <td>PaymentMethod_Credit card (automatic)</td>\n",
       "    </tr>\n",
       "    <tr>\n",
       "      <th>4</th>\n",
       "      <td>0.008630</td>\n",
       "      <td>Partner_Yes</td>\n",
       "    </tr>\n",
       "  </tbody>\n",
       "</table>\n",
       "</div>"
      ],
      "text/plain": [
       "    feature_importance                          feature_names\n",
       "19            0.334963            InternetService_Fiber optic\n",
       "20            0.142765            InternetService_No Internet\n",
       "15            0.131652                          Type_Two year\n",
       "2             0.069077                                  Trial\n",
       "14            0.056629                          Type_One year\n",
       "21            0.036392                            durationUse\n",
       "17            0.028258         PaymentMethod_Electronic check\n",
       "13            0.019218                   PaperlessBilling_Yes\n",
       "6             0.017174                      MultipleLines_Yes\n",
       "12            0.016823                    StreamingMovies_Yes\n",
       "22            0.015462                              mcCluster\n",
       "7             0.012504                     OnlineSecurity_Yes\n",
       "10            0.011739                        TechSupport_Yes\n",
       "18            0.011321             PaymentMethod_Mailed check\n",
       "0             0.011217                         MonthlyCharges\n",
       "1             0.010859                          SeniorCitizen\n",
       "23            0.009963                              duCluster\n",
       "8             0.009895                       OnlineBackup_Yes\n",
       "11            0.009633                        StreamingTV_Yes\n",
       "5             0.009486                         Dependents_Yes\n",
       "3             0.008878                            gender_Male\n",
       "9             0.008780                   DeviceProtection_Yes\n",
       "16            0.008684  PaymentMethod_Credit card (automatic)\n",
       "4             0.008630                            Partner_Yes"
      ]
     },
     "execution_count": 55,
     "metadata": {},
     "output_type": "execute_result"
    }
   ],
   "source": [
    "imp=pd.DataFrame({'feature_importance': xgb_gbc.best_estimator_.feature_importances_, \n",
    "              'feature_names': X_train.columns}).sort_values(by=['feature_importance'], \n",
    "                                                           ascending=False)   \n",
    "imp"
   ]
  },
  {
   "cell_type": "markdown",
   "id": "ab524962",
   "metadata": {},
   "source": [
    "Поместим в стекинг LogisticRegression и XGBClassifier"
   ]
  },
  {
   "cell_type": "code",
   "execution_count": 56,
   "id": "156c2085",
   "metadata": {},
   "outputs": [
    {
     "data": {
      "text/plain": [
       "StackingClassifier(estimators=[('lr',\n",
       "                                LogisticRegression(C=1, class_weight='balanced',\n",
       "                                                   penalty='l1',\n",
       "                                                   random_state=18112021,\n",
       "                                                   solver='liblinear')),\n",
       "                               ('gbc',\n",
       "                                XGBClassifier(base_score=0.5, booster='gbtree',\n",
       "                                              colsample_bylevel=1,\n",
       "                                              colsample_bynode=1,\n",
       "                                              colsample_bytree=1,\n",
       "                                              enable_categorical=False, gamma=0,\n",
       "                                              gpu_id=-1, importance_type=None,\n",
       "                                              interaction_constraints='',\n",
       "                                              learning_rate=0.2,\n",
       "                                              max_delta_step=0, max_depth=5,\n",
       "                                              min_child_weight=1, missing=nan,\n",
       "                                              monotone_constraints='()',\n",
       "                                              n_estimators=140, n_jobs=4,\n",
       "                                              nthread=4, num_parallel_tree=1,\n",
       "                                              predictor='auto',\n",
       "                                              random_state=18112021,\n",
       "                                              reg_alpha=0, reg_lambda=1,\n",
       "                                              scale_pos_weight=1, subsample=1,\n",
       "                                              tree_method='exact',\n",
       "                                              validate_parameters=1,\n",
       "                                              verbosity=None))],\n",
       "                   stack_method='predict_proba')"
      ]
     },
     "execution_count": 56,
     "metadata": {},
     "output_type": "execute_result"
    }
   ],
   "source": [
    "vc=StackingClassifier(estimators=[('lr', gscv_lr.best_estimator_), ('gbc', xgb_gbc.best_estimator_)],  stack_method='predict_proba')\n",
    "vc.fit(X_train, y_train)"
   ]
  },
  {
   "cell_type": "markdown",
   "id": "32e7fe81",
   "metadata": {},
   "source": [
    "Построим ROC AUC кривые для полученных моделй"
   ]
  },
  {
   "cell_type": "code",
   "execution_count": 57,
   "id": "fd7167a2",
   "metadata": {},
   "outputs": [
    {
     "data": {
      "image/png": "[encoded data removed]",
      "text/plain": [
       "<Figure size 720x576 with 1 Axes>"
      ]
     },
     "metadata": {
      "needs_background": "light"
     },
     "output_type": "display_data"
    }
   ],
   "source": [
    "fpr1, tpr1, thresholds1 = roc_curve(y_test,gscv_lr.predict_proba(X_test)[:,1])\n",
    "fpr2, tpr2, thresholds2 = roc_curve(y_test,xgb_gbc.predict_proba(X_test)[:,1])\n",
    "fpr3, tpr3, thresholds3 = roc_curve(y_test,vc.predict_proba(X_test)[:,1])\n",
    "\n",
    "fig, ax = plt.subplots(figsize=(10,8))\n",
    "plt.title('Receiver Operating Characteristic')\n",
    "ax=plt.plot(fpr1, tpr1,  label = 'LinearRegression = %0.5f' % roc_auc_score(y_test,gscv_lr.predict_proba(X_test)[:,1]))\n",
    "ax=plt.plot(fpr2, tpr2,  label = 'XGBClassifier = %0.5f' % roc_auc_score(y_test,xgb_gbc.predict_proba(X_test)[:,1]))\n",
    "ax=plt.plot(fpr3, tpr3,  label = 'StackingClassifier = %0.5f' % roc_auc_score(y_test,vc.predict_proba(X_test)[:,1]))\n",
    "plt.legend(loc = 'lower right')\n",
    "plt.plot([0, 1], [0, 1],'r--')\n",
    "plt.xlim([0, 1])\n",
    "plt.ylim([0, 1])\n",
    "plt.ylabel('True Positive Rate')\n",
    "plt.xlabel('False Positive Rate')\n",
    "plt.show()"
   ]
  },
  {
   "cell_type": "markdown",
   "id": "cb005eac",
   "metadata": {},
   "source": [
    "Посмотрим на распределение в тестовом наборе и  матрицу ошибок "
   ]
  },
  {
   "cell_type": "code",
   "execution_count": 58,
   "id": "f00523e9",
   "metadata": {},
   "outputs": [
    {
     "data": {
      "text/html": [
       "<div>\n",
       "<style scoped>\n",
       "    .dataframe tbody tr th:only-of-type {\n",
       "        vertical-align: middle;\n",
       "    }\n",
       "\n",
       "    .dataframe tbody tr th {\n",
       "        vertical-align: top;\n",
       "    }\n",
       "\n",
       "    .dataframe thead th {\n",
       "        text-align: right;\n",
       "    }\n",
       "</style>\n",
       "<table border=\"1\" class=\"dataframe\">\n",
       "  <thead>\n",
       "    <tr style=\"text-align: right;\">\n",
       "      <th></th>\n",
       "      <th>Left</th>\n",
       "    </tr>\n",
       "  </thead>\n",
       "  <tbody>\n",
       "    <tr>\n",
       "      <th>0</th>\n",
       "      <td>1035</td>\n",
       "    </tr>\n",
       "    <tr>\n",
       "      <th>1</th>\n",
       "      <td>374</td>\n",
       "    </tr>\n",
       "  </tbody>\n",
       "</table>\n",
       "</div>"
      ],
      "text/plain": [
       "   Left\n",
       "0  1035\n",
       "1   374"
      ]
     },
     "execution_count": 58,
     "metadata": {},
     "output_type": "execute_result"
    }
   ],
   "source": [
    "pd.DataFrame(y_test.value_counts())"
   ]
  },
  {
   "cell_type": "code",
   "execution_count": 59,
   "id": "dcf248d6",
   "metadata": {},
   "outputs": [
    {
     "data": {
      "text/plain": [
       "Text(0.5, 1.0, 'StackingClassifier')"
      ]
     },
     "execution_count": 59,
     "metadata": {},
     "output_type": "execute_result"
    },
    {
     "data": {
      "image/png": "[encoded data removed]",
      "text/plain": [
       "<Figure size 1080x360 with 6 Axes>"
      ]
     },
     "metadata": {
      "needs_background": "light"
     },
     "output_type": "display_data"
    }
   ],
   "source": [
    "fig, ax= plt.subplots(1,3, figsize=(15,5))\n",
    "plot_confusion_matrix(gscv_lr, X_test, y_test, ax=ax[0], cmap='GnBu'); \n",
    "ax[0].set_title('LinearRegression')\n",
    "plot_confusion_matrix(xgb_gbc, X_test, y_test, ax=ax[1], cmap='GnBu'); \n",
    "ax[1].set_title('XGBClassifier')\n",
    "plot_confusion_matrix(vc, X_test, y_test, ax=ax[2], cmap='GnBu'); \n",
    "ax[2].set_title('StackingClassifier')"
   ]
  },
  {
   "cell_type": "markdown",
   "id": "12bc80df",
   "metadata": {},
   "source": [
    "Выводы: у линейной регрессии самое большое количество TP предсказаний, т.е. она находит много клиентов, которые  хотят уйти,  но при этом и довольно высока ошибка на FP, т.е. она заведомо большее количество людей подозревает в том что они уйдут.\n",
    "XGBClassifier и стекинговая модель из линейной регрессии и XGBClassifier показали очень близкие результаты. Не смотря на уменьшение количества TP, FP у них значительно ниже.   \n",
    "\n",
    "Посмотрим на остальные характеристики:"
   ]
  },
  {
   "cell_type": "code",
   "execution_count": 60,
   "id": "c576c648",
   "metadata": {},
   "outputs": [],
   "source": [
    "models=[gscv_lr,xgb_gbc,vc]\n",
    "names =['LinearRegression','XGBClassifier','StackingClassifier']\n",
    "results=[]\n",
    "for idx,model in enumerate(models):\n",
    "    pred=model.predict(X_test)\n",
    "    pp= model.predict_proba(X_test)[:,1]\n",
    "    results.append([names[idx], accuracy_score(y_test, pred), precision_score(y_test, pred), recall_score(y_test, pred), f1_score(y_test, pred), roc_auc_score(y_test,pp) ])"
   ]
  },
  {
   "cell_type": "code",
   "execution_count": 61,
   "id": "042bf08f",
   "metadata": {},
   "outputs": [
    {
     "data": {
      "text/html": [
       "<div>\n",
       "<style scoped>\n",
       "    .dataframe tbody tr th:only-of-type {\n",
       "        vertical-align: middle;\n",
       "    }\n",
       "\n",
       "    .dataframe tbody tr th {\n",
       "        vertical-align: top;\n",
       "    }\n",
       "\n",
       "    .dataframe thead th {\n",
       "        text-align: right;\n",
       "    }\n",
       "</style>\n",
       "<table border=\"1\" class=\"dataframe\">\n",
       "  <thead>\n",
       "    <tr style=\"text-align: right;\">\n",
       "      <th></th>\n",
       "      <th>Model</th>\n",
       "      <th>Accuracy</th>\n",
       "      <th>Precision</th>\n",
       "      <th>Recall</th>\n",
       "      <th>F1</th>\n",
       "      <th>ROC AUC</th>\n",
       "    </tr>\n",
       "  </thead>\n",
       "  <tbody>\n",
       "    <tr>\n",
       "      <th>2</th>\n",
       "      <td>StackingClassifier</td>\n",
       "      <td>0.867282</td>\n",
       "      <td>0.828070</td>\n",
       "      <td>0.631016</td>\n",
       "      <td>0.716237</td>\n",
       "      <td>0.910327</td>\n",
       "    </tr>\n",
       "    <tr>\n",
       "      <th>1</th>\n",
       "      <td>XGBClassifier</td>\n",
       "      <td>0.869411</td>\n",
       "      <td>0.834507</td>\n",
       "      <td>0.633690</td>\n",
       "      <td>0.720365</td>\n",
       "      <td>0.909805</td>\n",
       "    </tr>\n",
       "    <tr>\n",
       "      <th>0</th>\n",
       "      <td>LinearRegression</td>\n",
       "      <td>0.759404</td>\n",
       "      <td>0.530435</td>\n",
       "      <td>0.815508</td>\n",
       "      <td>0.642782</td>\n",
       "      <td>0.858745</td>\n",
       "    </tr>\n",
       "  </tbody>\n",
       "</table>\n",
       "</div>"
      ],
      "text/plain": [
       "                Model  Accuracy  Precision    Recall        F1   ROC AUC\n",
       "2  StackingClassifier  0.867282   0.828070  0.631016  0.716237  0.910327\n",
       "1       XGBClassifier  0.869411   0.834507  0.633690  0.720365  0.909805\n",
       "0    LinearRegression  0.759404   0.530435  0.815508  0.642782  0.858745"
      ]
     },
     "execution_count": 61,
     "metadata": {},
     "output_type": "execute_result"
    }
   ],
   "source": [
    "pd.DataFrame(results, columns=['Model','Accuracy','Precision','Recall','F1','ROC AUC']).sort_values(by='ROC AUC', ascending=False)"
   ]
  },
  {
   "cell_type": "markdown",
   "id": "95e9f04b",
   "metadata": {},
   "source": [
    "Вычислим все метрики и соотношения для лучшей модели при разных thresholds, отсортируем результаты по лучшему показателю Accuracy"
   ]
  },
  {
   "cell_type": "code",
   "execution_count": 62,
   "id": "a80a9b86",
   "metadata": {},
   "outputs": [],
   "source": [
    "predict_proba=vc.predict_proba(X_test)\n",
    "pp=predict_proba[:,1]\n",
    "results=[]\n",
    "for th in thresholds3:\n",
    "    pred = np.where(pp>th,1,0)\n",
    "    results.append([th,accuracy_score(y_test,pred), precision_score(y_test, pred), recall_score(y_test, pred), f1_score(y_test, pred), sum(np.where((y_test==1)&(pred==1),1,0)),sum(np.where((y_test==0)&(pred==0),1,0)),sum(np.where((y_test==1)&(pred==0),1,0)),sum(np.where((y_test==0)&(pred==1),1,0))])\n",
    "total=pd.DataFrame(results, columns=['Threshold','Accuracy','Precision','Recall','F1','TP','TN','FN','FP']).sort_values(by='Accuracy', ascending=False)"
   ]
  },
  {
   "cell_type": "code",
   "execution_count": 63,
   "id": "1c1fc62f",
   "metadata": {},
   "outputs": [
    {
     "data": {
      "text/html": [
       "<div>\n",
       "<style scoped>\n",
       "    .dataframe tbody tr th:only-of-type {\n",
       "        vertical-align: middle;\n",
       "    }\n",
       "\n",
       "    .dataframe tbody tr th {\n",
       "        vertical-align: top;\n",
       "    }\n",
       "\n",
       "    .dataframe thead th {\n",
       "        text-align: right;\n",
       "    }\n",
       "</style>\n",
       "<table border=\"1\" class=\"dataframe\">\n",
       "  <thead>\n",
       "    <tr style=\"text-align: right;\">\n",
       "      <th></th>\n",
       "      <th>Threshold</th>\n",
       "      <th>Accuracy</th>\n",
       "      <th>Precision</th>\n",
       "      <th>Recall</th>\n",
       "      <th>F1</th>\n",
       "      <th>TP</th>\n",
       "      <th>TN</th>\n",
       "      <th>FN</th>\n",
       "      <th>FP</th>\n",
       "    </tr>\n",
       "  </thead>\n",
       "  <tbody>\n",
       "    <tr>\n",
       "      <th>65</th>\n",
       "      <td>0.560962</td>\n",
       "      <td>0.869411</td>\n",
       "      <td>0.857143</td>\n",
       "      <td>0.609626</td>\n",
       "      <td>0.712500</td>\n",
       "      <td>228</td>\n",
       "      <td>997</td>\n",
       "      <td>146</td>\n",
       "      <td>38</td>\n",
       "    </tr>\n",
       "    <tr>\n",
       "      <th>63</th>\n",
       "      <td>0.568082</td>\n",
       "      <td>0.868701</td>\n",
       "      <td>0.859316</td>\n",
       "      <td>0.604278</td>\n",
       "      <td>0.709576</td>\n",
       "      <td>226</td>\n",
       "      <td>998</td>\n",
       "      <td>148</td>\n",
       "      <td>37</td>\n",
       "    </tr>\n",
       "    <tr>\n",
       "      <th>57</th>\n",
       "      <td>0.593564</td>\n",
       "      <td>0.868701</td>\n",
       "      <td>0.870588</td>\n",
       "      <td>0.593583</td>\n",
       "      <td>0.705882</td>\n",
       "      <td>222</td>\n",
       "      <td>1002</td>\n",
       "      <td>152</td>\n",
       "      <td>33</td>\n",
       "    </tr>\n",
       "    <tr>\n",
       "      <th>71</th>\n",
       "      <td>0.534868</td>\n",
       "      <td>0.868701</td>\n",
       "      <td>0.838710</td>\n",
       "      <td>0.625668</td>\n",
       "      <td>0.716692</td>\n",
       "      <td>234</td>\n",
       "      <td>990</td>\n",
       "      <td>140</td>\n",
       "      <td>45</td>\n",
       "    </tr>\n",
       "    <tr>\n",
       "      <th>70</th>\n",
       "      <td>0.542076</td>\n",
       "      <td>0.868701</td>\n",
       "      <td>0.841155</td>\n",
       "      <td>0.622995</td>\n",
       "      <td>0.715822</td>\n",
       "      <td>233</td>\n",
       "      <td>991</td>\n",
       "      <td>141</td>\n",
       "      <td>44</td>\n",
       "    </tr>\n",
       "  </tbody>\n",
       "</table>\n",
       "</div>"
      ],
      "text/plain": [
       "    Threshold  Accuracy  Precision    Recall        F1   TP    TN   FN  FP\n",
       "65   0.560962  0.869411   0.857143  0.609626  0.712500  228   997  146  38\n",
       "63   0.568082  0.868701   0.859316  0.604278  0.709576  226   998  148  37\n",
       "57   0.593564  0.868701   0.870588  0.593583  0.705882  222  1002  152  33\n",
       "71   0.534868  0.868701   0.838710  0.625668  0.716692  234   990  140  45\n",
       "70   0.542076  0.868701   0.841155  0.622995  0.715822  233   991  141  44"
      ]
     },
     "execution_count": 63,
     "metadata": {},
     "output_type": "execute_result"
    }
   ],
   "source": [
    "total.head()"
   ]
  },
  {
   "cell_type": "markdown",
   "id": "0dd413ef",
   "metadata": {},
   "source": [
    "### Промокод"
   ]
  },
  {
   "cell_type": "markdown",
   "id": "ffd9c561",
   "metadata": {},
   "source": [
    "Возьмем условный промокод на 15%, это минимальная сумма, которая считается психологически заметной для человека.\n",
    "Разобьем клиентов на 3 группы по виду используемого интернета и по типу оплаты и посчитаем потенциальный доход со следующей оплаты, допустив что условия его оплаты и тарифа не изменятся."
   ]
  },
  {
   "cell_type": "markdown",
   "id": "b3a61693",
   "metadata": {},
   "source": [
    "Таблица с разделением на 9 групп с потенциальным доходом (тратами клиента) и 15% купон на следующую оплату."
   ]
  },
  {
   "cell_type": "code",
   "execution_count": 64,
   "id": "99126d26",
   "metadata": {},
   "outputs": [
    {
     "data": {
      "text/html": [
       "<div>\n",
       "<style scoped>\n",
       "    .dataframe tbody tr th:only-of-type {\n",
       "        vertical-align: middle;\n",
       "    }\n",
       "\n",
       "    .dataframe tbody tr th {\n",
       "        vertical-align: top;\n",
       "    }\n",
       "\n",
       "    .dataframe thead th {\n",
       "        text-align: right;\n",
       "    }\n",
       "</style>\n",
       "<table border=\"1\" class=\"dataframe\">\n",
       "  <thead>\n",
       "    <tr style=\"text-align: right;\">\n",
       "      <th></th>\n",
       "      <th>Type</th>\n",
       "      <th>InternetService</th>\n",
       "      <th>MonthlyCharges</th>\n",
       "      <th>PotencialCharges</th>\n",
       "      <th>Discount</th>\n",
       "    </tr>\n",
       "  </thead>\n",
       "  <tbody>\n",
       "    <tr>\n",
       "      <th>0</th>\n",
       "      <td>Month-to-month</td>\n",
       "      <td>DSL</td>\n",
       "      <td>50.219501</td>\n",
       "      <td>50.219501</td>\n",
       "      <td>7.532925</td>\n",
       "    </tr>\n",
       "    <tr>\n",
       "      <th>1</th>\n",
       "      <td>Month-to-month</td>\n",
       "      <td>Fiber optic</td>\n",
       "      <td>87.021194</td>\n",
       "      <td>87.021194</td>\n",
       "      <td>13.053179</td>\n",
       "    </tr>\n",
       "    <tr>\n",
       "      <th>2</th>\n",
       "      <td>Month-to-month</td>\n",
       "      <td>No Internet</td>\n",
       "      <td>20.409542</td>\n",
       "      <td>20.409542</td>\n",
       "      <td>3.061431</td>\n",
       "    </tr>\n",
       "    <tr>\n",
       "      <th>3</th>\n",
       "      <td>One year</td>\n",
       "      <td>DSL</td>\n",
       "      <td>61.396755</td>\n",
       "      <td>736.761063</td>\n",
       "      <td>110.514159</td>\n",
       "    </tr>\n",
       "    <tr>\n",
       "      <th>4</th>\n",
       "      <td>One year</td>\n",
       "      <td>Fiber optic</td>\n",
       "      <td>98.779503</td>\n",
       "      <td>1185.354034</td>\n",
       "      <td>177.803105</td>\n",
       "    </tr>\n",
       "    <tr>\n",
       "      <th>5</th>\n",
       "      <td>One year</td>\n",
       "      <td>No Internet</td>\n",
       "      <td>20.819506</td>\n",
       "      <td>249.834068</td>\n",
       "      <td>37.475110</td>\n",
       "    </tr>\n",
       "    <tr>\n",
       "      <th>6</th>\n",
       "      <td>Two year</td>\n",
       "      <td>DSL</td>\n",
       "      <td>70.462975</td>\n",
       "      <td>1691.111389</td>\n",
       "      <td>253.666708</td>\n",
       "    </tr>\n",
       "    <tr>\n",
       "      <th>7</th>\n",
       "      <td>Two year</td>\n",
       "      <td>Fiber optic</td>\n",
       "      <td>104.571442</td>\n",
       "      <td>2509.714600</td>\n",
       "      <td>376.457190</td>\n",
       "    </tr>\n",
       "    <tr>\n",
       "      <th>8</th>\n",
       "      <td>Two year</td>\n",
       "      <td>No Internet</td>\n",
       "      <td>21.777351</td>\n",
       "      <td>522.656433</td>\n",
       "      <td>78.398465</td>\n",
       "    </tr>\n",
       "  </tbody>\n",
       "</table>\n",
       "</div>"
      ],
      "text/plain": [
       "             Type InternetService  MonthlyCharges  PotencialCharges  \\\n",
       "0  Month-to-month             DSL       50.219501         50.219501   \n",
       "1  Month-to-month     Fiber optic       87.021194         87.021194   \n",
       "2  Month-to-month     No Internet       20.409542         20.409542   \n",
       "3        One year             DSL       61.396755        736.761063   \n",
       "4        One year     Fiber optic       98.779503       1185.354034   \n",
       "5        One year     No Internet       20.819506        249.834068   \n",
       "6        Two year             DSL       70.462975       1691.111389   \n",
       "7        Two year     Fiber optic      104.571442       2509.714600   \n",
       "8        Two year     No Internet       21.777351        522.656433   \n",
       "\n",
       "     Discount  \n",
       "0    7.532925  \n",
       "1   13.053179  \n",
       "2    3.061431  \n",
       "3  110.514159  \n",
       "4  177.803105  \n",
       "5   37.475110  \n",
       "6  253.666708  \n",
       "7  376.457190  \n",
       "8   78.398465  "
      ]
     },
     "execution_count": 64,
     "metadata": {},
     "output_type": "execute_result"
    }
   ],
   "source": [
    "df_potencial=pd.DataFrame(df_backup.groupby(['Type','InternetService'])['MonthlyCharges'].mean()).reset_index()\n",
    "df_potencial['PotencialCharges']=df_potencial.apply(lambda x: x['MonthlyCharges']*12 if x['Type'].split(' ')[0]=='One' else x['MonthlyCharges']*24 if x['Type'].split(' ')[0]=='Two' else x['MonthlyCharges'], axis=1)\n",
    "df_potencial['Discount']=df_potencial['PotencialCharges']*0.15\n",
    "df_potencial"
   ]
  },
  {
   "cell_type": "markdown",
   "id": "3dffaeba",
   "metadata": {},
   "source": [
    "Функции разбиения на группы тестовой выборки и получения потенциальной прибыли и скидки"
   ]
  },
  {
   "cell_type": "code",
   "execution_count": 65,
   "id": "d09c63ea",
   "metadata": {},
   "outputs": [],
   "source": [
    "def getClientTypePair(pType):\n",
    "    df_joined= X_test.join(df_backup[['Type','InternetService']]).join(pd.Series(y_test)).join(pd.DataFrame(predict_proba, columns=['Prediction','Probability'], index=y_test.index))\n",
    "    if pType==0:\n",
    "        return df_joined.loc[(df_joined['Type']=='Month-to-month')&(df_joined['InternetService']=='DSL'),['Left','Prediction','Probability']]\n",
    "    elif pType==1:\n",
    "        return df_joined.loc[(df_joined['Type']=='Month-to-month')&(df_joined['InternetService']=='Fiber optic'),['Left','Prediction','Probability']]\n",
    "    elif pType==2:\n",
    "        return df_joined.loc[(df_joined['Type']=='Month-to-month')&(df_joined['InternetService']=='No Internet'),['Left','Prediction','Probability']]\n",
    "    elif pType==3:\n",
    "        return df_joined.loc[(df_joined['Type']=='One year')&(df_joined['InternetService']=='DSL'),['Left','Prediction','Probability']]\n",
    "    elif pType==4:\n",
    "        return df_joined.loc[(df_joined['Type']=='One year')&(df_joined['InternetService']=='Fiber optic'),['Left','Prediction','Probability']]\n",
    "    elif pType==5:\n",
    "        return df_joined.loc[(df_joined['Type']=='One year')&(df_joined['InternetService']=='No Internet'),['Left','Prediction','Probability']]\n",
    "    elif pType==6:\n",
    "        return df_joined.loc[(df_joined['Type']=='Two year')&(df_joined['InternetService']=='DSL'),['Left','Prediction','Probability']]\n",
    "    elif pType==7:\n",
    "        return df_joined.loc[(df_joined['Type']=='Two year')&(df_joined['InternetService']=='Fiber optic'),['Left','Prediction','Probability']]\n",
    "    else:\n",
    "        return df_joined.loc[(df_joined['Type']=='Two year')&(df_joined['InternetService']=='No Internet'),['Left','Prediction','Probability']]\n",
    "def getCharges(pType):\n",
    "    if pType==0:\n",
    "        return df_potencial.loc[(df_potencial['Type']=='Month-to-month')&(df_potencial['InternetService']=='DSL'),['PotencialCharges','Discount']]\n",
    "    elif pType==1:\n",
    "        return df_potencial.loc[(df_potencial['Type']=='Month-to-month')&(df_potencial['InternetService']=='Fiber optic'),['PotencialCharges','Discount']]\n",
    "    elif pType==2:\n",
    "        return df_potencial.loc[(df_potencial['Type']=='Month-to-month')&(df_potencial['InternetService']=='No Internet'),['PotencialCharges','Discount']]\n",
    "    elif pType==3:\n",
    "        return df_potencial.loc[(df_potencial['Type']=='One year')&(df_potencial['InternetService']=='DSL'),['PotencialCharges','Discount']]\n",
    "    elif pType==4:\n",
    "        return df_potencial.loc[(df_potencial['Type']=='One year')&(df_potencial['InternetService']=='Fiber optic'),['PotencialCharges','Discount']]\n",
    "    elif pType==5:\n",
    "        return df_potencial.loc[(df_potencial['Type']=='One year')&(df_potencial['InternetService']=='No Internet'),['PotencialCharges','Discount']]\n",
    "    elif pType==6:\n",
    "        return df_potencial.loc[(df_potencial['Type']=='Two year')&(df_potencial['InternetService']=='DSL'),['PotencialCharges','Discount']]\n",
    "    elif pType==7:\n",
    "        return df_potencial.loc[(df_potencial['Type']=='Two year')&(df_potencial['InternetService']=='Fiber optic'),['PotencialCharges','Discount']]\n",
    "    else:\n",
    "        return df_potencial.loc[(df_potencial['Type']=='Two year')&(df_potencial['InternetService']=='No Internet'),['PotencialCharges','Discount']]"
   ]
  },
  {
   "cell_type": "markdown",
   "id": "0abfa088",
   "metadata": {},
   "source": [
    "Посчитаем потенциальную прибыль при различных threshold для клиентов из каждой группы, будем выбирать только показатель максимальной прибыли."
   ]
  },
  {
   "cell_type": "code",
   "execution_count": 67,
   "id": "1db0539d",
   "metadata": {},
   "outputs": [
    {
     "data": {
      "text/html": [
       "<div>\n",
       "<style scoped>\n",
       "    .dataframe tbody tr th:only-of-type {\n",
       "        vertical-align: middle;\n",
       "    }\n",
       "\n",
       "    .dataframe tbody tr th {\n",
       "        vertical-align: top;\n",
       "    }\n",
       "\n",
       "    .dataframe thead th {\n",
       "        text-align: right;\n",
       "    }\n",
       "</style>\n",
       "<table border=\"1\" class=\"dataframe\">\n",
       "  <thead>\n",
       "    <tr style=\"text-align: right;\">\n",
       "      <th></th>\n",
       "      <th>Threshold</th>\n",
       "      <th>Accuracy</th>\n",
       "      <th>Precision</th>\n",
       "      <th>Recall</th>\n",
       "      <th>F1</th>\n",
       "      <th>TP</th>\n",
       "      <th>TN</th>\n",
       "      <th>FN</th>\n",
       "      <th>FP</th>\n",
       "      <th>Income</th>\n",
       "      <th>group</th>\n",
       "    </tr>\n",
       "  </thead>\n",
       "  <tbody>\n",
       "    <tr>\n",
       "      <th>161</th>\n",
       "      <td>0.220118</td>\n",
       "      <td>0.770492</td>\n",
       "      <td>0.593750</td>\n",
       "      <td>0.770270</td>\n",
       "      <td>0.670588</td>\n",
       "      <td>57</td>\n",
       "      <td>131</td>\n",
       "      <td>17</td>\n",
       "      <td>39</td>\n",
       "      <td>7306.937468</td>\n",
       "      <td>0</td>\n",
       "    </tr>\n",
       "    <tr>\n",
       "      <th>121</th>\n",
       "      <td>0.312433</td>\n",
       "      <td>0.767901</td>\n",
       "      <td>0.753623</td>\n",
       "      <td>0.888889</td>\n",
       "      <td>0.815686</td>\n",
       "      <td>208</td>\n",
       "      <td>103</td>\n",
       "      <td>26</td>\n",
       "      <td>68</td>\n",
       "      <td>22568.946783</td>\n",
       "      <td>1</td>\n",
       "    </tr>\n",
       "    <tr>\n",
       "      <th>176</th>\n",
       "      <td>0.195146</td>\n",
       "      <td>0.893204</td>\n",
       "      <td>0.846154</td>\n",
       "      <td>0.550000</td>\n",
       "      <td>0.666667</td>\n",
       "      <td>11</td>\n",
       "      <td>81</td>\n",
       "      <td>9</td>\n",
       "      <td>2</td>\n",
       "      <td>1439.893194</td>\n",
       "      <td>2</td>\n",
       "    </tr>\n",
       "    <tr>\n",
       "      <th>139</th>\n",
       "      <td>0.265196</td>\n",
       "      <td>0.921739</td>\n",
       "      <td>1.000000</td>\n",
       "      <td>0.307692</td>\n",
       "      <td>0.470588</td>\n",
       "      <td>4</td>\n",
       "      <td>102</td>\n",
       "      <td>9</td>\n",
       "      <td>0</td>\n",
       "      <td>60193.378816</td>\n",
       "      <td>3</td>\n",
       "    </tr>\n",
       "    <tr>\n",
       "      <th>134</th>\n",
       "      <td>0.274217</td>\n",
       "      <td>0.852174</td>\n",
       "      <td>0.642857</td>\n",
       "      <td>0.428571</td>\n",
       "      <td>0.514286</td>\n",
       "      <td>9</td>\n",
       "      <td>89</td>\n",
       "      <td>12</td>\n",
       "      <td>5</td>\n",
       "      <td>85226.955075</td>\n",
       "      <td>4</td>\n",
       "    </tr>\n",
       "    <tr>\n",
       "      <th>63</th>\n",
       "      <td>0.563806</td>\n",
       "      <td>0.985294</td>\n",
       "      <td>1.000000</td>\n",
       "      <td>0.500000</td>\n",
       "      <td>0.666667</td>\n",
       "      <td>1</td>\n",
       "      <td>66</td>\n",
       "      <td>1</td>\n",
       "      <td>0</td>\n",
       "      <td>14015.691232</td>\n",
       "      <td>5</td>\n",
       "    </tr>\n",
       "    <tr>\n",
       "      <th>0</th>\n",
       "      <td>0.952327</td>\n",
       "      <td>0.992126</td>\n",
       "      <td>0.000000</td>\n",
       "      <td>0.000000</td>\n",
       "      <td>0.000000</td>\n",
       "      <td>0</td>\n",
       "      <td>126</td>\n",
       "      <td>1</td>\n",
       "      <td>0</td>\n",
       "      <td>179426.918390</td>\n",
       "      <td>6</td>\n",
       "    </tr>\n",
       "    <tr>\n",
       "      <th>0</th>\n",
       "      <td>0.952327</td>\n",
       "      <td>0.921348</td>\n",
       "      <td>0.000000</td>\n",
       "      <td>0.000000</td>\n",
       "      <td>0.000000</td>\n",
       "      <td>0</td>\n",
       "      <td>82</td>\n",
       "      <td>7</td>\n",
       "      <td>0</td>\n",
       "      <td>157359.105396</td>\n",
       "      <td>7</td>\n",
       "    </tr>\n",
       "    <tr>\n",
       "      <th>0</th>\n",
       "      <td>0.952327</td>\n",
       "      <td>0.986014</td>\n",
       "      <td>0.000000</td>\n",
       "      <td>0.000000</td>\n",
       "      <td>0.000000</td>\n",
       "      <td>0</td>\n",
       "      <td>141</td>\n",
       "      <td>2</td>\n",
       "      <td>0</td>\n",
       "      <td>61595.060641</td>\n",
       "      <td>8</td>\n",
       "    </tr>\n",
       "  </tbody>\n",
       "</table>\n",
       "</div>"
      ],
      "text/plain": [
       "     Threshold  Accuracy  Precision    Recall        F1   TP   TN  FN  FP  \\\n",
       "161   0.220118  0.770492   0.593750  0.770270  0.670588   57  131  17  39   \n",
       "121   0.312433  0.767901   0.753623  0.888889  0.815686  208  103  26  68   \n",
       "176   0.195146  0.893204   0.846154  0.550000  0.666667   11   81   9   2   \n",
       "139   0.265196  0.921739   1.000000  0.307692  0.470588    4  102   9   0   \n",
       "134   0.274217  0.852174   0.642857  0.428571  0.514286    9   89  12   5   \n",
       "63    0.563806  0.985294   1.000000  0.500000  0.666667    1   66   1   0   \n",
       "0     0.952327  0.992126   0.000000  0.000000  0.000000    0  126   1   0   \n",
       "0     0.952327  0.921348   0.000000  0.000000  0.000000    0   82   7   0   \n",
       "0     0.952327  0.986014   0.000000  0.000000  0.000000    0  141   2   0   \n",
       "\n",
       "            Income  group  \n",
       "161    7306.937468      0  \n",
       "121   22568.946783      1  \n",
       "176    1439.893194      2  \n",
       "139   60193.378816      3  \n",
       "134   85226.955075      4  \n",
       "63    14015.691232      5  \n",
       "0    179426.918390      6  \n",
       "0    157359.105396      7  \n",
       "0     61595.060641      8  "
      ]
     },
     "execution_count": 67,
     "metadata": {},
     "output_type": "execute_result"
    }
   ],
   "source": [
    "df_optimal_thresholds=pd.DataFrame()\n",
    "for ptype in range(0,9):\n",
    "    t= getClientTypePair(ptype)['Left']\n",
    "    pp= getClientTypePair(ptype)['Probability'].values\n",
    "    results=[]\n",
    "    for th in thresholds3[1:]:\n",
    "        pred = np.where(pp>th,1,0)\n",
    "        results.append([th,accuracy_score(t,pred), precision_score(t, pred), recall_score(t, pred), f1_score(t, pred), sum(np.where((t==1)&(pred==1),1,0)),sum(np.where((t==0)&(pred==0),1,0)),sum(np.where((t==1)&(pred==0),1,0)),sum(np.where((t==0)&(pred==1),1,0))])\n",
    "    total=pd.DataFrame(results, columns=['Threshold','Accuracy','Precision','Recall','F1','TP','TN','FN','FP']).sort_values(by='Accuracy', ascending=False)\n",
    "    pc= getCharges(ptype)['PotencialCharges'].values # потенциальная прибыль\n",
    "    d=  getCharges(ptype)['Discount'].values # скидка\n",
    "    total['Income'] =total['TP']*pc +total['TN']*(pc-d)-total['FN']*pc-total['FP']*d  # прибыль\n",
    "    total['group']=ptype # группа, к которой относится клиент\n",
    "    df_optimal_thresholds=pd.concat([df_optimal_thresholds,total.sort_values(by='Income', ascending=False).head(1)])\n",
    "df_optimal_thresholds"
   ]
  },
  {
   "cell_type": "markdown",
   "id": "2b135c93",
   "metadata": {},
   "source": [
    "### Общие итоги"
   ]
  },
  {
   "cell_type": "markdown",
   "id": "59a39bf1",
   "metadata": {},
   "source": [
    "В целом по результатам анализа понятно какие клиенты потенциально более склонны к смене оператора и каких их них нужно сохранять прежде всего. (см Портрет самого ценного клиента). Разработана система купонов для 9 групп пользователей из группы риска, а также рассчитаны оптимальные величины пороговых значений модели для каждой группы исходя из максимально возможной прибыли. Также можно отметить что наблюдается большое количество \"кратковременных\" клиентов, которые попробовали услуги, но почему-то ушли. Причины этому могут быть разные: качество услуг, предложения конкурентов и т.д., в любом случае на это стоит обратить внимание."
   ]
  }
 ],
 "metadata": {
  "celltoolbar": "Необработанный формат ячейки",
  "kernelspec": {
   "display_name": "Python 3",
   "language": "python",
   "name": "python3"
  },
  "language_info": {
   "codemirror_mode": {
    "name": "ipython",
    "version": 3
   },
   "file_extension": ".py",
   "mimetype": "text/x-python",
   "name": "python",
   "nbconvert_exporter": "python",
   "pygments_lexer": "ipython3",
   "version": "3.8.8"
  }
 },
 "nbformat": 4,
 "nbformat_minor": 5
}
